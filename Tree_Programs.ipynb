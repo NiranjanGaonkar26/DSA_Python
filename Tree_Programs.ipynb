{
 "cells": [
  {
   "cell_type": "code",
   "execution_count": 1,
   "id": "dd936f46",
   "metadata": {},
   "outputs": [],
   "source": [
    "#Binary tree node structure\n",
    "class Node:\n",
    "    def __init__(self, data):\n",
    "        self.left = None\n",
    "        self.right = None\n",
    "        self.data = data"
   ]
  },
  {
   "cell_type": "code",
   "execution_count": 2,
   "id": "158465f2",
   "metadata": {},
   "outputs": [],
   "source": [
    "#sample binary tree                             #10\n",
    "root = Node(10)                             #20      30\n",
    "root.left = Node(20)                     \n",
    "root.right = Node(30)"
   ]
  },
  {
   "cell_type": "markdown",
   "id": "a07c3d6e",
   "metadata": {},
   "source": [
    "Depth First Traversals"
   ]
  },
  {
   "cell_type": "code",
   "execution_count": 3,
   "id": "186e3c23",
   "metadata": {},
   "outputs": [],
   "source": [
    "#Sample tree used for traversals\n",
    "root1 = Node(10)\n",
    "root1.left = Node(20)\n",
    "root1.right = Node(30)\n",
    "root1.right.left = Node(40)\n",
    "root1.right.right = Node(50)"
   ]
  },
  {
   "cell_type": "code",
   "execution_count": 4,
   "id": "ce89e31c",
   "metadata": {},
   "outputs": [
    {
     "name": "stdout",
     "output_type": "stream",
     "text": [
      "20\n",
      "10\n",
      "40\n",
      "30\n",
      "50\n"
     ]
    }
   ],
   "source": [
    "#Inorder Traversal - Time: O(Nodes), Space: O(height of tree)\n",
    "def Inorder(root):\n",
    "    if root == None:\n",
    "        return\n",
    "    Inorder(root.left)\n",
    "    print(root.data)\n",
    "    Inorder(root.right)\n",
    "    \n",
    "Inorder(root1)   "
   ]
  },
  {
   "cell_type": "code",
   "execution_count": 5,
   "id": "6c671f03",
   "metadata": {},
   "outputs": [
    {
     "name": "stdout",
     "output_type": "stream",
     "text": [
      "10\n",
      "20\n",
      "30\n",
      "40\n",
      "50\n"
     ]
    }
   ],
   "source": [
    "#Preorder Traversal - Time: O(Nodes), Space: O(height of tree)\n",
    "def Preorder(root):\n",
    "    if root == None:\n",
    "        return\n",
    "    print(root.data)\n",
    "    Preorder(root.left)\n",
    "    Preorder(root.right)\n",
    "    \n",
    "Preorder(root1)"
   ]
  },
  {
   "cell_type": "code",
   "execution_count": 6,
   "id": "2988ddda",
   "metadata": {},
   "outputs": [
    {
     "name": "stdout",
     "output_type": "stream",
     "text": [
      "20\n",
      "40\n",
      "50\n",
      "30\n",
      "10\n"
     ]
    }
   ],
   "source": [
    "#Postorder Traversal - Time: O(Nodes), Space: O(height of tree)\n",
    "def Postorder(root):\n",
    "    if root == None:\n",
    "        return\n",
    "    Postorder(root.left)\n",
    "    Postorder(root.right)\n",
    "    print(root.data)\n",
    "    \n",
    "Postorder(root1)"
   ]
  },
  {
   "cell_type": "markdown",
   "id": "3f8b0f46",
   "metadata": {},
   "source": [
    "Pgm1: Find the height of a binary tree"
   ]
  },
  {
   "cell_type": "code",
   "execution_count": 7,
   "id": "16f66b7d",
   "metadata": {},
   "outputs": [
    {
     "name": "stdout",
     "output_type": "stream",
     "text": [
      "2\n",
      "3\n"
     ]
    }
   ],
   "source": [
    "#Time: O(Nodes), Space: O(height of tree)\n",
    "def heightOfBinaryTree(root):\n",
    "    if root == None:\n",
    "        return 0\n",
    "    if root.left == None and root.right == None:\n",
    "        return 1\n",
    "    \n",
    "    leftSubtreeHeight = heightOfBinaryTree(root.left)\n",
    "    rightSubtreeHeight = heightOfBinaryTree(root.right)\n",
    "    return 1 + max(leftSubtreeHeight, rightSubtreeHeight)\n",
    "\n",
    "print(heightOfBinaryTree(root))\n",
    "print(heightOfBinaryTree(root1))"
   ]
  },
  {
   "cell_type": "markdown",
   "id": "275384cc",
   "metadata": {},
   "source": [
    "Pgm 2: Print nodes at distance k(number of edges) from root. Assume k<=height of the tree"
   ]
  },
  {
   "cell_type": "code",
   "execution_count": 11,
   "id": "5a650b73",
   "metadata": {},
   "outputs": [
    {
     "name": "stdout",
     "output_type": "stream",
     "text": [
      "Nodes at distance 2:\n",
      "40 50 \n",
      "Nodes at distance 0:\n",
      "10 \n",
      "Nodes at distance 1:\n",
      "20 30 "
     ]
    }
   ],
   "source": [
    "def distanceKNodes(root, k):\n",
    "    if root == None:\n",
    "        return\n",
    "    elif k == 0:\n",
    "        print(root.data,end=\" \")\n",
    "        return\n",
    "    else:\n",
    "        distanceKNodes(root.left, k-1)\n",
    "        distanceKNodes(root.right, k-1)\n",
    "        \n",
    "print(\"Nodes at distance 2:\")\n",
    "distanceKNodes(root1, 2)\n",
    "print(\"\\nNodes at distance 0:\")\n",
    "distanceKNodes(root1, 0)\n",
    "print(\"\\nNodes at distance 1:\")\n",
    "distanceKNodes(root1, 1)"
   ]
  },
  {
   "cell_type": "markdown",
   "id": "1afc3c5f",
   "metadata": {},
   "source": [
    "Pgm 3: Level order traversal of Binary tree"
   ]
  },
  {
   "cell_type": "code",
   "execution_count": 12,
   "id": "98777b0b",
   "metadata": {},
   "outputs": [
    {
     "name": "stdout",
     "output_type": "stream",
     "text": [
      "10 20 30 40 50 "
     ]
    }
   ],
   "source": [
    "#Approach 1: find the height of the tree, print nodes at distance k = 0,1,...height - 1\n",
    "def levelOrder(root):\n",
    "    height = heightOfBinaryTree(root)\n",
    "    for k in range(0, height):\n",
    "        distanceKNodes(root, k)\n",
    "\n",
    "levelOrder(root1)"
   ]
  },
  {
   "cell_type": "code",
   "execution_count": null,
   "id": "59641808",
   "metadata": {},
   "outputs": [
    {
     "name": "stdout",
     "output_type": "stream",
     "text": [
      "10 20 30 \n",
      "10 20 30 40 50 "
     ]
    }
   ],
   "source": [
    "#Optimal Approach: BFS using queue. Time: O(N), Space: O(N)\n",
    "from collections import deque\n",
    "def BFS(root):\n",
    "    if root == None:\n",
    "        return\n",
    "    Q = deque()\n",
    "    Q.append(root)\n",
    "    while len(Q) != 0:\n",
    "        poppedNode = Q.popleft()\n",
    "        print(poppedNode.data, end=\" \")\n",
    "        if poppedNode.left is not None:\n",
    "            Q.append(poppedNode.left)\n",
    "        if poppedNode.right is not None:\n",
    "            Q.append(poppedNode.right)\n",
    "            \n",
    "BFS(root)\n",
    "print()\n",
    "BFS(root1)"
   ]
  },
  {
   "cell_type": "markdown",
   "id": "994e1e6a",
   "metadata": {},
   "source": [
    "Pgm 4: Size of the Binary Tree(i.e number of nodes in the BT)"
   ]
  },
  {
   "cell_type": "code",
   "execution_count": null,
   "id": "8e5dda90",
   "metadata": {},
   "outputs": [
    {
     "name": "stdout",
     "output_type": "stream",
     "text": [
      "3\n",
      "5\n"
     ]
    }
   ],
   "source": [
    "#Time: O(Nodes), Space: O(height)\n",
    "def sizeBT(root):\n",
    "    if root == None:\n",
    "        return 0\n",
    "    if root.left == None and root.right == None:\n",
    "        return 1\n",
    "    else:\n",
    "        leftSubtreeCount = sizeBT(root.left)\n",
    "        rightSubtreeCount = sizeBT(root.right)\n",
    "        return 1 + leftSubtreeCount + rightSubtreeCount \n",
    "\n",
    "print(sizeBT(root))\n",
    "print(sizeBT(root1))"
   ]
  },
  {
   "cell_type": "markdown",
   "id": "09cc93ef",
   "metadata": {},
   "source": [
    "Pgm 5: Find the maximum node in a binary tree"
   ]
  },
  {
   "cell_type": "code",
   "execution_count": null,
   "id": "8bf13083",
   "metadata": {},
   "outputs": [
    {
     "name": "stdout",
     "output_type": "stream",
     "text": [
      "30\n",
      "50\n"
     ]
    }
   ],
   "source": [
    "#Time: O(Nodes), Space: O(height)\n",
    "import math\n",
    "def maxNode(root):\n",
    "    minusInfinity = -math.inf\n",
    "    if root == None:\n",
    "        return minusInfinity\n",
    "    elif root.left == None and root.right == None:\n",
    "        return root.data\n",
    "    else:\n",
    "        leftSubtreeMax = maxNode(root.left)\n",
    "        rightSubtreeMax = maxNode(root.right)\n",
    "        return max(root.data, leftSubtreeMax, rightSubtreeMax)\n",
    "    \n",
    "print(maxNode(root))\n",
    "print(maxNode(root1))"
   ]
  },
  {
   "cell_type": "markdown",
   "id": "313ba4d9",
   "metadata": {},
   "source": [
    "Pgm 6: Search in Binary tree"
   ]
  },
  {
   "cell_type": "code",
   "execution_count": 22,
   "id": "2a0fb869",
   "metadata": {},
   "outputs": [
    {
     "name": "stdout",
     "output_type": "stream",
     "text": [
      "True\n",
      "False\n"
     ]
    }
   ],
   "source": [
    "def searchBinaryTree(root, key):\n",
    "    if root == None:\n",
    "        return False\n",
    "    else:\n",
    "        if key == root.data:\n",
    "            return True\n",
    "        if (searchBinaryTree(root.left, key)):\n",
    "            return True\n",
    "        else:\n",
    "            return searchBinaryTree(root.right, key)\n",
    "    \n",
    "print(searchBinaryTree(root1, 30))\n",
    "print(searchBinaryTree(root1, 100))\n"
   ]
  },
  {
   "cell_type": "code",
   "execution_count": 23,
   "id": "b14f4858",
   "metadata": {},
   "outputs": [
    {
     "name": "stdout",
     "output_type": "stream",
     "text": [
      "True\n",
      "False\n"
     ]
    }
   ],
   "source": [
    "def searchBinaryTree1(root, key):\n",
    "    if root == None:\n",
    "        return False\n",
    "    else:\n",
    "        if key == root.data:\n",
    "            return True\n",
    "        else:\n",
    "            LSSearch = searchBinaryTree1(root.left, key)\n",
    "            RSSearch = searchBinaryTree(root.right, key)\n",
    "            return (LSSearch or RSSearch)\n",
    "\n",
    "print(searchBinaryTree(root1, 30))\n",
    "print(searchBinaryTree(root1, 100))"
   ]
  },
  {
   "cell_type": "code",
   "execution_count": null,
   "id": "ce347ab8",
   "metadata": {},
   "outputs": [],
   "source": []
  }
 ],
 "metadata": {
  "kernelspec": {
   "display_name": "base",
   "language": "python",
   "name": "python3"
  },
  "language_info": {
   "codemirror_mode": {
    "name": "ipython",
    "version": 3
   },
   "file_extension": ".py",
   "mimetype": "text/x-python",
   "name": "python",
   "nbconvert_exporter": "python",
   "pygments_lexer": "ipython3",
   "version": "3.11.8"
  }
 },
 "nbformat": 4,
 "nbformat_minor": 5
}
