{
 "cells": [
  {
   "cell_type": "code",
   "execution_count": 3,
   "id": "dd936f46",
   "metadata": {},
   "outputs": [],
   "source": [
    "#Binary tree node structure\n",
    "class Node:\n",
    "    def __init__(self, data):\n",
    "        self.left = None\n",
    "        self.right = None\n",
    "        self.data = data"
   ]
  },
  {
   "cell_type": "code",
   "execution_count": 10,
   "id": "158465f2",
   "metadata": {},
   "outputs": [],
   "source": [
    "#sample binary tree                             #10\n",
    "root = Node(10)                             #20      30\n",
    "root.left = Node(20)                     \n",
    "root.right = Node(30)"
   ]
  },
  {
   "cell_type": "markdown",
   "id": "a07c3d6e",
   "metadata": {},
   "source": [
    "Depth First Traversals"
   ]
  },
  {
   "cell_type": "code",
   "execution_count": 5,
   "id": "186e3c23",
   "metadata": {},
   "outputs": [],
   "source": [
    "#Sample tree used for traversals\n",
    "root1 = Node(10)\n",
    "root1.left = Node(20)\n",
    "root1.right = Node(30)\n",
    "root1.right.left = Node(40)\n",
    "root1.right.right = Node(50)"
   ]
  },
  {
   "cell_type": "code",
   "execution_count": null,
   "id": "ce89e31c",
   "metadata": {},
   "outputs": [
    {
     "name": "stdout",
     "output_type": "stream",
     "text": [
      "20\n",
      "10\n",
      "40\n",
      "30\n",
      "50\n"
     ]
    }
   ],
   "source": [
    "#Inorder Traversal - Time: O(Nodes), Space: O(height of tree)\n",
    "def Inorder(root):\n",
    "    if root == None:\n",
    "        return\n",
    "    Inorder(root.left)\n",
    "    print(root.data)\n",
    "    Inorder(root.right)\n",
    "    \n",
    "Inorder(root1)   "
   ]
  },
  {
   "cell_type": "code",
   "execution_count": null,
   "id": "6c671f03",
   "metadata": {},
   "outputs": [
    {
     "name": "stdout",
     "output_type": "stream",
     "text": [
      "10\n",
      "20\n",
      "30\n",
      "40\n",
      "50\n"
     ]
    }
   ],
   "source": [
    "#Preorder Traversal - Time: O(Nodes), Space: O(height of tree)\n",
    "def Preorder(root):\n",
    "    if root == None:\n",
    "        return\n",
    "    print(root.data)\n",
    "    Preorder(root.left)\n",
    "    Preorder(root.right)\n",
    "    \n",
    "Preorder(root1)"
   ]
  },
  {
   "cell_type": "code",
   "execution_count": 8,
   "id": "2988ddda",
   "metadata": {},
   "outputs": [
    {
     "name": "stdout",
     "output_type": "stream",
     "text": [
      "20\n",
      "40\n",
      "50\n",
      "30\n",
      "10\n"
     ]
    }
   ],
   "source": [
    "#Postorder Traversal - Time: O(Nodes), Space: O(height of tree)\n",
    "def Postorder(root):\n",
    "    if root == None:\n",
    "        return\n",
    "    Postorder(root.left)\n",
    "    Postorder(root.right)\n",
    "    print(root.data)\n",
    "    \n",
    "Postorder(root1)"
   ]
  },
  {
   "cell_type": "markdown",
   "id": "3f8b0f46",
   "metadata": {},
   "source": [
    "Pgm1: Find the height of a binary tree"
   ]
  },
  {
   "cell_type": "code",
   "execution_count": null,
   "id": "16f66b7d",
   "metadata": {},
   "outputs": [
    {
     "name": "stdout",
     "output_type": "stream",
     "text": [
      "2\n",
      "3\n"
     ]
    }
   ],
   "source": [
    "#Time: O(Nodes), Space: O(height of tree)\n",
    "def heightOfBinaryTree(root):\n",
    "    if root == None:\n",
    "        return 0\n",
    "    if root.left == None and root.right == None:\n",
    "        return 1\n",
    "    \n",
    "    leftSubtreeHeight = heightOfBinaryTree(root.left)\n",
    "    rightSubtreeHeight = heightOfBinaryTree(root.right)\n",
    "    return 1 + max(leftSubtreeHeight, rightSubtreeHeight)\n",
    "\n",
    "print(heightOfBinaryTree(root))\n",
    "print(heightOfBinaryTree(root1))"
   ]
  },
  {
   "cell_type": "markdown",
   "id": "275384cc",
   "metadata": {},
   "source": [
    "Pgm 2: Print nodes at distance k(number of edges) from root. Assume k<=height of the tree"
   ]
  },
  {
   "cell_type": "code",
   "execution_count": 16,
   "id": "5a650b73",
   "metadata": {},
   "outputs": [
    {
     "name": "stdout",
     "output_type": "stream",
     "text": [
      "Nodes at distance 2:\n",
      "40\n",
      "50\n",
      "Nodes at distance 0:\n",
      "10\n",
      "Nodes at distance 1:\n",
      "20\n",
      "30\n"
     ]
    }
   ],
   "source": [
    "def distanceKNodes(root, k):\n",
    "    if root == None:\n",
    "        return\n",
    "    elif k == 0:\n",
    "        print(root.data)\n",
    "        return\n",
    "    else:\n",
    "        distanceKNodes(root.left, k-1)\n",
    "        distanceKNodes(root.right, k-1)\n",
    "        \n",
    "print(\"Nodes at distance 2:\")\n",
    "distanceKNodes(root1, 2)\n",
    "print(\"Nodes at distance 0:\")\n",
    "distanceKNodes(root1, 0)\n",
    "print(\"Nodes at distance 1:\")\n",
    "distanceKNodes(root1, 1)"
   ]
  },
  {
   "cell_type": "code",
   "execution_count": null,
   "id": "98777b0b",
   "metadata": {},
   "outputs": [],
   "source": []
  }
 ],
 "metadata": {
  "kernelspec": {
   "display_name": "base",
   "language": "python",
   "name": "python3"
  },
  "language_info": {
   "codemirror_mode": {
    "name": "ipython",
    "version": 3
   },
   "file_extension": ".py",
   "mimetype": "text/x-python",
   "name": "python",
   "nbconvert_exporter": "python",
   "pygments_lexer": "ipython3",
   "version": "3.11.8"
  }
 },
 "nbformat": 4,
 "nbformat_minor": 5
}
