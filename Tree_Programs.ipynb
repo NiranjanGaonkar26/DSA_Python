{
 "cells": [
  {
   "cell_type": "code",
   "execution_count": 1,
   "id": "dd936f46",
   "metadata": {},
   "outputs": [],
   "source": [
    "#Binary tree node structure\n",
    "class Node:\n",
    "    def __init__(self, data):\n",
    "        self.left = None\n",
    "        self.right = None\n",
    "        self.data = data"
   ]
  },
  {
   "cell_type": "code",
   "execution_count": 2,
   "id": "158465f2",
   "metadata": {},
   "outputs": [],
   "source": [
    "#sample binary tree                             #10\n",
    "root = Node(10)                             #20      30\n",
    "root.left = Node(20)                     \n",
    "root.right = Node(30)"
   ]
  },
  {
   "cell_type": "markdown",
   "id": "a07c3d6e",
   "metadata": {},
   "source": [
    "Depth First Traversals"
   ]
  },
  {
   "cell_type": "code",
   "execution_count": 3,
   "id": "186e3c23",
   "metadata": {},
   "outputs": [],
   "source": [
    "#Sample tree used for traversals\n",
    "root1 = Node(10)\n",
    "root1.left = Node(20)\n",
    "root1.right = Node(30)\n",
    "root1.right.left = Node(40)\n",
    "root1.right.right = Node(50)"
   ]
  },
  {
   "cell_type": "code",
   "execution_count": 4,
   "id": "ce89e31c",
   "metadata": {},
   "outputs": [
    {
     "name": "stdout",
     "output_type": "stream",
     "text": [
      "20\n",
      "10\n",
      "40\n",
      "30\n",
      "50\n"
     ]
    }
   ],
   "source": [
    "#Inorder Traversal - Time: O(Nodes), Space: O(height of tree)\n",
    "def Inorder(root):\n",
    "    if root == None:\n",
    "        return\n",
    "    Inorder(root.left)\n",
    "    print(root.data)\n",
    "    Inorder(root.right)\n",
    "    \n",
    "Inorder(root1)   "
   ]
  },
  {
   "cell_type": "code",
   "execution_count": 5,
   "id": "6c671f03",
   "metadata": {},
   "outputs": [
    {
     "name": "stdout",
     "output_type": "stream",
     "text": [
      "10\n",
      "20\n",
      "30\n",
      "40\n",
      "50\n"
     ]
    }
   ],
   "source": [
    "#Preorder Traversal - Time: O(Nodes), Space: O(height of tree)\n",
    "def Preorder(root):\n",
    "    if root == None:\n",
    "        return\n",
    "    print(root.data)\n",
    "    Preorder(root.left)\n",
    "    Preorder(root.right)\n",
    "    \n",
    "Preorder(root1)"
   ]
  },
  {
   "cell_type": "code",
   "execution_count": 6,
   "id": "2988ddda",
   "metadata": {},
   "outputs": [
    {
     "name": "stdout",
     "output_type": "stream",
     "text": [
      "20\n",
      "40\n",
      "50\n",
      "30\n",
      "10\n"
     ]
    }
   ],
   "source": [
    "#Postorder Traversal - Time: O(Nodes), Space: O(height of tree)\n",
    "def Postorder(root):\n",
    "    if root == None:\n",
    "        return\n",
    "    Postorder(root.left)\n",
    "    Postorder(root.right)\n",
    "    print(root.data)\n",
    "    \n",
    "Postorder(root1)"
   ]
  },
  {
   "cell_type": "markdown",
   "id": "3f8b0f46",
   "metadata": {},
   "source": [
    "Pgm1: Find the height of a binary tree"
   ]
  },
  {
   "cell_type": "code",
   "execution_count": 7,
   "id": "16f66b7d",
   "metadata": {},
   "outputs": [
    {
     "name": "stdout",
     "output_type": "stream",
     "text": [
      "2\n",
      "3\n"
     ]
    }
   ],
   "source": [
    "#Time: O(Nodes), Space: O(height of tree)\n",
    "def heightOfBinaryTree(root):\n",
    "    if root == None:\n",
    "        return 0\n",
    "    if root.left == None and root.right == None:\n",
    "        return 1\n",
    "    \n",
    "    leftSubtreeHeight = heightOfBinaryTree(root.left)\n",
    "    rightSubtreeHeight = heightOfBinaryTree(root.right)\n",
    "    return 1 + max(leftSubtreeHeight, rightSubtreeHeight)\n",
    "\n",
    "print(heightOfBinaryTree(root))\n",
    "print(heightOfBinaryTree(root1))"
   ]
  },
  {
   "cell_type": "markdown",
   "id": "275384cc",
   "metadata": {},
   "source": [
    "Pgm 2: Print nodes at distance k(number of edges) from root. Assume k<=height of the tree"
   ]
  },
  {
   "cell_type": "code",
   "execution_count": 11,
   "id": "5a650b73",
   "metadata": {},
   "outputs": [
    {
     "name": "stdout",
     "output_type": "stream",
     "text": [
      "Nodes at distance 2:\n",
      "40 50 \n",
      "Nodes at distance 0:\n",
      "10 \n",
      "Nodes at distance 1:\n",
      "20 30 "
     ]
    }
   ],
   "source": [
    "def distanceKNodes(root, k):\n",
    "    if root == None:\n",
    "        return\n",
    "    elif k == 0:\n",
    "        print(root.data,end=\" \")\n",
    "        return\n",
    "    else:\n",
    "        distanceKNodes(root.left, k-1)\n",
    "        distanceKNodes(root.right, k-1)\n",
    "        \n",
    "print(\"Nodes at distance 2:\")\n",
    "distanceKNodes(root1, 2)\n",
    "print(\"\\nNodes at distance 0:\")\n",
    "distanceKNodes(root1, 0)\n",
    "print(\"\\nNodes at distance 1:\")\n",
    "distanceKNodes(root1, 1)"
   ]
  },
  {
   "cell_type": "markdown",
   "id": "1afc3c5f",
   "metadata": {},
   "source": [
    "Pgm 3: Level order traversal of Binary tree"
   ]
  },
  {
   "cell_type": "code",
   "execution_count": 12,
   "id": "98777b0b",
   "metadata": {},
   "outputs": [
    {
     "name": "stdout",
     "output_type": "stream",
     "text": [
      "10 20 30 40 50 "
     ]
    }
   ],
   "source": [
    "#Approach 1: find the height of the tree, print nodes at distance k = 0,1,...height - 1\n",
    "def levelOrder(root):\n",
    "    height = heightOfBinaryTree(root)\n",
    "    for k in range(0, height):\n",
    "        distanceKNodes(root, k)\n",
    "\n",
    "levelOrder(root1)"
   ]
  },
  {
   "cell_type": "code",
   "execution_count": null,
   "id": "59641808",
   "metadata": {},
   "outputs": [
    {
     "name": "stdout",
     "output_type": "stream",
     "text": [
      "10 20 30 \n",
      "10 20 30 40 50 "
     ]
    }
   ],
   "source": [
    "#Optimal Approach: BFS using queue. Time: O(N), Space: O(N)\n",
    "from collections import deque\n",
    "def BFS(root):\n",
    "    if root == None:\n",
    "        return\n",
    "    Q = deque()\n",
    "    Q.append(root)\n",
    "    while len(Q) != 0:\n",
    "        poppedNode = Q.popleft()\n",
    "        print(poppedNode.data, end=\" \")\n",
    "        if poppedNode.left is not None:\n",
    "            Q.append(poppedNode.left)\n",
    "        if poppedNode.right is not None:\n",
    "            Q.append(poppedNode.right)\n",
    "            \n",
    "BFS(root)\n",
    "print()\n",
    "BFS(root1)"
   ]
  },
  {
   "cell_type": "markdown",
   "id": "994e1e6a",
   "metadata": {},
   "source": [
    "Pgm 4: Size of the Binary Tree(i.e number of nodes in the BT)"
   ]
  },
  {
   "cell_type": "code",
   "execution_count": null,
   "id": "8e5dda90",
   "metadata": {},
   "outputs": [
    {
     "name": "stdout",
     "output_type": "stream",
     "text": [
      "3\n",
      "5\n"
     ]
    }
   ],
   "source": [
    "#Time: O(Nodes), Space: O(height)\n",
    "def sizeBT(root):\n",
    "    if root == None:\n",
    "        return 0\n",
    "    if root.left == None and root.right == None:\n",
    "        return 1\n",
    "    else:\n",
    "        leftSubtreeCount = sizeBT(root.left)\n",
    "        rightSubtreeCount = sizeBT(root.right)\n",
    "        return 1 + leftSubtreeCount + rightSubtreeCount \n",
    "\n",
    "print(sizeBT(root))\n",
    "print(sizeBT(root1))"
   ]
  },
  {
   "cell_type": "markdown",
   "id": "09cc93ef",
   "metadata": {},
   "source": [
    "Pgm 5: Find the maximum node in a binary tree"
   ]
  },
  {
   "cell_type": "code",
   "execution_count": null,
   "id": "8bf13083",
   "metadata": {},
   "outputs": [
    {
     "name": "stdout",
     "output_type": "stream",
     "text": [
      "30\n",
      "50\n"
     ]
    }
   ],
   "source": [
    "#Time: O(Nodes), Space: O(height)\n",
    "import math\n",
    "def maxNode(root):\n",
    "    minusInfinity = -math.inf\n",
    "    if root == None:\n",
    "        return minusInfinity\n",
    "    elif root.left == None and root.right == None:\n",
    "        return root.data\n",
    "    else:\n",
    "        leftSubtreeMax = maxNode(root.left)\n",
    "        rightSubtreeMax = maxNode(root.right)\n",
    "        return max(root.data, leftSubtreeMax, rightSubtreeMax)\n",
    "    \n",
    "print(maxNode(root))\n",
    "print(maxNode(root1))"
   ]
  },
  {
   "cell_type": "markdown",
   "id": "313ba4d9",
   "metadata": {},
   "source": [
    "Pgm 6: Search in Binary tree"
   ]
  },
  {
   "cell_type": "code",
   "execution_count": 22,
   "id": "2a0fb869",
   "metadata": {},
   "outputs": [
    {
     "name": "stdout",
     "output_type": "stream",
     "text": [
      "True\n",
      "False\n"
     ]
    }
   ],
   "source": [
    "def searchBinaryTree(root, key):\n",
    "    if root == None:\n",
    "        return False\n",
    "    else:\n",
    "        if key == root.data:\n",
    "            return True\n",
    "        if (searchBinaryTree(root.left, key)):\n",
    "            return True\n",
    "        else:\n",
    "            return searchBinaryTree(root.right, key)\n",
    "    \n",
    "print(searchBinaryTree(root1, 30))\n",
    "print(searchBinaryTree(root1, 100))\n"
   ]
  },
  {
   "cell_type": "code",
   "execution_count": 23,
   "id": "b14f4858",
   "metadata": {},
   "outputs": [
    {
     "name": "stdout",
     "output_type": "stream",
     "text": [
      "True\n",
      "False\n"
     ]
    }
   ],
   "source": [
    "def searchBinaryTree1(root, key):\n",
    "    if root == None:\n",
    "        return False\n",
    "    else:\n",
    "        if key == root.data:\n",
    "            return True\n",
    "        else:\n",
    "            LSSearch = searchBinaryTree1(root.left, key)\n",
    "            RSSearch = searchBinaryTree(root.right, key)\n",
    "            return (LSSearch or RSSearch)\n",
    "\n",
    "print(searchBinaryTree(root1, 30))\n",
    "print(searchBinaryTree(root1, 100))"
   ]
  },
  {
   "cell_type": "markdown",
   "id": "93006bb9",
   "metadata": {},
   "source": [
    "Pgm 7: Identical Binary Trees"
   ]
  },
  {
   "cell_type": "code",
   "execution_count": 2,
   "id": "a495e78d",
   "metadata": {},
   "outputs": [],
   "source": [
    "r1 = Node(10)\n",
    "r1.left = Node(20)\n",
    "r1.right = Node(30)\n",
    "\n",
    "r2 = Node(10)\n",
    "r2.left = Node(20)\n",
    "r2.right = Node(30)"
   ]
  },
  {
   "cell_type": "code",
   "execution_count": 3,
   "id": "018b342b",
   "metadata": {},
   "outputs": [],
   "source": [
    "r3 = Node(1)\n",
    "r3.left = None\n",
    "r3.right = Node(2)\n",
    "\n",
    "r4 = Node(1)\n",
    "r4.left = Node(2)\n",
    "r4.right = None"
   ]
  },
  {
   "cell_type": "code",
   "execution_count": 10,
   "id": "ce347ab8",
   "metadata": {},
   "outputs": [],
   "source": [
    "#Approach 1: Using Preorder traversal. Time: O(n+m), Space: O(n+m)\n",
    "\n",
    "def isIdentical(root1, root2):\n",
    "    if root1 == root2:\n",
    "        return True\n",
    "    \n",
    "    return preorderWithNones(root1) == preorderWithNones(root2)\n",
    "\n",
    "def preorderWithNones(root):\n",
    "    result = []\n",
    "    stack = [root]\n",
    "    if root == None:\n",
    "        return result\n",
    "\n",
    "    while stack:\n",
    "        node = stack.pop()\n",
    "        if node == None:\n",
    "            result.append(node)\n",
    "        elif node.left == None and node.right == None:\n",
    "            result.append(node.data)\n",
    "        else:\n",
    "            result.append(node.data)\n",
    "            stack.append(node.right)\n",
    "            stack.append(node.left)\n",
    "    \n",
    "    print(result)\n",
    "    return result\n",
    "    "
   ]
  },
  {
   "cell_type": "code",
   "execution_count": 11,
   "id": "87979262",
   "metadata": {},
   "outputs": [
    {
     "name": "stdout",
     "output_type": "stream",
     "text": [
      "[10, 20, 30]\n",
      "[10, 20, 30]\n"
     ]
    },
    {
     "data": {
      "text/plain": [
       "True"
      ]
     },
     "execution_count": 11,
     "metadata": {},
     "output_type": "execute_result"
    }
   ],
   "source": [
    "isIdentical(r1, r2)"
   ]
  },
  {
   "cell_type": "code",
   "execution_count": 12,
   "id": "02ac10e2",
   "metadata": {},
   "outputs": [
    {
     "name": "stdout",
     "output_type": "stream",
     "text": [
      "[1, None, 2]\n",
      "[1, 2, None]\n"
     ]
    },
    {
     "data": {
      "text/plain": [
       "False"
      ]
     },
     "execution_count": 12,
     "metadata": {},
     "output_type": "execute_result"
    }
   ],
   "source": [
    "isIdentical(r3, r4)"
   ]
  },
  {
   "cell_type": "code",
   "execution_count": null,
   "id": "e2a4f31c",
   "metadata": {},
   "outputs": [],
   "source": [
    "#Optimal Approach - Recursive approach, Time: O(n), Space: O(height)\n",
    "\n",
    "def isIdenticalRec(root1, root2):\n",
    "    if root1 == root2:\n",
    "        return True\n",
    "    \n",
    "    if root1 == None and root2 == None:\n",
    "        return True\n",
    "    \n",
    "    if root1 == None or root2 == None or root1.data != root2.data:\n",
    "        return False\n",
    "    \n",
    "    return isIdenticalRec(root1.left, root2.left) and isIdenticalRec(root1.right, root2.right)"
   ]
  },
  {
   "cell_type": "code",
   "execution_count": 15,
   "id": "8779a6f8",
   "metadata": {},
   "outputs": [
    {
     "data": {
      "text/plain": [
       "True"
      ]
     },
     "execution_count": 15,
     "metadata": {},
     "output_type": "execute_result"
    }
   ],
   "source": [
    "isIdenticalRec(r1, r2)"
   ]
  },
  {
   "cell_type": "code",
   "execution_count": 16,
   "id": "34ef5e43",
   "metadata": {},
   "outputs": [
    {
     "data": {
      "text/plain": [
       "False"
      ]
     },
     "execution_count": 16,
     "metadata": {},
     "output_type": "execute_result"
    }
   ],
   "source": [
    "isIdenticalRec(r3, r4)"
   ]
  },
  {
   "cell_type": "markdown",
   "id": "bc10fd60",
   "metadata": {},
   "source": [
    "Pgm 8: Check if the Binary tree is height balanced"
   ]
  },
  {
   "cell_type": "code",
   "execution_count": null,
   "id": "64eb89ab",
   "metadata": {},
   "outputs": [],
   "source": [
    "#Optimal Approach, Time: O(N), Space: O(h)\n",
    "\n",
    "def isBalanced(root):\n",
    "    if root == None:\n",
    "        return True\n",
    "    \n",
    "    if check(root) == -1:\n",
    "        return False\n",
    "    else:\n",
    "        return True\n",
    "\n",
    "def check(node):\n",
    "    if node == None:\n",
    "        return 0\n",
    "    \n",
    "    left = check(node.left)\n",
    "    if left == -1:\n",
    "        return -1\n",
    "    \n",
    "    right = check(node.right)\n",
    "    if right == -1:\n",
    "        return -1\n",
    "    \n",
    "    if abs(left - right) > 1:\n",
    "        return -1\n",
    "    \n",
    "    return 1+max(left,right)"
   ]
  },
  {
   "cell_type": "code",
   "execution_count": 22,
   "id": "85836215",
   "metadata": {},
   "outputs": [
    {
     "data": {
      "text/plain": [
       "True"
      ]
     },
     "execution_count": 22,
     "metadata": {},
     "output_type": "execute_result"
    }
   ],
   "source": [
    "isBalanced(r1)"
   ]
  },
  {
   "cell_type": "code",
   "execution_count": 23,
   "id": "09ea73d4",
   "metadata": {},
   "outputs": [
    {
     "data": {
      "text/plain": [
       "False"
      ]
     },
     "execution_count": 23,
     "metadata": {},
     "output_type": "execute_result"
    }
   ],
   "source": [
    "r5 = Node(1)                              #  1\n",
    "r5.left = Node(2)                       #   2\n",
    "r5.left.left = Node(3)                #   3\n",
    "isBalanced(r5)"
   ]
  },
  {
   "cell_type": "markdown",
   "id": "24a22cb4",
   "metadata": {},
   "source": [
    "Pgm 9: Children sum == parent data in a Binary tree"
   ]
  },
  {
   "cell_type": "code",
   "execution_count": null,
   "id": "629f4723",
   "metadata": {},
   "outputs": [],
   "source": [
    "#Optimal Approach - Time: O(N), Space: O(h)\n",
    "def isSumProperty(root):\n",
    "    if root == None:\n",
    "        return True\n",
    "    \n",
    "    if root.left == None and root.right == None:\n",
    "        return True\n",
    "    \n",
    "    leftchild = root.left.data if root.left else 0\n",
    "    rightchild = root.right.data if root.right else 0\n",
    "    \n",
    "    if root.data != leftchild + rightchild:\n",
    "        return False\n",
    "    \n",
    "    return isSumProperty(root.left) and isSumProperty(root.right)\n",
    "    \n",
    "    "
   ]
  },
  {
   "cell_type": "code",
   "execution_count": 24,
   "id": "83dc1dbf",
   "metadata": {},
   "outputs": [],
   "source": [
    "r1 = Node(10)                              #10\n",
    "r1.left = Node(20)                      #20    30\n",
    "r1.right = Node(30)\n",
    "\n",
    "r2 = Node(30)                              #30\n",
    "r2.left = Node(10)                      #10     20\n",
    "r2.right = Node(20)"
   ]
  },
  {
   "cell_type": "code",
   "execution_count": 26,
   "id": "806340f9",
   "metadata": {},
   "outputs": [
    {
     "data": {
      "text/plain": [
       "False"
      ]
     },
     "execution_count": 26,
     "metadata": {},
     "output_type": "execute_result"
    }
   ],
   "source": [
    "isSumProperty(r1)"
   ]
  },
  {
   "cell_type": "code",
   "execution_count": 27,
   "id": "8e18bace",
   "metadata": {},
   "outputs": [
    {
     "data": {
      "text/plain": [
       "True"
      ]
     },
     "execution_count": 27,
     "metadata": {},
     "output_type": "execute_result"
    }
   ],
   "source": [
    "isSumProperty(r2)"
   ]
  },
  {
   "cell_type": "code",
   "execution_count": null,
   "id": "83471a59",
   "metadata": {},
   "outputs": [],
   "source": []
  }
 ],
 "metadata": {
  "kernelspec": {
   "display_name": "base",
   "language": "python",
   "name": "python3"
  },
  "language_info": {
   "codemirror_mode": {
    "name": "ipython",
    "version": 3
   },
   "file_extension": ".py",
   "mimetype": "text/x-python",
   "name": "python",
   "nbconvert_exporter": "python",
   "pygments_lexer": "ipython3",
   "version": "3.11.8"
  }
 },
 "nbformat": 4,
 "nbformat_minor": 5
}
