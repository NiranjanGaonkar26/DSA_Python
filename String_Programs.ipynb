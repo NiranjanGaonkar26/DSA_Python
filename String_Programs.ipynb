{
 "cells": [
  {
   "cell_type": "code",
   "execution_count": 3,
   "metadata": {},
   "outputs": [
    {
     "name": "stdout",
     "output_type": "stream",
     "text": [
      "97\n",
      "65\n",
      "a\n",
      "A\n"
     ]
    }
   ],
   "source": [
    "print(ord(\"a\"))         #Returns the unicode value of the single character string passed\n",
    "print(ord(\"A\"))\n",
    "print(chr(97))          #Retuns the character corresponding to the input unicode\n",
    "print(chr(65))\n"
   ]
  },
  {
   "cell_type": "code",
   "execution_count": 5,
   "metadata": {},
   "outputs": [
    {
     "name": "stdout",
     "output_type": "stream",
     "text": [
      "geko\n",
      "g\n",
      "o\n",
      "e\n",
      "k\n"
     ]
    }
   ],
   "source": [
    "s = \"geko\"\n",
    "print(s)\n",
    "print(s[0])\n",
    "print(s[-1])\n",
    "print(s[1])\n",
    "print(s[-2])"
   ]
  },
  {
   "cell_type": "code",
   "execution_count": 6,
   "metadata": {},
   "outputs": [
    {
     "ename": "TypeError",
     "evalue": "'str' object does not support item assignment",
     "output_type": "error",
     "traceback": [
      "\u001b[0;31m---------------------------------------------------------------------------\u001b[0m",
      "\u001b[0;31mTypeError\u001b[0m                                 Traceback (most recent call last)",
      "Cell \u001b[0;32mIn[6], line 3\u001b[0m\n\u001b[1;32m      1\u001b[0m \u001b[38;5;66;03m#Strings are immutable\u001b[39;00m\n\u001b[1;32m      2\u001b[0m s \u001b[38;5;241m=\u001b[39m \u001b[38;5;124m\"\u001b[39m\u001b[38;5;124mgoku\u001b[39m\u001b[38;5;124m\"\u001b[39m\n\u001b[0;32m----> 3\u001b[0m s[\u001b[38;5;241m0\u001b[39m] \u001b[38;5;241m=\u001b[39m \u001b[38;5;124m'\u001b[39m\u001b[38;5;124mf\u001b[39m\u001b[38;5;124m'\u001b[39m\n",
      "\u001b[0;31mTypeError\u001b[0m: 'str' object does not support item assignment"
     ]
    }
   ],
   "source": [
    "#Strings are immutable\n",
    "s = \"goku\"\n",
    "s[0] = 'f'"
   ]
  },
  {
   "cell_type": "code",
   "execution_count": 10,
   "metadata": {},
   "outputs": [
    {
     "name": "stdout",
     "output_type": "stream",
     "text": [
      "Hi I am Niranjan,\n",
      "Nice to meet you,\n",
      "\"Cheers\"!\n"
     ]
    }
   ],
   "source": [
    "#multi line string\n",
    "s = \"\"\"Hi I am Niranjan,\n",
    "Nice to meet you,\n",
    "\"Cheers\"!\"\"\"\n",
    "\n",
    "print(s)"
   ]
  },
  {
   "cell_type": "code",
   "execution_count": 14,
   "metadata": {},
   "outputs": [
    {
     "name": "stdout",
     "output_type": "stream",
     "text": [
      "Welcome to god's abode\n",
      "A simple \\ example\n",
      "Backslash at the end \\\n",
      "\\n\n",
      "\\t\n"
     ]
    }
   ],
   "source": [
    "# Escape sequences\n",
    "s = 'Welcome to god\\'s abode'\n",
    "print(s)\n",
    "\n",
    "s1 = \"A simple \\ example\"\n",
    "print(s1)\n",
    "\n",
    "s2 = \"Backslash at the end \\\\\"\n",
    "print(s2)\n",
    "\n",
    "s3 = \"\\\\n\"\n",
    "print(s3)\n",
    "\n",
    "s4 = \"\\\\t\"\n",
    "print(s4)"
   ]
  },
  {
   "cell_type": "code",
   "execution_count": 17,
   "metadata": {},
   "outputs": [
    {
     "name": "stdout",
     "output_type": "stream",
     "text": [
      "c:\\project\n",
      "ame.py\n",
      "c:\\project\\name.py\n"
     ]
    }
   ],
   "source": [
    "#Raw Strings\n",
    "s1 = \"c:\\project\\name.py\"       #\\n will be processed as a new line\n",
    "print(s1)\n",
    "\n",
    "s2 = R\"c:\\project\\name.py\"      #Prefixing a string literal with r or R will make it a raw string, and thus does not process escape sequences\n",
    "print(s2)      "
   ]
  },
  {
   "cell_type": "code",
   "execution_count": 21,
   "metadata": {},
   "outputs": [
    {
     "name": "stdout",
     "output_type": "stream",
     "text": [
      "Welcome ABC to home\n",
      "Sum of 10 and 20 is 30\n",
      "Product of 10 and 20 is 200\n",
      "lower case of ABC is abc\n",
      "upper case of home is HOME\n"
     ]
    }
   ],
   "source": [
    "#Formatted Strings using f_Strings - Using this we can mix string and variables\n",
    "\n",
    "name = \"ABC\"\n",
    "place = \"home\"\n",
    "print(f\"Welcome {name} to {place}\")\n",
    "\n",
    "a = 10\n",
    "b = 20\n",
    "print(f\"Sum of {a} and {b} is {a+b}\")                  # Expressions inside an f_string are evaluated at runtime\n",
    "print(f\"Product of {a} and {b} is {a*b}\")\n",
    "\n",
    "print(f\"lower case of {name} is {name.lower()}\")\n",
    "print(f\"upper case of {place} is {place.upper()}\")\n"
   ]
  },
  {
   "cell_type": "markdown",
   "metadata": {},
   "source": [
    "String Comparision in Python"
   ]
  },
  {
   "cell_type": "code",
   "execution_count": null,
   "metadata": {},
   "outputs": [
    {
     "name": "stdout",
     "output_type": "stream",
     "text": [
      "False\n",
      "True\n",
      "False\n",
      "True\n",
      "False\n",
      "True\n",
      "True\n"
     ]
    }
   ],
   "source": [
    "print(\"abcd\" < \"abc\")\n",
    "print(\"abcd\" > \"abc\")\n",
    "\n",
    "print(\"abcd\" <= \"abc\")\n",
    "print(\"abcd\" >= \"abc\")\n",
    "\n",
    "print(\"abc\" == \"abcd\")\n",
    "print(\"abcd\" != \"abc\")\n",
    "\n",
    "print(\"x\" > \"abcd\")"
   ]
  },
  {
   "cell_type": "markdown",
   "metadata": {},
   "source": [
    "String Operations"
   ]
  },
  {
   "cell_type": "code",
   "execution_count": 2,
   "metadata": {},
   "outputs": [
    {
     "name": "stdout",
     "output_type": "stream",
     "text": [
      "True\n",
      "False\n",
      "True\n"
     ]
    }
   ],
   "source": [
    "# Substring check using in operator\n",
    "s1 = \"iranj\"\n",
    "s2 = \"Nan\"\n",
    "s3 = \"Niranjan\"\n",
    "print(s1 in s3)\n",
    "print(s1 not in s3)\n",
    "print(s2 not in s3)"
   ]
  },
  {
   "cell_type": "code",
   "execution_count": 4,
   "metadata": {},
   "outputs": [
    {
     "name": "stdout",
     "output_type": "stream",
     "text": [
      "Niranjan G C\n",
      "Hello Niranjan G C\n"
     ]
    }
   ],
   "source": [
    "#String Concatenation using + operator\n",
    "s1 = \"Niranjan\"\n",
    "s2 = \" G C\"\n",
    "s3 = s1+s2\n",
    "s4 = \"Hello \"+s1+s2\n",
    "print(s3)\n",
    "print(s4)"
   ]
  },
  {
   "cell_type": "code",
   "execution_count": 31,
   "metadata": {},
   "outputs": [
    {
     "name": "stdout",
     "output_type": "stream",
     "text": [
      "0\n",
      "8\n",
      "8\n",
      "0\n",
      "\n",
      "0\n",
      "-1\n",
      "8\n"
     ]
    }
   ],
   "source": [
    "# Finding substring(s2) index in a string(s1)\n",
    "s1 = \"geeksforgeeks\"\n",
    "s2 = \"geeks\"\n",
    "\n",
    "print(s1.index(s2))                 #Returns the index of the first occurence of the substring s2 in the string s1, if s2 is not present in s1 this methods throws a value error\n",
    "print(s1.index(s2,3,len(s1)))       #Returns the index of the first occurence of the substring s2 in the string s1[start:end]\n",
    "print(s1.rindex(s2))                #Returns the index of the last occurence of the substring s2 in the string s1\n",
    "print(s1.rindex(s2,0,7))            #Returns the index of the last occurence of the substring s2 in the string s1[start:end]\n",
    "print()\n",
    "print(s1.find(s2))                  #Same as the index method, except that if s2 is not in s1 then it returns -1 instead of a value error\n",
    "print(s1.find(\"gfg\"))\n",
    "print(s1.find(s2, 1, len(s1)))"
   ]
  },
  {
   "cell_type": "code",
   "execution_count": 30,
   "metadata": {},
   "outputs": [
    {
     "name": "stdout",
     "output_type": "stream",
     "text": [
      "12\n",
      "niranjan g c\n",
      "NIRANJAN G C\n",
      "True\n",
      "True\n",
      "False\n",
      "False\n"
     ]
    }
   ],
   "source": [
    "#Useful string methods\n",
    "s1 = \"Niranjan G C\"\n",
    "print(len(s1))\n",
    "\n",
    "s2 = s1.lower()\n",
    "print(s2)\n",
    "\n",
    "s3 = s1.upper()\n",
    "print(s3)\n",
    "\n",
    "print(s2.islower())\n",
    "print(s3.isupper())\n",
    "print(s1.islower())\n",
    "print(s1.isupper())"
   ]
  },
  {
   "cell_type": "code",
   "execution_count": 17,
   "metadata": {},
   "outputs": [
    {
     "name": "stdout",
     "output_type": "stream",
     "text": [
      "True\n",
      "False\n",
      "True\n",
      "False\n",
      "True\n",
      "False\n",
      "True\n",
      "False\n"
     ]
    }
   ],
   "source": [
    "#Methods to check prefix and suffix of a string\n",
    "s = \"GeeksforGeeks Python DSA\"\n",
    "\n",
    "print(s.startswith(\"Geeks\"))                        #Returns true if the argument string is a prefix of s else false\n",
    "print(s.startswith(\"Geks\"))\n",
    "print(s.startswith(\"eeks\",1,len(s)))                #Returns true if the argument string is a prefix of s[start:end] else false\n",
    "print(s.startswith(\"Geeks\",1,len(s)))               \n",
    "\n",
    "print(s.endswith(\"SA\"))                             #Returns true if the argument string is a suffix of s else false\n",
    "print(s.endswith(\"DA\"))\n",
    "print(s.endswith(\"DSA\",0,len(s)))                   #Returns true if the argument string is a suffix of s[start:end] else false\n",
    "print(s.endswith(\"DSA\",0,5))"
   ]
  },
  {
   "cell_type": "code",
   "execution_count": 22,
   "metadata": {},
   "outputs": [
    {
     "name": "stdout",
     "output_type": "stream",
     "text": [
      "['Geeks', 'for', 'Geeks']\n",
      "['Geeks', 'for', 'Geeks']\n",
      "A green apple\n",
      "A! green! apple\n"
     ]
    }
   ],
   "source": [
    "#split and join methods\n",
    "s1 = \"Geeks\\nfor\\tGeeks\"\n",
    "print(s1.split())                       #returns a list of strings from the original string split around the delimiter(default is white space or any escape sequence)\n",
    "\n",
    "s2 = \"Geeks,kfor,kGeeks\"\n",
    "print(s2.split(\",k\"))\n",
    "\n",
    "l = [\"A\", \"green\", \"apple\"]\n",
    "print(\" \".join(l))                      #returns a string by joining the strings of the list separated by the joiner string joiner.join(Stringlist)\n",
    "print(\"! \".join(l))\n"
   ]
  },
  {
   "cell_type": "code",
   "execution_count": 28,
   "metadata": {},
   "outputs": [
    {
     "name": "stdout",
     "output_type": "stream",
     "text": [
      "Geeks\n",
      "Niranjan_G_C\n",
      "Niranjan_G_C__\n",
      "__Niranjan_G_C\n"
     ]
    }
   ],
   "source": [
    "#remove unwanted characters at the ends of a string\n",
    "\n",
    "s1 = \"__Niranjan_G_C__\"\n",
    "s2 = \"  Geeks  \"\n",
    "print(s2.strip())                           #Return a copy of the string with leading and trailing whitespace removed.If argument is given and not None, remove characters specified by the argument instead.\n",
    "print(s1.strip(\"_\"))\n",
    "print(s1.lstrip(\"_\"))\n",
    "print(s1.rstrip(\"_\"))"
   ]
  },
  {
   "cell_type": "markdown",
   "metadata": {},
   "source": [
    "Pgm1: Reverse a string"
   ]
  },
  {
   "cell_type": "code",
   "execution_count": null,
   "metadata": {},
   "outputs": [
    {
     "name": "stdout",
     "output_type": "stream",
     "text": [
      "keeG\n",
      "A\n"
     ]
    }
   ],
   "source": [
    "#Approach 1: Concatenate characters starting from the last index \n",
    "def revString1(str):\n",
    "    if len(str) == 1:\n",
    "        return str\n",
    "    i = len(str)-1\n",
    "    revStr = \"\"\n",
    "    while i>=0:\n",
    "        revStr+=str[i]\n",
    "        i-=1\n",
    "    return revStr\n",
    "\n",
    "print(revString1(\"Geek\"))\n",
    "print(revString1(\"A\"))\n",
    "\n"
   ]
  },
  {
   "cell_type": "code",
   "execution_count": 39,
   "metadata": {},
   "outputs": [
    {
     "name": "stdout",
     "output_type": "stream",
     "text": [
      "keeG\n",
      "A\n"
     ]
    }
   ],
   "source": [
    "#Approach 2: Append the next character to the beginning of the reversed string\n",
    "def revString2(str):\n",
    "    revStr = \"\"\n",
    "    for i in str:\n",
    "        revStr = i+revStr\n",
    "    return revStr\n",
    "\n",
    "print(revString2(\"Geek\"))\n",
    "print(revString2(\"A\"))\n"
   ]
  },
  {
   "cell_type": "code",
   "execution_count": null,
   "metadata": {},
   "outputs": [
    {
     "name": "stdout",
     "output_type": "stream",
     "text": [
      "najnariN\n"
     ]
    }
   ],
   "source": [
    "#Approach 3: Use string slicing\n",
    "s = input(\"Enter a string\")\n",
    "print(s[-1 : -(len(s)+1) : -1])           # The same can be achieved by str[::-1]"
   ]
  },
  {
   "cell_type": "markdown",
   "metadata": {},
   "source": [
    "Pgm 2: Check For Rotation"
   ]
  },
  {
   "cell_type": "code",
   "execution_count": 8,
   "metadata": {},
   "outputs": [
    {
     "name": "stdout",
     "output_type": "stream",
     "text": [
      "True\n",
      "False\n"
     ]
    }
   ],
   "source": [
    "#Brute Force: O(N^2)\n",
    "def isRotation(s1, s2):\n",
    "    n1 = len(s1)\n",
    "    n2 = len(s2)\n",
    "    if n1 != n2:\n",
    "        return False\n",
    "    if s1 == s2:\n",
    "        return True\n",
    "    l1 = []\n",
    "    l2 = []\n",
    "    for c in s1:\n",
    "        l1.append(c)\n",
    "    for c in s2:\n",
    "        l2.append(c)\n",
    "    i = 0\n",
    "    while i < n1:\n",
    "        if l1 != l2:\n",
    "            l1.append(l1.pop(0))\n",
    "        else:\n",
    "            return True\n",
    "        i+=1\n",
    "    return False\n",
    "\n",
    "print(isRotation(\"abcd\", \"cdab\"))\n",
    "print(isRotation(\"abba\", \"abab\"))\n",
    "        \n",
    "        "
   ]
  },
  {
   "cell_type": "code",
   "execution_count": 10,
   "metadata": {},
   "outputs": [
    {
     "name": "stdout",
     "output_type": "stream",
     "text": [
      "True\n",
      "False\n"
     ]
    }
   ],
   "source": [
    "#Optimal Approach: O(N) time, O(2N) space\n",
    "def isRotation2(s1, s2):\n",
    "    if len(s1) != len(s2):\n",
    "        return False\n",
    "    temp = \"\"\n",
    "    temp = s1+s1\n",
    "    if temp.find(s2) == -1:\n",
    "        return False\n",
    "    else:\n",
    "        return True\n",
    "    \n",
    "print(isRotation2(\"abcd\", \"cdab\"))\n",
    "print(isRotation2(\"abba\", \"abab\"))"
   ]
  },
  {
   "cell_type": "markdown",
   "metadata": {},
   "source": [
    "Pgm 3: Palindrome Strings"
   ]
  },
  {
   "cell_type": "code",
   "execution_count": 15,
   "metadata": {},
   "outputs": [
    {
     "name": "stdout",
     "output_type": "stream",
     "text": [
      "True\n",
      "True\n",
      "False\n",
      "False\n"
     ]
    }
   ],
   "source": [
    "#Naive Solution: O(N) time, O(N) space\n",
    "def isPalindrome1(str):\n",
    "    if len(str) == 1:\n",
    "        return True\n",
    "    if str == str[::-1]:\n",
    "        return True\n",
    "    else:\n",
    "        return False\n",
    "    \n",
    "print(isPalindrome1(\"abba\"))\n",
    "print(isPalindrome1(\"abcba\"))\n",
    "print(isPalindrome1(\"abA\"))\n",
    "print(isPalindrome1(\"Geek\"))"
   ]
  },
  {
   "cell_type": "code",
   "execution_count": 14,
   "metadata": {},
   "outputs": [
    {
     "name": "stdout",
     "output_type": "stream",
     "text": [
      "True\n",
      "True\n",
      "True\n",
      "False\n",
      "False\n"
     ]
    }
   ],
   "source": [
    "#Optimal Approach: (Two pointer method)\n",
    "def isPalindrome2(str):\n",
    "    if len(str) == 1:\n",
    "        return True\n",
    "    i = 0\n",
    "    j = len(str)-1\n",
    "    while i<j:\n",
    "        if str[i]!=str[j]:\n",
    "            return False\n",
    "        i+=1\n",
    "        j-=1\n",
    "        \n",
    "    return True\n",
    "\n",
    "print(isPalindrome2(\"abba\"))\n",
    "print(isPalindrome2(\"abcba\"))\n",
    "print(isPalindrome2(\"A\"))\n",
    "print(isPalindrome2(\"abA\"))\n",
    "print(isPalindrome2(\"Geek\"))"
   ]
  },
  {
   "cell_type": "markdown",
   "metadata": {},
   "source": [
    "Pgm 4: Check if a string is subsequence of the other"
   ]
  },
  {
   "cell_type": "code",
   "execution_count": null,
   "metadata": {},
   "outputs": [
    {
     "name": "stdout",
     "output_type": "stream",
     "text": [
      "True\n",
      "False\n",
      "True\n",
      "False\n",
      "True\n"
     ]
    }
   ],
   "source": [
    "#Optimal Solution: O(|s1|) time\n",
    "def subSeq1(str1, str2):\n",
    "    i = 0\n",
    "    j = 0\n",
    "    \n",
    "    while (j < len(str2) and i < len(str1)):\n",
    "        if str2[j] == str1[i]:\n",
    "            j+=1\n",
    "            i+=1\n",
    "        else:\n",
    "            i+=1\n",
    "    \n",
    "    if j == len(str2):\n",
    "        return True\n",
    "    else:\n",
    "        return False\n",
    "\n",
    "print(subSeq1(\"ABCD\", \"AD\"))\n",
    "print(subSeq1(\"ABCDE\", \"AED\"))\n",
    "print(subSeq1(\"EEKSGFORGEEKS\", \"GRGES\"))\n",
    "print(subSeq1(\"ABC\", \"ABCDE\"))\n",
    "print(subSeq1(\"ABCDE\", \"\"))\n",
    "                "
   ]
  },
  {
   "cell_type": "markdown",
   "metadata": {},
   "source": [
    "Pgm 5: Check for Anagrams"
   ]
  },
  {
   "cell_type": "code",
   "execution_count": null,
   "metadata": {},
   "outputs": [
    {
     "name": "stdout",
     "output_type": "stream",
     "text": [
      "True\n",
      "True\n",
      "False\n"
     ]
    }
   ],
   "source": [
    "#Approach 1 - O(nlogn) time\n",
    "def anagramCheck1(str1, str2):\n",
    "    \n",
    "    if len(str1)!=len(str2):\n",
    "        return False\n",
    "    \n",
    "    str1 = sorted(str1)\n",
    "    str2 = sorted(str2)\n",
    "    \n",
    "    return (str1 == str2)\n",
    "\n",
    "print(anagramCheck1(\"ababa\",\"babaa\"))\n",
    "print(anagramCheck1(\"silent\",\"listen\"))\n",
    "print(anagramCheck1(\"abx\",\"xay\"))"
   ]
  },
  {
   "cell_type": "code",
   "execution_count": null,
   "metadata": {},
   "outputs": [
    {
     "name": "stdout",
     "output_type": "stream",
     "text": [
      "True\n",
      "True\n",
      "False\n"
     ]
    }
   ],
   "source": [
    "#Optimal Solution - O(n) time\n",
    "def anagramCheck2(str1, str2):\n",
    "    \n",
    "    if len(str1)!=len(str2):\n",
    "        return False\n",
    "    \n",
    "    count = [0]*256\n",
    "    for i in range(len(str1)):\n",
    "        count[ord(str1[i])]+=1\n",
    "        count[ord(str2[i])]-=1\n",
    "        \n",
    "    for x in count:\n",
    "        if x!=0:\n",
    "            return False\n",
    "        \n",
    "    return True\n",
    "\n",
    "print(anagramCheck2(\"ababa\",\"babaa\"))\n",
    "print(anagramCheck2(\"silent\",\"listen\"))\n",
    "print(anagramCheck2(\"abx\",\"xay\"))"
   ]
  },
  {
   "cell_type": "markdown",
   "metadata": {},
   "source": [
    "Pgm 6: Leftmost Repeating character"
   ]
  },
  {
   "cell_type": "code",
   "execution_count": 14,
   "metadata": {},
   "outputs": [
    {
     "name": "stdout",
     "output_type": "stream",
     "text": [
      "0\n",
      "1\n",
      "-1\n",
      "3\n"
     ]
    }
   ],
   "source": [
    "#Approach 1: O(n^2) time,\n",
    "def leftMostRepChar1(str):\n",
    "    if len(str) == 0 or len(str) == 1:\n",
    "        return -1\n",
    "    \n",
    "    for i in range(len(str)-1):\n",
    "        for j in range(i+1, len(str)):\n",
    "            if str[i] == str[j]:\n",
    "                return i\n",
    "    \n",
    "    return -1\n",
    "\n",
    "print(leftMostRepChar1(\"geeksforgeeks\"))\n",
    "print(leftMostRepChar1(\"bacca\"))\n",
    "print(leftMostRepChar1(\"abcd\"))\n",
    "print(leftMostRepChar1(\"baceed\"))"
   ]
  },
  {
   "cell_type": "code",
   "execution_count": 15,
   "metadata": {},
   "outputs": [
    {
     "name": "stdout",
     "output_type": "stream",
     "text": [
      "0\n",
      "1\n",
      "-1\n",
      "3\n"
     ]
    }
   ],
   "source": [
    "#Optimal Approach 1: O(n) time\n",
    "def leftMostRepChar2(str):\n",
    "    if len(str) == 0 or len(str) == 1:\n",
    "        return -1\n",
    "\n",
    "    charArr = [0]*256\n",
    "    for i in range(len(str)):\n",
    "        charArr[ord(str[i])] += 1\n",
    "    \n",
    "    for i in range(len(str)):\n",
    "        if charArr[ord(str[i])] > 1:\n",
    "            return i\n",
    "    \n",
    "    return -1 \n",
    "\n",
    "print(leftMostRepChar2(\"geeksforgeeks\"))\n",
    "print(leftMostRepChar2(\"bacca\"))\n",
    "print(leftMostRepChar2(\"abcd\"))\n",
    "print(leftMostRepChar2(\"baceed\"))"
   ]
  },
  {
   "cell_type": "code",
   "execution_count": 16,
   "metadata": {},
   "outputs": [
    {
     "name": "stdout",
     "output_type": "stream",
     "text": [
      "0\n",
      "1\n",
      "-1\n",
      "3\n"
     ]
    }
   ],
   "source": [
    "#Optimal Approach 2: O(n) time\n",
    "def leftMostRepChar3(str):\n",
    "    if len(str) == 0 or len(str) == 1:\n",
    "        return -1\n",
    "    \n",
    "    charArr = [False]*256\n",
    "    leftIndex = -1\n",
    "    for i in range(len(str)-1, -1, -1):\n",
    "        if charArr[ord(str[i])] == False:\n",
    "            charArr[ord(str[i])] = True\n",
    "        else:\n",
    "            leftIndex = i\n",
    "    \n",
    "    return leftIndex\n",
    "\n",
    "print(leftMostRepChar3(\"geeksforgeeks\"))\n",
    "print(leftMostRepChar3(\"bacca\"))\n",
    "print(leftMostRepChar3(\"abcd\"))\n",
    "print(leftMostRepChar3(\"baceed\"))"
   ]
  },
  {
   "cell_type": "code",
   "execution_count": 17,
   "metadata": {},
   "outputs": [
    {
     "name": "stdout",
     "output_type": "stream",
     "text": [
      "0\n",
      "1\n",
      "-1\n",
      "3\n"
     ]
    }
   ],
   "source": [
    "#Optimal Approach 3: O(n) time\n",
    "def leftMostRepChar3(str):\n",
    "    if len(str) == 0 or len(str) == 1:\n",
    "        return -1\n",
    "    countDict = {}\n",
    "    for c in str:\n",
    "        if c in countDict.keys():\n",
    "            countDict[c] += 1\n",
    "        else:\n",
    "            countDict[c] = 1\n",
    "            \n",
    "    for key in countDict:\n",
    "        if countDict[key] > 1:\n",
    "            return str.find(key)\n",
    "        \n",
    "    return -1\n",
    "\n",
    "print(leftMostRepChar3(\"geeksforgeeks\"))\n",
    "print(leftMostRepChar3(\"bacca\"))\n",
    "print(leftMostRepChar3(\"abcd\"))\n",
    "print(leftMostRepChar3(\"baceed\"))"
   ]
  },
  {
   "cell_type": "markdown",
   "metadata": {},
   "source": [
    "Pgm 7: Leftmost Non Repeating Character"
   ]
  },
  {
   "cell_type": "code",
   "execution_count": 4,
   "metadata": {},
   "outputs": [
    {
     "name": "stdout",
     "output_type": "stream",
     "text": [
      "5\n",
      "-1\n",
      "1\n",
      "2\n"
     ]
    }
   ],
   "source": [
    "def leftMostNonRepChar1(str):\n",
    "    if len(str) == 0 or len(str) == 1:\n",
    "        return -1\n",
    "    \n",
    "    count = [0]*256\n",
    "    for i in range(len(str)):\n",
    "        count[ord(str[i])] += 1\n",
    "        \n",
    "    for i in range(len(str)):\n",
    "        if count[ord(str[i])] == 1:\n",
    "            return i\n",
    "    return -1\n",
    "\n",
    "print(leftMostNonRepChar1(\"geeksforgeeks\"))\n",
    "print(leftMostNonRepChar1(\"bacbca\"))\n",
    "print(leftMostNonRepChar1(\"abcad\"))\n",
    "print(leftMostNonRepChar1(\"bacebead\"))"
   ]
  },
  {
   "cell_type": "markdown",
   "metadata": {},
   "source": [
    "Pgm 8: Reverse Words in a String"
   ]
  },
  {
   "cell_type": "code",
   "execution_count": null,
   "metadata": {},
   "outputs": [
    {
     "name": "stdout",
     "output_type": "stream",
     "text": [
      "ef bcd abc\n",
      "friend Hi\n"
     ]
    }
   ],
   "source": [
    "#Solution 1: Uses auxiliary space O(Word count), time complexity: O(n) n-> no of characters in the string\n",
    "def revWords1(str):    \n",
    "    revWordsStr = \"\"\n",
    "    wordsList = str.split()\n",
    "    \n",
    "    while wordsList:\n",
    "        revWordsStr += wordsList.pop()+\" \"\n",
    "        \n",
    "    return revWordsStr.rstrip()\n",
    "\n",
    "print(revWords1(\"abc bcd ef\"))\n",
    "print(revWords1(\"Hi friend\"))"
   ]
  },
  {
   "cell_type": "code",
   "execution_count": null,
   "metadata": {},
   "outputs": [
    {
     "name": "stdout",
     "output_type": "stream",
     "text": [
      "dsa to Welcome\n",
      "ef bcd abc\n",
      "friend Hi\n"
     ]
    }
   ],
   "source": [
    "#Solution 2: simple code. Same time and space complexity as earlier\n",
    "def revWords2(str):\n",
    "    return \" \".join(str.split()[::-1])\n",
    "\n",
    "print(revWords2(\"Welcome to dsa\"))\n",
    "print(revWords2(\"abc bcd ef\"))\n",
    "print(revWords2(\"Hi friend\"))"
   ]
  },
  {
   "cell_type": "markdown",
   "metadata": {},
   "source": [
    "Advanced String Programs (Mainly involves different Pattern Searching Algorithms)"
   ]
  },
  {
   "cell_type": "code",
   "execution_count": 8,
   "metadata": {},
   "outputs": [
    {
     "name": "stdout",
     "output_type": "stream",
     "text": [
      "2\n",
      "12\n"
     ]
    }
   ],
   "source": [
    "#Using python's built in find() string method\n",
    "txt = \"Geeks for Geeks\"\n",
    "pat = \"eks\"\n",
    "\n",
    "pos = txt.find(pat)\n",
    "while pos >= 0:\n",
    "    print(pos)\n",
    "    pos = txt.find(pat,pos+1)"
   ]
  },
  {
   "cell_type": "markdown",
   "metadata": {},
   "source": [
    "Naive Pattern Matching Algorithm: Time: O((n-m+1)*m), Space: O(1)"
   ]
  },
  {
   "cell_type": "code",
   "execution_count": 29,
   "metadata": {},
   "outputs": [
    {
     "name": "stdout",
     "output_type": "stream",
     "text": [
      "2, 12, \n",
      "0, 1, 2, 3, \n",
      "-1\n"
     ]
    }
   ],
   "source": [
    "def patMatchNaive(txt: str, pat: str):\n",
    "    n = len(txt)\n",
    "    m = len(pat)\n",
    "    \n",
    "    found = False\n",
    "    \n",
    "    for i in range((n-m+1)):\n",
    "        flag = True\n",
    "        for j in range(m):\n",
    "            if pat[j] != txt[i+j]:\n",
    "                flag = False\n",
    "                break\n",
    "        if flag == True:\n",
    "            print(i, end = \", \")\n",
    "            found = True\n",
    "    \n",
    "    if found == False:\n",
    "        print(-1)\n",
    "\n",
    "patMatchNaive(\"Geeks for Geeks\", \"eks\")\n",
    "print()\n",
    "patMatchNaive(\"AAAAA\", \"AA\")\n",
    "print()\n",
    "patMatchNaive(\"ABCABC\", \"ABD\")"
   ]
  },
  {
   "cell_type": "markdown",
   "metadata": {},
   "source": [
    "Naive Pattern Matching Algorithm,special assumption - Pattern characters are distinct: Time: O(n), Space: O(1)"
   ]
  },
  {
   "cell_type": "code",
   "execution_count": 32,
   "metadata": {},
   "outputs": [
    {
     "name": "stdout",
     "output_type": "stream",
     "text": [
      "2, 12, \n",
      "3, \n",
      "-1\n"
     ]
    }
   ],
   "source": [
    "def patMatchNaive1(txt: str, pat: str):\n",
    "    n = len(txt)\n",
    "    m = len(pat)\n",
    "    \n",
    "    i = 0\n",
    "    found = False\n",
    "    \n",
    "    while i < n-m+1:\n",
    "        j = 0\n",
    "        while j < m:\n",
    "            if pat[j] != txt[i+j]:\n",
    "                break\n",
    "            j += 1\n",
    "        if j == m:\n",
    "            print(i, end = \", \")\n",
    "            found = True\n",
    "        if j == 0:\n",
    "            i += 1\n",
    "        else:\n",
    "            i += j\n",
    "    \n",
    "    if found == False:\n",
    "        print(-1)\n",
    "\n",
    "patMatchNaive1(\"Geeks for Geeks\", \"eks\")\n",
    "print()\n",
    "patMatchNaive1(\"ABCABCD\", \"ABCD\")\n",
    "print()\n",
    "patMatchNaive1(\"ABCDABC\", \"ABD\")"
   ]
  },
  {
   "cell_type": "markdown",
   "metadata": {},
   "source": [
    "Rabin Karp Pattern Matching Algorithm - Time: Worst case - O((n-m+1)*m) but on an avg better than the naive algorithm, Space: O(1)"
   ]
  },
  {
   "cell_type": "code",
   "execution_count": null,
   "metadata": {},
   "outputs": [
    {
     "name": "stdout",
     "output_type": "stream",
     "text": [
      "2, 12, \n",
      "3, \n",
      "-1\n"
     ]
    }
   ],
   "source": [
    "def RabinKarp(txt: str, pat: str):\n",
    "    found = False\n",
    "    \n",
    "    d = 256\n",
    "    q = int(1e9)+7\n",
    "    h = 1\n",
    "    \n",
    "    n = len(txt)\n",
    "    m = len(pat)\n",
    "    \n",
    "    h = pow(d, m-1, q)                               # Computing (d^(m-1)) % q\n",
    "    \n",
    "    pHash, tHash = 0, 0 \n",
    "    for i in range(0, m):                            # Computing p := hash(pattern) and t0 := hash(firstWindow)\n",
    "        pHash = (pHash * d + ord(pat[i]))%q\n",
    "        tHash = (tHash * d + ord(txt[i]))%q\n",
    "    \n",
    "    \n",
    "    for i in range(n-m+1):                           # Normal flow of the algorithm, \n",
    "        if pHash == tHash:                           # if the hashes match compare individual characters to actually verify it's not a spurious hit\n",
    "            j = 0\n",
    "            while j < m:\n",
    "                if pat[j] != txt[i+j]:\n",
    "                    break\n",
    "                j += 1\n",
    "            if j == m:\n",
    "                print(i, end = \", \")\n",
    "                found = True\n",
    "        if i < (n-m):                                                               #Rolling Hash - Compute the hash of the next window using the hash value of the previous window\n",
    "            tHash = (d*(tHash - (ord(txt[i])*h) ) + ord(txt[i+m])) % q\n",
    "        if tHash < 0:                                                               #In case we get a -ve hash while computing the rolling hash, make it +ve\n",
    "            tHash += q\n",
    "    \n",
    "    if found == False:\n",
    "        print(-1)\n",
    "           \n",
    "RabinKarp(\"Geeks for Geeks\", \"eks\")\n",
    "print()\n",
    "RabinKarp(\"ABCABCD\", \"ABCD\")\n",
    "print()\n",
    "RabinKarp(\"ABCDABC\", \"ABD\")"
   ]
  },
  {
   "cell_type": "markdown",
   "metadata": {},
   "source": [
    "KMP Pattern Matching Algorithm - Time: O(n), Space: O(m)"
   ]
  },
  {
   "cell_type": "code",
   "execution_count": 49,
   "metadata": {},
   "outputs": [
    {
     "name": "stdout",
     "output_type": "stream",
     "text": [
      "[0, 1, 2, 0, 1, 2, 3, 3, 0]\n"
     ]
    }
   ],
   "source": [
    "#Function to compute the longest proper prepix which is also a suffix - this is the precomputation done on the pattern string in the KMP algo\n",
    "\n",
    "def computeLPS(string: str):\n",
    "    n = len(string)\n",
    "    lps = [0] * n\n",
    "    i = 1\n",
    "    length_iM1 = 0\n",
    "    \n",
    "    while i < n:\n",
    "        if string[i] == string[length_iM1]:\n",
    "            length_iM1 += 1\n",
    "            lps[i] = length_iM1\n",
    "            i += 1\n",
    "        else:\n",
    "            if length_iM1 == 0:\n",
    "                lps[i] = 0\n",
    "                i += 1\n",
    "            else:\n",
    "                length_iM1 = lps[length_iM1 - 1]\n",
    "    \n",
    "    return lps\n",
    "\n",
    "print(computeLPS(\"AAABAAAAC\"))\n",
    "\n",
    "    "
   ]
  },
  {
   "cell_type": "code",
   "execution_count": 50,
   "metadata": {},
   "outputs": [
    {
     "name": "stdout",
     "output_type": "stream",
     "text": [
      "2, 12, \n",
      "3, \n",
      "-1\n"
     ]
    }
   ],
   "source": [
    "#KMP algorithm\n",
    "def KMP(txt: str, pat: str):\n",
    "    n = len(txt)\n",
    "    m = len(pat)\n",
    "    \n",
    "    lps = computeLPS(pat)\n",
    "    i = 0\n",
    "    j = 0\n",
    "    \n",
    "    found = False\n",
    "    \n",
    "    while i < n:\n",
    "        if txt[i] == pat[j]:\n",
    "            i += 1\n",
    "            j += 1\n",
    "        if j == m:\n",
    "            print(i-j, end=\", \")\n",
    "            j = lps[j-1]\n",
    "            found = True\n",
    "        elif i<n and txt[i] != pat[j]:\n",
    "            if j== 0:\n",
    "                i += 1\n",
    "            else:\n",
    "                j = lps[j-1]\n",
    "    \n",
    "    if found == False:\n",
    "        print(-1)\n",
    "\n",
    "KMP(\"Geeks for Geeks\", \"eks\")\n",
    "print()\n",
    "KMP(\"ABCABCD\", \"ABCD\")\n",
    "print()\n",
    "KMP(\"ABCDABC\", \"ABD\")"
   ]
  },
  {
   "cell_type": "code",
   "execution_count": null,
   "metadata": {},
   "outputs": [],
   "source": []
  }
 ],
 "metadata": {
  "kernelspec": {
   "display_name": "base",
   "language": "python",
   "name": "python3"
  },
  "language_info": {
   "codemirror_mode": {
    "name": "ipython",
    "version": 3
   },
   "file_extension": ".py",
   "mimetype": "text/x-python",
   "name": "python",
   "nbconvert_exporter": "python",
   "pygments_lexer": "ipython3",
   "version": "3.11.8"
  }
 },
 "nbformat": 4,
 "nbformat_minor": 2
}
