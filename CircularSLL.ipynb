{
 "cells": [
  {
   "cell_type": "code",
   "execution_count": 41,
   "metadata": {},
   "outputs": [],
   "source": [
    "class Node:\n",
    "    def __init__(self, data):\n",
    "        self.data = data\n",
    "        self.next = None"
   ]
  },
  {
   "cell_type": "code",
   "execution_count": 42,
   "metadata": {},
   "outputs": [],
   "source": [
    "#Creating a simple CSLL with 4 nodes using the Node structure\n",
    "\n",
    "head = Node(10)\n",
    "temp1 = Node(20)\n",
    "head.next = temp1\n",
    "temp2 = Node(30)\n",
    "temp1.next = temp2\n",
    "temp3 = Node(40)\n",
    "temp2.next = temp3\n",
    "temp3.next = head"
   ]
  },
  {
   "cell_type": "code",
   "execution_count": 43,
   "metadata": {},
   "outputs": [
    {
     "name": "stdout",
     "output_type": "stream",
     "text": [
      "10->20->30->40->\n",
      "\n",
      "100->"
     ]
    }
   ],
   "source": [
    "# Traversing a CSLL - O(N)\n",
    "def traverseCSLL(head):\n",
    "    if head == None:\n",
    "        return\n",
    "    print(head.data, end=\"->\")\n",
    "    temp = head.next\n",
    "    while temp != head:\n",
    "        print(temp.data, end=\"->\")\n",
    "        temp = temp.next\n",
    "\n",
    "traverseCSLL(head)\n",
    "print()\n",
    "traverseCSLL(None)\n",
    "print()\n",
    "head1 = Node(100)\n",
    "head1.next = head1\n",
    "traverseCSLL(head1)"
   ]
  },
  {
   "cell_type": "markdown",
   "metadata": {},
   "source": [
    "Insert a new node at the beginning/head/front of a CSLL."
   ]
  },
  {
   "cell_type": "code",
   "execution_count": 44,
   "metadata": {},
   "outputs": [
    {
     "name": "stdout",
     "output_type": "stream",
     "text": [
      "10->20->30->40->\n",
      "5->10->20->30->40->\n",
      "100->\n",
      "50->100->\n",
      "\n",
      "90->"
     ]
    }
   ],
   "source": [
    "#Approach 1: O(N)\n",
    "def insertBegCSLL1(head, key):\n",
    "    temp = Node(key)\n",
    "    if head == None:\n",
    "        temp.next = temp\n",
    "        return temp\n",
    "    \n",
    "    curr = head\n",
    "    while curr.next != head:\n",
    "        curr = curr.next\n",
    "    curr.next = temp\n",
    "    temp.next = head\n",
    "    head = temp\n",
    "    return head\n",
    "\n",
    "traverseCSLL(head)\n",
    "print()\n",
    "head = insertBegCSLL1(head, 5)\n",
    "traverseCSLL(head)\n",
    "print()\n",
    "traverseCSLL(head1)\n",
    "print()\n",
    "head1 = insertBegCSLL1(head1, 50)\n",
    "traverseCSLL(head1)\n",
    "print()\n",
    "head2 = None\n",
    "traverseCSLL(head2)\n",
    "print()\n",
    "head2 = insertBegCSLL1(head2, 90)\n",
    "traverseCSLL(head2)\n"
   ]
  },
  {
   "cell_type": "code",
   "execution_count": 45,
   "metadata": {},
   "outputs": [
    {
     "name": "stdout",
     "output_type": "stream",
     "text": [
      "5->10->20->30->40->\n",
      "1->5->10->20->30->40->\n",
      "50->100->\n",
      "25->50->100->\n",
      "\n",
      "90->"
     ]
    }
   ],
   "source": [
    "#Appoach 2: O(1) Tricky but quite ingenius\n",
    "def insertBegCSLL2(head, key):\n",
    "    temp = Node(key)\n",
    "    if head == None:\n",
    "        temp.next = temp\n",
    "        return temp\n",
    "    \n",
    "    temp.next = head.next\n",
    "    head.next = temp\n",
    "    head.data, temp.data = temp.data, head.data\n",
    "    return head\n",
    "\n",
    "traverseCSLL(head)\n",
    "print()\n",
    "head = insertBegCSLL2(head, 1)\n",
    "traverseCSLL(head)\n",
    "print()\n",
    "traverseCSLL(head1)\n",
    "print()\n",
    "head1 = insertBegCSLL2(head1, 25)\n",
    "traverseCSLL(head1)\n",
    "print()\n",
    "head2 = None\n",
    "traverseCSLL(head2)\n",
    "print()\n",
    "head2 = insertBegCSLL2(head2, 90)\n",
    "traverseCSLL(head2)"
   ]
  },
  {
   "cell_type": "markdown",
   "metadata": {},
   "source": [
    "Insert a new node at the end of a CSLL."
   ]
  },
  {
   "cell_type": "code",
   "execution_count": 46,
   "metadata": {},
   "outputs": [
    {
     "name": "stdout",
     "output_type": "stream",
     "text": [
      "1->5->10->20->30->40->\n",
      "1->5->10->20->30->40->50->\n",
      "25->50->100->\n",
      "25->50->100->150->\n",
      "\n",
      "77->\n",
      "90->\n",
      "90->180->"
     ]
    }
   ],
   "source": [
    "#Approach 1 - O(N)\n",
    "def insertEndCSLL1(head, key):\n",
    "    temp = Node(key)\n",
    "    if head == None:\n",
    "        temp.next = temp\n",
    "        return temp\n",
    "    \n",
    "    curr = head\n",
    "    while curr.next != head:\n",
    "        curr = curr.next\n",
    "        \n",
    "    temp.next = head\n",
    "    curr.next = temp\n",
    "    return head\n",
    "\n",
    "traverseCSLL(head)\n",
    "print()\n",
    "head = insertEndCSLL1(head, 50)\n",
    "traverseCSLL(head)\n",
    "print()\n",
    "traverseCSLL(head1)\n",
    "print()\n",
    "head1 = insertEndCSLL1(head1, 150)\n",
    "traverseCSLL(head1)\n",
    "print()\n",
    "head3 = None\n",
    "traverseCSLL(head3)\n",
    "print()\n",
    "head3 = insertEndCSLL1(head3, 77)\n",
    "traverseCSLL(head3)\n",
    "print()\n",
    "traverseCSLL(head2)\n",
    "print()\n",
    "head2 = insertEndCSLL1(head2, 180)\n",
    "traverseCSLL(head2)\n"
   ]
  },
  {
   "cell_type": "code",
   "execution_count": 47,
   "metadata": {},
   "outputs": [
    {
     "name": "stdout",
     "output_type": "stream",
     "text": [
      "1->5->10->20->30->40->50->\n",
      "1->5->10->20->30->40->50->60->\n",
      "25->50->100->150->\n",
      "25->50->100->150->200->\n",
      "\n",
      "99->\n",
      "77->\n",
      "77->154->"
     ]
    }
   ],
   "source": [
    "#Appoach 2: O(1) Tricky but quite ingenius\n",
    "def insertEndCSLL2(head, key):\n",
    "    temp = Node(key)\n",
    "    if head == None:\n",
    "        temp.next = temp\n",
    "        return temp\n",
    "    \n",
    "    temp.next = head.next\n",
    "    head.next = temp\n",
    "    head.data, temp.data = temp.data, head.data\n",
    "    head = temp\n",
    "    return head\n",
    "\n",
    "traverseCSLL(head)\n",
    "print()\n",
    "head = insertEndCSLL2(head, 60)\n",
    "traverseCSLL(head)\n",
    "print()\n",
    "traverseCSLL(head1)\n",
    "print()\n",
    "head1 = insertEndCSLL2(head1, 200)\n",
    "traverseCSLL(head1)\n",
    "print()\n",
    "head4 = None\n",
    "traverseCSLL(head4)\n",
    "print()\n",
    "head4 = insertEndCSLL2(head4, 99)\n",
    "traverseCSLL(head4)\n",
    "print()\n",
    "traverseCSLL(head3)\n",
    "print()\n",
    "head3 = insertEndCSLL2(head3, 154)\n",
    "traverseCSLL(head3)"
   ]
  },
  {
   "cell_type": "markdown",
   "metadata": {},
   "source": [
    "Delete the head of the CSLL"
   ]
  },
  {
   "cell_type": "code",
   "execution_count": 48,
   "metadata": {},
   "outputs": [
    {
     "name": "stdout",
     "output_type": "stream",
     "text": [
      "1->5->10->20->30->40->50->60->\n",
      "5->10->20->30->40->50->60->\n",
      "25->50->100->150->200->\n",
      "50->100->150->200->\n",
      "99->\n",
      "\n",
      "77->154->\n",
      "154->"
     ]
    }
   ],
   "source": [
    "#Approach 1 - O(N)\n",
    "def delHeadCSLL1(head):\n",
    "    if head == None:\n",
    "        return None\n",
    "    if head.next == head:\n",
    "        return None\n",
    "    curr = head\n",
    "    while curr.next != head:\n",
    "        curr = curr.next\n",
    "    curr.next = head.next\n",
    "    head = head.next\n",
    "    return head\n",
    "\n",
    "traverseCSLL(head)\n",
    "print()\n",
    "head = delHeadCSLL1(head)\n",
    "traverseCSLL(head)\n",
    "print()\n",
    "traverseCSLL(head1)\n",
    "print()\n",
    "head1 = delHeadCSLL1(head1)\n",
    "traverseCSLL(head1)\n",
    "print()\n",
    "traverseCSLL(head4)\n",
    "print()\n",
    "head4 = delHeadCSLL1(head4)\n",
    "traverseCSLL(head4)\n",
    "print()\n",
    "traverseCSLL(head3)\n",
    "print()\n",
    "head3 = delHeadCSLL1(head3)\n",
    "traverseCSLL(head3)\n"
   ]
  },
  {
   "cell_type": "code",
   "execution_count": 49,
   "metadata": {},
   "outputs": [
    {
     "name": "stdout",
     "output_type": "stream",
     "text": [
      "5->10->20->30->40->50->60->\n",
      "10->20->30->40->50->60->\n",
      "50->100->150->200->\n",
      "100->150->200->\n",
      "\n",
      "\n",
      "154->\n"
     ]
    }
   ],
   "source": [
    "#Appoach 2: O(1) Tricky but quite ingenius\n",
    "def delHeadCSLL2(head):\n",
    "    if head == None:\n",
    "        return None\n",
    "    if head.next == head:\n",
    "        return None\n",
    "    headNext = head.next\n",
    "    head.data = headNext.data\n",
    "    head.next = headNext.next\n",
    "    return head\n",
    "\n",
    "traverseCSLL(head)\n",
    "print()\n",
    "head = delHeadCSLL2(head)\n",
    "traverseCSLL(head)\n",
    "print()\n",
    "traverseCSLL(head1)\n",
    "print()\n",
    "head1 = delHeadCSLL2(head1)\n",
    "traverseCSLL(head1)\n",
    "print()\n",
    "traverseCSLL(head4)\n",
    "print()\n",
    "head4 = delHeadCSLL2(head4)\n",
    "traverseCSLL(head4)\n",
    "print()\n",
    "traverseCSLL(head3)\n",
    "print()\n",
    "head3 = delHeadCSLL2(head3)\n",
    "traverseCSLL(head3)"
   ]
  },
  {
   "cell_type": "markdown",
   "metadata": {},
   "source": [
    "Delete kth node from the head"
   ]
  },
  {
   "cell_type": "code",
   "execution_count": null,
   "metadata": {},
   "outputs": [
    {
     "name": "stdout",
     "output_type": "stream",
     "text": [
      "10->20->30->40->50->60->\n",
      "10->20->30->40->50->\n",
      "10->20->40->50->\n",
      "20->40->50->\n"
     ]
    }
   ],
   "source": [
    "#Assumption k <= count of nodes in the CSLL, Time - O(K); O(N) in worst case\n",
    "def delKthNode(head, k):\n",
    "    if head == None:\n",
    "        return None\n",
    "    \n",
    "    if k == 1:\n",
    "        return delHeadCSLL2(head)\n",
    "    \n",
    "    else:\n",
    "        delIndex = 1\n",
    "        curr = head\n",
    "        prev = None\n",
    "        while delIndex < k:\n",
    "            prev = curr\n",
    "            curr = curr.next\n",
    "            delIndex += 1\n",
    "        prev.next = curr.next\n",
    "        return head\n",
    "    \n",
    "traverseCSLL(head)\n",
    "print()\n",
    "head = delKthNode(head, 6)       #deleting the last node of the CSLL represented by head(it has 6 nodes)\n",
    "traverseCSLL(head)\n",
    "print()\n",
    "head = delKthNode(head, 3)      \n",
    "traverseCSLL(head)\n",
    "print()\n",
    "head = delKthNode(head, 1)      \n",
    "traverseCSLL(head)\n",
    "print()"
   ]
  },
  {
   "cell_type": "code",
   "execution_count": null,
   "metadata": {},
   "outputs": [],
   "source": []
  }
 ],
 "metadata": {
  "kernelspec": {
   "display_name": "base",
   "language": "python",
   "name": "python3"
  },
  "language_info": {
   "codemirror_mode": {
    "name": "ipython",
    "version": 3
   },
   "file_extension": ".py",
   "mimetype": "text/x-python",
   "name": "python",
   "nbconvert_exporter": "python",
   "pygments_lexer": "ipython3",
   "version": "3.11.8"
  }
 },
 "nbformat": 4,
 "nbformat_minor": 2
}
