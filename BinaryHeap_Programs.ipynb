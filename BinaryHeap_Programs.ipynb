{
 "cells": [
  {
   "cell_type": "markdown",
   "id": "5cfc0eec",
   "metadata": {},
   "source": [
    "Binary Min Heap implementation"
   ]
  },
  {
   "cell_type": "code",
   "execution_count": 29,
   "id": "4f6765b3",
   "metadata": {},
   "outputs": [],
   "source": [
    "import math"
   ]
  },
  {
   "cell_type": "code",
   "execution_count": 30,
   "id": "ed7ac6a0",
   "metadata": {},
   "outputs": [],
   "source": [
    "class minHeapClass:\n",
    "    def __init__(self):\n",
    "        self.minHeap = []\n",
    "        \n",
    "    # def __init__(self, elementsList):\n",
    "    #     self.minHeap = self.buildHeap(elementsList)\n",
    "    \n",
    "    def insert(self, key):\n",
    "        self.minHeap.append(key)\n",
    "        insertIndex = len(self.minHeap) - 1\n",
    "        parentIndex = self.getParentIndex(insertIndex)\n",
    "        while (insertIndex > 0) and (self.minHeap[parentIndex] > self.minHeap[insertIndex]):\n",
    "            self.minHeap[insertIndex], self.minHeap[parentIndex] = self.minHeap[parentIndex], self.minHeap[insertIndex]\n",
    "            insertIndex = parentIndex\n",
    "            parentIndex = self.getParentIndex(insertIndex) \n",
    "                \n",
    "    \n",
    "    def delete(self, index):\n",
    "        minHeap = self.minHeap\n",
    "        n = len(minHeap)\n",
    "        if index < n:\n",
    "            delElement = minHeap[index]\n",
    "            self.decreaseKey(index, -math.inf)\n",
    "            self.extractMin()\n",
    "            return delElement\n",
    "    \n",
    "    def extractMin(self):\n",
    "        n = len(self.minHeap)\n",
    "        self.minHeap[0], self.minHeap[n-1] = self.minHeap[n-1], self.minHeap[0]\n",
    "        minElement = self.minHeap.pop()\n",
    "        self.minHeapify(0)\n",
    "        return minElement   \n",
    "            \n",
    "    \n",
    "    def decreaseKey(self, index, newKey):\n",
    "        minHeap = self.minHeap\n",
    "        if index < len(self.minHeap):\n",
    "            minHeap[index] = newKey\n",
    "            parentIndex = self.getParentIndex(index)\n",
    "            while index > 0 and minHeap[parentIndex] > minHeap[index]:\n",
    "                minHeap[index], minHeap[parentIndex] = minHeap[parentIndex], minHeap[index]\n",
    "                index = parentIndex\n",
    "                parentIndex = self.getParentIndex(index)\n",
    "            \n",
    "    \n",
    "    #Utility functions\n",
    "    def getLeftChildIndex(self, index):\n",
    "        return 2*index + 1\n",
    "    \n",
    "    def getRightChildIndex(self, index):\n",
    "        return 2*index + 2\n",
    "    \n",
    "    def getParentIndex(self, index):\n",
    "        return (index-1)//2\n",
    "    \n",
    "    def minHeapify(self, index):\n",
    "        minHeap = self.minHeap\n",
    "        n = len(minHeap)\n",
    "        i = index\n",
    "        while True:\n",
    "            l = self.getLeftChildIndex(i)\n",
    "            r = self.getRightChildIndex(i)\n",
    "            smallest = i\n",
    "            \n",
    "            if l < n and minHeap[l] < minHeap[smallest]:\n",
    "                smallest = l\n",
    "            if r < n and minHeap[r] < minHeap[smallest]:\n",
    "                smallest = r\n",
    "                \n",
    "            if smallest == i:\n",
    "                break\n",
    "            minHeap[i], minHeap[smallest] = minHeap[smallest], minHeap[i]\n",
    "            i = smallest\n",
    "    \n",
    "    def buildHeap(self, elementsList):\n",
    "        pass \n",
    "    \n",
    "    "
   ]
  },
  {
   "cell_type": "code",
   "execution_count": 31,
   "id": "534baa7e",
   "metadata": {},
   "outputs": [
    {
     "name": "stdout",
     "output_type": "stream",
     "text": [
      "10\n",
      "[10, 12, 46, 89, 34, 78]\n"
     ]
    }
   ],
   "source": [
    "mh = minHeapClass()\n",
    "for key in [12,89,46,10,34,78]:\n",
    "    mh.insert(key)\n",
    "    \n",
    "print(mh.minHeap[0])\n",
    "print(mh.minHeap)"
   ]
  },
  {
   "cell_type": "code",
   "execution_count": 32,
   "id": "6240ab7b",
   "metadata": {},
   "outputs": [
    {
     "name": "stdout",
     "output_type": "stream",
     "text": [
      "10\n",
      "[12, 34, 46, 89, 78]\n"
     ]
    }
   ],
   "source": [
    "print(mh.extractMin())\n",
    "print(mh.minHeap)"
   ]
  },
  {
   "cell_type": "code",
   "execution_count": 33,
   "id": "0b92b966",
   "metadata": {},
   "outputs": [
    {
     "name": "stdout",
     "output_type": "stream",
     "text": [
      "[25, 35, 30, 36, 40, 89, 40, 40, 45, 45, 50, 100, 110, 45, 50]\n",
      "25\n",
      "[30, 35, 40, 36, 40, 89, 45, 40, 45, 45, 50, 100, 110, 50]\n"
     ]
    }
   ],
   "source": [
    "mh1 = minHeapClass()\n",
    "for key in [25,35,30,36,40,89,40,40,45,45,50,100,110,45,50]:\n",
    "    mh1.insert(key)\n",
    "print(mh1.minHeap)\n",
    "print(mh1.extractMin())\n",
    "print(mh1.minHeap)"
   ]
  },
  {
   "cell_type": "code",
   "execution_count": 34,
   "id": "f185a6cf",
   "metadata": {},
   "outputs": [
    {
     "name": "stdout",
     "output_type": "stream",
     "text": [
      "[12, 34, 46, 89, 78]\n",
      "[10, 12, 46, 89, 34]\n"
     ]
    }
   ],
   "source": [
    "print(mh.minHeap)\n",
    "mh.decreaseKey(4, 10)\n",
    "print(mh.minHeap)"
   ]
  },
  {
   "cell_type": "code",
   "execution_count": 35,
   "id": "ba282f44",
   "metadata": {},
   "outputs": [
    {
     "name": "stdout",
     "output_type": "stream",
     "text": [
      "[1, 2, 10, 3, 4, 20, 30, 5, 6, 7, 8]\n",
      "20\n",
      "[1, 2, 8, 3, 4, 10, 30, 5, 6, 7]\n"
     ]
    }
   ],
   "source": [
    "mh2 = minHeapClass()\n",
    "for key in [1, 2, 10, 3, 4, 20, 30, 5, 6, 7, 8]:\n",
    "    mh2.insert(key)\n",
    "    \n",
    "print(mh2.minHeap)\n",
    "print(mh2.delete(5))\n",
    "print(mh2.minHeap)"
   ]
  },
  {
   "cell_type": "code",
   "execution_count": null,
   "id": "c854dbef",
   "metadata": {},
   "outputs": [],
   "source": []
  }
 ],
 "metadata": {
  "kernelspec": {
   "display_name": "base",
   "language": "python",
   "name": "python3"
  },
  "language_info": {
   "codemirror_mode": {
    "name": "ipython",
    "version": 3
   },
   "file_extension": ".py",
   "mimetype": "text/x-python",
   "name": "python",
   "nbconvert_exporter": "python",
   "pygments_lexer": "ipython3",
   "version": "3.11.8"
  }
 },
 "nbformat": 4,
 "nbformat_minor": 5
}
