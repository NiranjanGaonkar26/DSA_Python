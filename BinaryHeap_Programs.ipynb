{
 "cells": [
  {
   "cell_type": "markdown",
   "id": "5cfc0eec",
   "metadata": {},
   "source": [
    "Binary Min Heap implementation"
   ]
  },
  {
   "cell_type": "code",
   "execution_count": 7,
   "id": "4f6765b3",
   "metadata": {},
   "outputs": [],
   "source": [
    "import math"
   ]
  },
  {
   "cell_type": "code",
   "execution_count": 17,
   "id": "ed7ac6a0",
   "metadata": {},
   "outputs": [],
   "source": [
    "class minHeapClass:\n",
    "    def __init__(self):\n",
    "        self.minHeap = []\n",
    "        \n",
    "    # def __init__(self, elementsList):\n",
    "    #     self.minHeap = self.buildHeap(elementsList)\n",
    "    \n",
    "    def insert(self, key):\n",
    "        self.minHeap.append(key)\n",
    "        insertIndex = len(self.minHeap) - 1\n",
    "        parentIndex = self.getParentIndex(insertIndex)\n",
    "        while (insertIndex > 0) and (self.minHeap[parentIndex] > self.minHeap[insertIndex]):\n",
    "            self.minHeap[insertIndex], self.minHeap[parentIndex] = self.minHeap[parentIndex], self.minHeap[insertIndex]\n",
    "            insertIndex = parentIndex\n",
    "            parentIndex = self.getParentIndex(insertIndex) \n",
    "                \n",
    "    \n",
    "    def delete(self, index):\n",
    "        minHeap = self.minHeap\n",
    "        n = len(minHeap)\n",
    "        if index < n:\n",
    "            delElement = minHeap[index]\n",
    "            self.decreaseKey(index, -math.inf)\n",
    "            self.extractMin()\n",
    "            return delElement\n",
    "    \n",
    "    def extractMin(self):\n",
    "        n = len(self.minHeap)\n",
    "        self.minHeap[0], self.minHeap[n-1] = self.minHeap[n-1], self.minHeap[0]\n",
    "        minElement = self.minHeap.pop()\n",
    "        self.minHeapify(0)\n",
    "        return minElement   \n",
    "            \n",
    "    \n",
    "    def decreaseKey(self, index, newKey):\n",
    "        minHeap = self.minHeap\n",
    "        if index < len(self.minHeap):\n",
    "            minHeap[index] = newKey\n",
    "            parentIndex = self.getParentIndex(index)\n",
    "            while index > 0 and minHeap[parentIndex] > minHeap[index]:\n",
    "                minHeap[index], minHeap[parentIndex] = minHeap[parentIndex], minHeap[index]\n",
    "                index = parentIndex\n",
    "                parentIndex = self.getParentIndex(index)\n",
    "            \n",
    "    \n",
    "    #Utility functions\n",
    "    def getLeftChildIndex(self, index):\n",
    "        return 2*index + 1\n",
    "    \n",
    "    def getRightChildIndex(self, index):\n",
    "        return 2*index + 2\n",
    "    \n",
    "    def getParentIndex(self, index):\n",
    "        return (index-1)//2\n",
    "    \n",
    "    def minHeapify(self, index):\n",
    "        minHeap = self.minHeap\n",
    "        n = len(minHeap)\n",
    "        i = index\n",
    "        while True:\n",
    "            l = self.getLeftChildIndex(i)\n",
    "            r = self.getRightChildIndex(i)\n",
    "            smallest = i\n",
    "            \n",
    "            if l < n and minHeap[l] < minHeap[smallest]:\n",
    "                smallest = l\n",
    "            if r < n and minHeap[r] < minHeap[smallest]:\n",
    "                smallest = r\n",
    "                \n",
    "            if smallest == i:\n",
    "                break\n",
    "            minHeap[i], minHeap[smallest] = minHeap[smallest], minHeap[i]\n",
    "            i = smallest\n",
    "    \n",
    "    def buildHeap(self, elementsList):\n",
    "        self.minHeap = elementsList\n",
    "        n = len(self.minHeap)\n",
    "        lastInternalNodeIndex = (n-2)//2\n",
    "        i = lastInternalNodeIndex\n",
    "        while i >= 0:\n",
    "            self.minHeapify(i)\n",
    "            i = i-1"
   ]
  },
  {
   "cell_type": "code",
   "execution_count": 18,
   "id": "534baa7e",
   "metadata": {},
   "outputs": [
    {
     "name": "stdout",
     "output_type": "stream",
     "text": [
      "10\n",
      "[10, 12, 46, 89, 34, 78]\n"
     ]
    }
   ],
   "source": [
    "mh = minHeapClass()\n",
    "for key in [12,89,46,10,34,78]:\n",
    "    mh.insert(key)\n",
    "    \n",
    "print(mh.minHeap[0])\n",
    "print(mh.minHeap)"
   ]
  },
  {
   "cell_type": "code",
   "execution_count": 19,
   "id": "6240ab7b",
   "metadata": {},
   "outputs": [
    {
     "name": "stdout",
     "output_type": "stream",
     "text": [
      "10\n",
      "[12, 34, 46, 89, 78]\n"
     ]
    }
   ],
   "source": [
    "print(mh.extractMin())\n",
    "print(mh.minHeap)"
   ]
  },
  {
   "cell_type": "code",
   "execution_count": 20,
   "id": "0b92b966",
   "metadata": {},
   "outputs": [
    {
     "name": "stdout",
     "output_type": "stream",
     "text": [
      "[25, 35, 30, 36, 40, 89, 40, 40, 45, 45, 50, 100, 110, 45, 50]\n",
      "25\n",
      "[30, 35, 40, 36, 40, 89, 45, 40, 45, 45, 50, 100, 110, 50]\n"
     ]
    }
   ],
   "source": [
    "mh1 = minHeapClass()\n",
    "for key in [25,35,30,36,40,89,40,40,45,45,50,100,110,45,50]:\n",
    "    mh1.insert(key)\n",
    "print(mh1.minHeap)\n",
    "print(mh1.extractMin())\n",
    "print(mh1.minHeap)"
   ]
  },
  {
   "cell_type": "code",
   "execution_count": 21,
   "id": "f185a6cf",
   "metadata": {},
   "outputs": [
    {
     "name": "stdout",
     "output_type": "stream",
     "text": [
      "[12, 34, 46, 89, 78]\n",
      "[10, 12, 46, 89, 34]\n"
     ]
    }
   ],
   "source": [
    "print(mh.minHeap)\n",
    "mh.decreaseKey(4, 10)\n",
    "print(mh.minHeap)"
   ]
  },
  {
   "cell_type": "code",
   "execution_count": 22,
   "id": "ba282f44",
   "metadata": {},
   "outputs": [
    {
     "name": "stdout",
     "output_type": "stream",
     "text": [
      "[1, 2, 10, 3, 4, 20, 30, 5, 6, 7, 8]\n",
      "20\n",
      "[1, 2, 8, 3, 4, 10, 30, 5, 6, 7]\n"
     ]
    }
   ],
   "source": [
    "mh2 = minHeapClass()\n",
    "for key in [1, 2, 10, 3, 4, 20, 30, 5, 6, 7, 8]:\n",
    "    mh2.insert(key)\n",
    "    \n",
    "print(mh2.minHeap)\n",
    "print(mh2.delete(5))\n",
    "print(mh2.minHeap)"
   ]
  },
  {
   "cell_type": "code",
   "execution_count": 23,
   "id": "c854dbef",
   "metadata": {},
   "outputs": [
    {
     "data": {
      "text/plain": [
       "[1, 5, 2, 10, 5, 40, 15, 20, 11]"
      ]
     },
     "execution_count": 23,
     "metadata": {},
     "output_type": "execute_result"
    }
   ],
   "source": [
    "mh3 = minHeapClass()\n",
    "eleList = [10,5,2,20,1,40,15,5,11]\n",
    "\n",
    "mh3.buildHeap(eleList)\n",
    "mh3.minHeap"
   ]
  },
  {
   "cell_type": "markdown",
   "id": "76078c4d",
   "metadata": {},
   "source": [
    "Heap Sort\n",
    "To sort in ascending order in place - Must use Max Heap\n",
    "To sort in descending order in place - Must use Min Heap"
   ]
  },
  {
   "cell_type": "code",
   "execution_count": 26,
   "id": "5797a212",
   "metadata": {},
   "outputs": [
    {
     "name": "stdout",
     "output_type": "stream",
     "text": [
      "[1, 2, 4, 5, 6, 7, 10]\n"
     ]
    }
   ],
   "source": [
    "# Heap Sort - ascending order \n",
    "def heapSortAsc(inputList):\n",
    "    buildMaxHeap(inputList)\n",
    "    n = len(inputList)\n",
    "    for i in range(n - 1, 0, -1):\n",
    "        inputList[0], inputList[i] = inputList[i], inputList[0]\n",
    "        maxHeapify(0, inputList, i)\n",
    "        \n",
    "def buildMaxHeap(eleList):\n",
    "    n = len(eleList)\n",
    "    i = (n-2)//2\n",
    "    while i >= 0:\n",
    "        maxHeapify(i, eleList, n)\n",
    "        i = i-1\n",
    "\n",
    "def maxHeapify(index, maxHeap, heapSize):\n",
    "    while True:\n",
    "        l = (2*index) + 1\n",
    "        r = (2*index) + 2\n",
    "        largest = index\n",
    "        \n",
    "        if l<heapSize and maxHeap[l] > maxHeap[largest]:\n",
    "            largest = l\n",
    "        \n",
    "        if r<heapSize and maxHeap[r] > maxHeap[largest]:\n",
    "            largest = r\n",
    "            \n",
    "        if largest == index:\n",
    "            break\n",
    "        \n",
    "        maxHeap[index], maxHeap[largest] = maxHeap[largest], maxHeap[index]\n",
    "        index = largest\n",
    "    \n",
    "ipList = [10, 2, 5, 4, 1, 7, 6]\n",
    "heapSortAsc(ipList)\n",
    "print(ipList)"
   ]
  },
  {
   "cell_type": "code",
   "execution_count": 30,
   "id": "571662f9",
   "metadata": {},
   "outputs": [
    {
     "name": "stdout",
     "output_type": "stream",
     "text": [
      "[10, 9, 7, 5, 4, 2, 1]\n"
     ]
    }
   ],
   "source": [
    "#Heap Sort - descending order\n",
    "def heapSortDsc(inputList):\n",
    "    buildMinHeap(inputList)\n",
    "    n = len(inputList)\n",
    "    for i in range(n-1,0,-1):\n",
    "        inputList[0], inputList[i] = inputList[i], inputList[0]\n",
    "        minHeapify(0, inputList, i)\n",
    "        \n",
    "def buildMinHeap(inputList):\n",
    "    n = len(inputList)\n",
    "    i = (n-2)//2\n",
    "    while i>=0:\n",
    "        minHeapify(i, inputList, n)\n",
    "        i = i-1\n",
    "    \n",
    "def minHeapify(index, minHeap, heapSize):\n",
    "    while True:\n",
    "        l = (2*index) + 1\n",
    "        r = (2*index) + 2\n",
    "        smallest = index\n",
    "        \n",
    "        if l < heapSize and minHeap[l] < minHeap[smallest]:\n",
    "            smallest = l\n",
    "        \n",
    "        if r < heapSize and minHeap[r] < minHeap[smallest]:\n",
    "            smallest = r\n",
    "        \n",
    "        if smallest == index:\n",
    "            break\n",
    "        \n",
    "        minHeap[index], minHeap[smallest] = minHeap[smallest], minHeap[index]\n",
    "        index = smallest\n",
    "\n",
    "ipList = [10, 2, 5, 4, 1, 7, 9]\n",
    "heapSortDsc(ipList)\n",
    "print(ipList)      "
   ]
  },
  {
   "cell_type": "markdown",
   "id": "3ea2fc55",
   "metadata": {},
   "source": [
    "Python's heapq module"
   ]
  },
  {
   "cell_type": "code",
   "execution_count": 33,
   "id": "f8209c99",
   "metadata": {},
   "outputs": [
    {
     "name": "stdout",
     "output_type": "stream",
     "text": [
      "[1, 5, 3, 10, 20, 4]\n"
     ]
    }
   ],
   "source": [
    "import heapq\n",
    "\n",
    "pq = [10,20,3,5,1,4]\n",
    "heapq.heapify(pq)\n",
    "print(pq)"
   ]
  },
  {
   "cell_type": "code",
   "execution_count": 34,
   "id": "9db6e25e",
   "metadata": {},
   "outputs": [
    {
     "name": "stdout",
     "output_type": "stream",
     "text": [
      "[1, 5, 2, 10, 20, 4, 3]\n"
     ]
    }
   ],
   "source": [
    "heapq.heappush(pq, 2)\n",
    "print(pq)"
   ]
  },
  {
   "cell_type": "code",
   "execution_count": 35,
   "id": "86eafd8b",
   "metadata": {},
   "outputs": [
    {
     "name": "stdout",
     "output_type": "stream",
     "text": [
      "1\n",
      "[2, 5, 3, 10, 20, 4]\n"
     ]
    }
   ],
   "source": [
    "print(heapq.heappop(pq))\n",
    "print(pq)"
   ]
  },
  {
   "cell_type": "code",
   "execution_count": 36,
   "id": "5ec9e446",
   "metadata": {},
   "outputs": [
    {
     "name": "stdout",
     "output_type": "stream",
     "text": [
      "2\n",
      "[3, 5, 4, 10, 20, 6]\n"
     ]
    }
   ],
   "source": [
    "print(heapq.heappushpop(pq, 6))\n",
    "print(pq)"
   ]
  },
  {
   "cell_type": "code",
   "execution_count": 38,
   "id": "1702f2b6",
   "metadata": {},
   "outputs": [
    {
     "name": "stdout",
     "output_type": "stream",
     "text": [
      "[3, 4]\n",
      "[20, 10]\n",
      "[1, 2, 3]\n",
      "[10, 6, 5]\n"
     ]
    }
   ],
   "source": [
    "print(heapq.nsmallest(2, pq))\n",
    "print(heapq.nlargest(2, pq))                    #These 2 are important methods and can be used with any iterable\n",
    "\n",
    "\n",
    "print(heapq.nsmallest(3, (10,2,3,1,5,6)))\n",
    "print(heapq.nlargest(3, (10,2,3,1,5,6)))"
   ]
  },
  {
   "cell_type": "markdown",
   "id": "c6221442",
   "metadata": {},
   "source": [
    "Demonstration of priority queue using min heap (high priority patient - low integer value associated)"
   ]
  },
  {
   "cell_type": "code",
   "execution_count": 41,
   "id": "5b1a9ac1",
   "metadata": {},
   "outputs": [
    {
     "name": "stdout",
     "output_type": "stream",
     "text": [
      "Next patient to be served: xyz with priority 0\n",
      "Serving patient: xyz with priority 0\n",
      "Serving patient: uvw with priority 1\n",
      "Serving patient: abc with priority 2\n",
      "Serving patient: efg with priority 2\n"
     ]
    }
   ],
   "source": [
    "class patientsPriority:\n",
    "    def __init__(self):\n",
    "        self.pq = []\n",
    "        self.counter = 0                            #For tie braking purpose\n",
    "    \n",
    "    def addPatient(self, priority, name):\n",
    "        heapq.heappush(self.pq, (priority, self.counter, name))\n",
    "        self.counter += 1\n",
    "        \n",
    "    def servePatient(self):\n",
    "        if not self.pq:\n",
    "            print(\"No patients in queue.\")\n",
    "        priority, counter, name = heapq.heappop(self.pq)\n",
    "        print(f\"Serving patient: {name} with priority {priority}\")\n",
    "        \n",
    "    def viewNextPatient(self):\n",
    "        if not self.pq:\n",
    "            print(\"No patients in queue.\")\n",
    "        priority, counter, name = self.pq[0]\n",
    "        print(f\"Next patient to be served: {name} with priority {priority}\")\n",
    "        \n",
    "PPO = patientsPriority()\n",
    "PPO.addPatient(2, \"abc\")\n",
    "PPO.addPatient(0, \"xyz\")\n",
    "PPO.addPatient(2, \"efg\")\n",
    "PPO.addPatient(1, \"uvw\")\n",
    "\n",
    "PPO.viewNextPatient()\n",
    "while PPO.pq:\n",
    "    PPO.servePatient()\n",
    "\n"
   ]
  },
  {
   "cell_type": "code",
   "execution_count": null,
   "id": "32953071",
   "metadata": {},
   "outputs": [],
   "source": []
  }
 ],
 "metadata": {
  "kernelspec": {
   "display_name": "base",
   "language": "python",
   "name": "python3"
  },
  "language_info": {
   "codemirror_mode": {
    "name": "ipython",
    "version": 3
   },
   "file_extension": ".py",
   "mimetype": "text/x-python",
   "name": "python",
   "nbconvert_exporter": "python",
   "pygments_lexer": "ipython3",
   "version": "3.11.8"
  }
 },
 "nbformat": 4,
 "nbformat_minor": 5
}
