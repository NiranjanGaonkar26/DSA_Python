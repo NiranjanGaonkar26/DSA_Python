{
 "cells": [
  {
   "cell_type": "code",
   "execution_count": 10,
   "metadata": {},
   "outputs": [
    {
     "name": "stdout",
     "output_type": "stream",
     "text": [
      "<__main__.Node object at 0x10ade2690>\n",
      "<__main__.Node object at 0x10ade3f10>\n"
     ]
    }
   ],
   "source": [
    "class Node:\n",
    "    def __init__(self, data):\n",
    "        self.data = data\n",
    "        self.next = None\n",
    "        \n",
    "temp1 = Node(10)\n",
    "temp2 = Node(20)\n",
    "temp3 = Node(30)\n",
    "\n",
    "head1 = temp1\n",
    "temp1.next = temp2\n",
    "temp2.next = temp3\n",
    "\n",
    "print(head1)\n",
    "print(temp1.next)"
   ]
  },
  {
   "cell_type": "code",
   "execution_count": null,
   "metadata": {},
   "outputs": [
    {
     "name": "stdout",
     "output_type": "stream",
     "text": [
      "10->20->30->"
     ]
    }
   ],
   "source": [
    "#Traversing a SLL - O(N)\n",
    "def traverseSLL(head):\n",
    "    temp = head\n",
    "    while(temp != None):\n",
    "        print(temp.data, end=\"->\")\n",
    "        temp = temp.next\n",
    "        \n",
    "traverseSLL(head1)\n",
    "traverseSLL(None)"
   ]
  },
  {
   "cell_type": "code",
   "execution_count": null,
   "metadata": {},
   "outputs": [
    {
     "name": "stdout",
     "output_type": "stream",
     "text": [
      "3\n"
     ]
    }
   ],
   "source": [
    "#Search for an element in SLL - Worst Case: O(N)\n",
    "def searchSLL(head, key):\n",
    "    temp = head\n",
    "    foundIndex = 1      #Let us have our 1st node index as 1\n",
    "    while(temp!=None):\n",
    "        if(temp.data == key):\n",
    "            return foundIndex\n",
    "        temp = temp.next\n",
    "        foundIndex+=1\n",
    "    \n",
    "    return -1\n",
    "\n",
    "#Creating a input SLL\n",
    "head2 = Node(10)\n",
    "head2.next = Node(15)\n",
    "head2.next.next = Node(20)\n",
    "head2.next.next.next = Node(25)\n",
    "key = 20\n",
    "print(searchSLL(head2, key))"
   ]
  },
  {
   "cell_type": "code",
   "execution_count": null,
   "metadata": {},
   "outputs": [
    {
     "name": "stdout",
     "output_type": "stream",
     "text": [
      "30->20->10->"
     ]
    }
   ],
   "source": [
    "#Insert a new node at the beginning/head/front of a SLL. Time Complexity - O(1)\n",
    "def insertBegSLL(head, key):\n",
    "    newNode = Node(key)\n",
    "    newNode.next = head\n",
    "    head = newNode\n",
    "    return head\n",
    "\n",
    "head3 = None\n",
    "head3 = insertBegSLL(head3, 10)\n",
    "head3 = insertBegSLL(head3, 20)\n",
    "head3 = insertBegSLL(head3, 30)\n",
    "traverseSLL(head3)"
   ]
  },
  {
   "cell_type": "code",
   "execution_count": null,
   "metadata": {},
   "outputs": [
    {
     "name": "stdout",
     "output_type": "stream",
     "text": [
      "10->20->30->"
     ]
    }
   ],
   "source": [
    "#Insert a new node at the end/rear of a SLL. Time complexity: O(N)\n",
    "def insertEndSLL(head, key):\n",
    "    newNode = Node(key)\n",
    "    if head == None:\n",
    "        head = newNode\n",
    "        return head\n",
    "    \n",
    "    temp = head\n",
    "    while(temp.next != None):\n",
    "        temp = temp.next\n",
    "    temp.next = newNode\n",
    "    \n",
    "    return head\n",
    "\n",
    "head4 = None\n",
    "head4 = insertEndSLL(head4,10)\n",
    "head4 = insertEndSLL(head4,20)\n",
    "head4 = insertEndSLL(head4,30)\n",
    "traverseSLL(head4)\n",
    "    "
   ]
  },
  {
   "cell_type": "code",
   "execution_count": null,
   "metadata": {},
   "outputs": [
    {
     "name": "stdout",
     "output_type": "stream",
     "text": [
      "100->\n",
      "10->20->30->40->40->40->"
     ]
    }
   ],
   "source": [
    "#Insert a new node at the specified position of a SLL. Time complexity: O(N) worst case\n",
    "def insertAtPosSLL(head, pos, key, numNodes):\n",
    "    if pos > numNodes+1:\n",
    "        return head\n",
    "     \n",
    "    newNode = Node(key)\n",
    "    if head == None:\n",
    "        head = newNode\n",
    "        return head\n",
    "    \n",
    "    if pos == 1:\n",
    "        newNode.next = head\n",
    "        head = newNode\n",
    "        return head\n",
    "    \n",
    "    temp = head\n",
    "    i = 1\n",
    "    while(i < pos-1):\n",
    "        temp = temp.next\n",
    "        i += 1\n",
    "    newNode.next = temp.next    \n",
    "    temp.next = newNode\n",
    "    \n",
    "    return head\n",
    "\n",
    "head5 = None\n",
    "head5 = insertAtPosSLL(head5, 1, 100, 1)\n",
    "traverseSLL(head5)\n",
    "print()\n",
    "head4 = insertAtPosSLL(head4, 4, 40, 3)\n",
    "traverseSLL(head4)\n"
   ]
  },
  {
   "cell_type": "code",
   "execution_count": null,
   "metadata": {},
   "outputs": [
    {
     "name": "stdout",
     "output_type": "stream",
     "text": [
      "20->30->"
     ]
    }
   ],
   "source": [
    "#Delete the head node of a SLL. Time Complexity: O(1)\n",
    "def delBegSLL(head):\n",
    "    if head == None:\n",
    "        return head\n",
    "    \n",
    "    head = head.next            #Python's GC will automatically deallocate memory for objects which no longer have any references to it\n",
    "    return head\n",
    "\n",
    "head6 = Node(10)\n",
    "head6.next = Node(20)\n",
    "head6.next.next = Node(30)\n",
    "head6 = delBegSLL(head6)\n",
    "traverseSLL(head6)"
   ]
  },
  {
   "cell_type": "code",
   "execution_count": null,
   "metadata": {},
   "outputs": [
    {
     "name": "stdout",
     "output_type": "stream",
     "text": [
      "10->20->30->40->\n",
      "10->20->30->\n",
      "10->20->\n",
      "10->\n",
      "\n"
     ]
    }
   ],
   "source": [
    "#Delete a node at the end/rear of a SLL. Time Complexity: O(1)\n",
    "def delEndSLL(head):\n",
    "    if head == None:\n",
    "        return head\n",
    "    \n",
    "    if head.next == None:\n",
    "        return None\n",
    "    \n",
    "    temp = head\n",
    "    while(temp.next.next != None):\n",
    "        temp = temp.next\n",
    "    \n",
    "    temp.next = None\n",
    "    return head\n",
    "\n",
    "head7 = Node(10)\n",
    "head7.next = Node(20)\n",
    "head7.next.next = Node(30)\n",
    "head7.next.next.next = Node(40)\n",
    "traverseSLL(head7)\n",
    "print()\n",
    "\n",
    "head7 = delEndSLL(head7)\n",
    "traverseSLL(head7)\n",
    "print()\n",
    "head7 = delEndSLL(head7)\n",
    "traverseSLL(head7)\n",
    "print()\n",
    "head7 = delEndSLL(head7)\n",
    "traverseSLL(head7)\n",
    "print()\n",
    "head7 = delEndSLL(head7)\n",
    "traverseSLL(head7)\n",
    "print()\n"
   ]
  },
  {
   "cell_type": "markdown",
   "metadata": {},
   "source": [
    "Pgm 1: Delete a node in a SLL with only pointer given to it. \n",
    "head pointer will not be given\n",
    "you will never be asked to delete the last node."
   ]
  },
  {
   "cell_type": "code",
   "execution_count": 42,
   "metadata": {},
   "outputs": [
    {
     "name": "stdout",
     "output_type": "stream",
     "text": [
      "10->20->30->40->\n",
      "10->30->40->"
     ]
    }
   ],
   "source": [
    "def delNode(ptr):\n",
    "    nextNode = ptr.next\n",
    "    ptr.data = nextNode.data\n",
    "    ptr.next = nextNode.next\n",
    "    \n",
    "temp1 = Node(10)\n",
    "temp2 = Node(20)\n",
    "temp3 = Node(30)\n",
    "temp4 = Node(40)\n",
    "\n",
    "head = temp1\n",
    "temp1.next = temp2\n",
    "temp2.next = temp3\n",
    "temp3.next = temp4\n",
    "traverseSLL(head)\n",
    "print()\n",
    "delNode(temp2)\n",
    "traverseSLL(head)"
   ]
  },
  {
   "cell_type": "code",
   "execution_count": null,
   "metadata": {},
   "outputs": [],
   "source": []
  }
 ],
 "metadata": {
  "kernelspec": {
   "display_name": "base",
   "language": "python",
   "name": "python3"
  },
  "language_info": {
   "codemirror_mode": {
    "name": "ipython",
    "version": 3
   },
   "file_extension": ".py",
   "mimetype": "text/x-python",
   "name": "python",
   "nbconvert_exporter": "python",
   "pygments_lexer": "ipython3",
   "version": "3.11.8"
  }
 },
 "nbformat": 4,
 "nbformat_minor": 2
}
