{
 "cells": [
  {
   "cell_type": "code",
   "execution_count": 3,
   "metadata": {},
   "outputs": [
    {
     "name": "stdout",
     "output_type": "stream",
     "text": [
      "<__main__.Node object at 0x104900150>\n",
      "<__main__.Node object at 0x1049031d0>\n"
     ]
    }
   ],
   "source": [
    "class Node:\n",
    "    def __init__(self, data):\n",
    "        self.data = data\n",
    "        self.next = None\n",
    "        \n",
    "temp1 = Node(10)\n",
    "temp2 = Node(20)\n",
    "temp3 = Node(30)\n",
    "\n",
    "head1 = temp1\n",
    "temp1.next = temp2\n",
    "temp2.next = temp3\n",
    "\n",
    "print(head1)\n",
    "print(temp1.next)"
   ]
  },
  {
   "cell_type": "code",
   "execution_count": 4,
   "metadata": {},
   "outputs": [
    {
     "name": "stdout",
     "output_type": "stream",
     "text": [
      "10->20->30->"
     ]
    }
   ],
   "source": [
    "#Traversing a SLL - O(N)\n",
    "def traverseSLL(head):\n",
    "    temp = head\n",
    "    while(temp != None):\n",
    "        print(temp.data, end=\"->\")\n",
    "        temp = temp.next\n",
    "        \n",
    "traverseSLL(head1)\n",
    "traverseSLL(None)"
   ]
  },
  {
   "cell_type": "code",
   "execution_count": 5,
   "metadata": {},
   "outputs": [
    {
     "name": "stdout",
     "output_type": "stream",
     "text": [
      "3\n"
     ]
    }
   ],
   "source": [
    "#Search for an element in SLL - Worst Case: O(N)\n",
    "def searchSLL(head, key):\n",
    "    temp = head\n",
    "    foundIndex = 1      #Let us have our 1st node index as 1\n",
    "    while(temp!=None):\n",
    "        if(temp.data == key):\n",
    "            return foundIndex\n",
    "        temp = temp.next\n",
    "        foundIndex+=1\n",
    "    \n",
    "    return -1\n",
    "\n",
    "#Creating a input SLL\n",
    "head2 = Node(10)\n",
    "head2.next = Node(15)\n",
    "head2.next.next = Node(20)\n",
    "head2.next.next.next = Node(25)\n",
    "key = 20\n",
    "print(searchSLL(head2, key))"
   ]
  },
  {
   "cell_type": "code",
   "execution_count": 6,
   "metadata": {},
   "outputs": [
    {
     "name": "stdout",
     "output_type": "stream",
     "text": [
      "30->20->10->"
     ]
    }
   ],
   "source": [
    "#Insert a new node at the beginning/head/front of a SLL. Time Complexity - O(1)\n",
    "def insertBegSLL(head, key):\n",
    "    newNode = Node(key)\n",
    "    newNode.next = head\n",
    "    head = newNode\n",
    "    return head\n",
    "\n",
    "head3 = None\n",
    "head3 = insertBegSLL(head3, 10)\n",
    "head3 = insertBegSLL(head3, 20)\n",
    "head3 = insertBegSLL(head3, 30)\n",
    "traverseSLL(head3)"
   ]
  },
  {
   "cell_type": "code",
   "execution_count": 59,
   "metadata": {},
   "outputs": [
    {
     "name": "stdout",
     "output_type": "stream",
     "text": [
      "10->20->30->"
     ]
    }
   ],
   "source": [
    "#Insert a new node at the end/rear of a SLL. Time complexity: O(N)\n",
    "def insertEndSLL(head, key):\n",
    "    newNode = Node(key)\n",
    "    if head == None:\n",
    "        head = newNode\n",
    "        return head\n",
    "    \n",
    "    temp = head\n",
    "    while(temp.next != None):\n",
    "        temp = temp.next\n",
    "    temp.next = newNode\n",
    "    \n",
    "    return head\n",
    "\n",
    "head4 = None\n",
    "head4 = insertEndSLL(head4,10)\n",
    "head4 = insertEndSLL(head4,20)\n",
    "head4 = insertEndSLL(head4,30)\n",
    "traverseSLL(head4)\n",
    "    "
   ]
  },
  {
   "cell_type": "code",
   "execution_count": 8,
   "metadata": {},
   "outputs": [
    {
     "name": "stdout",
     "output_type": "stream",
     "text": [
      "100->\n",
      "10->20->30->40->"
     ]
    }
   ],
   "source": [
    "#Insert a new node at the specified position of a SLL. Time complexity: O(N) worst case\n",
    "def insertAtPosSLL(head, pos, key, numNodes):\n",
    "    if pos > numNodes+1:\n",
    "        return head\n",
    "     \n",
    "    newNode = Node(key)\n",
    "    if head == None:\n",
    "        head = newNode\n",
    "        return head\n",
    "    \n",
    "    if pos == 1:\n",
    "        newNode.next = head\n",
    "        head = newNode\n",
    "        return head\n",
    "    \n",
    "    temp = head\n",
    "    i = 1\n",
    "    while(i < pos-1):\n",
    "        temp = temp.next\n",
    "        i += 1\n",
    "    newNode.next = temp.next    \n",
    "    temp.next = newNode\n",
    "    \n",
    "    return head\n",
    "\n",
    "head5 = None\n",
    "head5 = insertAtPosSLL(head5, 1, 100, 1)\n",
    "traverseSLL(head5)\n",
    "print()\n",
    "head4 = insertAtPosSLL(head4, 4, 40, 3)\n",
    "traverseSLL(head4)\n"
   ]
  },
  {
   "cell_type": "code",
   "execution_count": 9,
   "metadata": {},
   "outputs": [
    {
     "name": "stdout",
     "output_type": "stream",
     "text": [
      "20->30->"
     ]
    }
   ],
   "source": [
    "#Delete the head node of a SLL. Time Complexity: O(1)\n",
    "def delBegSLL(head):\n",
    "    if head == None:\n",
    "        return head\n",
    "    \n",
    "    head = head.next            #Python's GC will automatically deallocate memory for objects which no longer have any references to it\n",
    "    return head\n",
    "\n",
    "head6 = Node(10)\n",
    "head6.next = Node(20)\n",
    "head6.next.next = Node(30)\n",
    "head6 = delBegSLL(head6)\n",
    "traverseSLL(head6)"
   ]
  },
  {
   "cell_type": "code",
   "execution_count": 10,
   "metadata": {},
   "outputs": [
    {
     "name": "stdout",
     "output_type": "stream",
     "text": [
      "10->20->30->40->\n",
      "10->20->30->\n",
      "10->20->\n",
      "10->\n",
      "\n"
     ]
    }
   ],
   "source": [
    "#Delete a node at the end/rear of a SLL. Time Complexity: O(1)\n",
    "def delEndSLL(head):\n",
    "    if head == None:\n",
    "        return head\n",
    "    \n",
    "    if head.next == None:\n",
    "        return None\n",
    "    \n",
    "    temp = head\n",
    "    while(temp.next.next != None):\n",
    "        temp = temp.next\n",
    "    \n",
    "    temp.next = None\n",
    "    return head\n",
    "\n",
    "head7 = Node(10)\n",
    "head7.next = Node(20)\n",
    "head7.next.next = Node(30)\n",
    "head7.next.next.next = Node(40)\n",
    "traverseSLL(head7)\n",
    "print()\n",
    "\n",
    "head7 = delEndSLL(head7)\n",
    "traverseSLL(head7)\n",
    "print()\n",
    "head7 = delEndSLL(head7)\n",
    "traverseSLL(head7)\n",
    "print()\n",
    "head7 = delEndSLL(head7)\n",
    "traverseSLL(head7)\n",
    "print()\n",
    "head7 = delEndSLL(head7)\n",
    "traverseSLL(head7)\n",
    "print()\n"
   ]
  },
  {
   "cell_type": "markdown",
   "metadata": {},
   "source": [
    "Pgm 1: Delete a node in a SLL with only pointer given to it. \n",
    "head pointer will not be given\n",
    "you will never be asked to delete the last node."
   ]
  },
  {
   "cell_type": "code",
   "execution_count": 11,
   "metadata": {},
   "outputs": [
    {
     "name": "stdout",
     "output_type": "stream",
     "text": [
      "10->20->30->40->\n",
      "10->30->40->"
     ]
    }
   ],
   "source": [
    "#Time complexity: O(1)\n",
    "def delNode(ptr):\n",
    "    nextNode = ptr.next\n",
    "    ptr.data = nextNode.data\n",
    "    ptr.next = nextNode.next\n",
    "    \n",
    "temp1 = Node(10)\n",
    "temp2 = Node(20)\n",
    "temp3 = Node(30)\n",
    "temp4 = Node(40)\n",
    "\n",
    "head = temp1\n",
    "temp1.next = temp2\n",
    "temp2.next = temp3\n",
    "temp3.next = temp4\n",
    "traverseSLL(head)\n",
    "print()\n",
    "delNode(temp2)\n",
    "traverseSLL(head)"
   ]
  },
  {
   "cell_type": "markdown",
   "metadata": {},
   "source": [
    "Pgm 2: Sorted insert in a sorted SLL"
   ]
  },
  {
   "cell_type": "code",
   "execution_count": 57,
   "metadata": {},
   "outputs": [
    {
     "name": "stdout",
     "output_type": "stream",
     "text": [
      "10->20->25->30->\n",
      "10->20->25->30->50->\n",
      "1->10->20->25->30->50->\n",
      "1->10->20->25->30->30->50->\n",
      "1->1->10->20->25->30->30->50->\n"
     ]
    }
   ],
   "source": [
    "#Time complexity: O(N) worst case \n",
    "def sortedInsert(head, key):\n",
    "    newNode = Node(key)\n",
    "    \n",
    "    if head == None:\n",
    "        head = newNode\n",
    "        return head\n",
    "    \n",
    "    if key <= head.data:\n",
    "        newNode.next = head\n",
    "        head = newNode\n",
    "        return head\n",
    "    \n",
    "    temp = head\n",
    "    while(temp.next != None and temp.next.data < key):\n",
    "        temp = temp.next\n",
    "    newNode.next = temp.next\n",
    "    temp.next = newNode\n",
    "    return head\n",
    "\n",
    "head8 = Node(10)\n",
    "head8.next = Node(20)\n",
    "head8.next.next = Node(30)\n",
    "\n",
    "head8 = sortedInsert(head8, 25)\n",
    "traverseSLL(head8)\n",
    "print()\n",
    "head8 = sortedInsert(head8, 50)\n",
    "traverseSLL(head8)\n",
    "print()\n",
    "head8 = sortedInsert(head8, 1)\n",
    "traverseSLL(head8)\n",
    "print()\n",
    "head8 = sortedInsert(head8, 30)\n",
    "traverseSLL(head8)\n",
    "print()\n",
    "head8 = sortedInsert(head8, 1)\n",
    "traverseSLL(head8)\n",
    "print()"
   ]
  },
  {
   "cell_type": "markdown",
   "metadata": {},
   "source": [
    "Pgm 3: Find the middle of a SLL"
   ]
  },
  {
   "cell_type": "code",
   "execution_count": 13,
   "metadata": {},
   "outputs": [
    {
     "name": "stdout",
     "output_type": "stream",
     "text": [
      "1->1->10->20->25->30->30->50->\n",
      "25\n",
      "30->20->10->\n",
      "20\n",
      "20->30->\n",
      "30\n"
     ]
    }
   ],
   "source": [
    "#Approach 1: Time complexity: O(N)\n",
    "def findMiddleSLL1(head):\n",
    "    if head == None:\n",
    "        return\n",
    "    \n",
    "    if head.next == None:\n",
    "        return head.data\n",
    "    \n",
    "    numNodes = 0\n",
    "    temp = head\n",
    "    while temp!=None:\n",
    "        temp = temp.next\n",
    "        numNodes += 1\n",
    "    temp = head\n",
    "    if numNodes%2 != 0:\n",
    "        mid = (numNodes+1)//2\n",
    "    else:\n",
    "        mid = (numNodes//2)+1\n",
    "        \n",
    "    for i in range(1, mid):\n",
    "        temp = temp.next\n",
    "        \n",
    "    return temp.data\n",
    "\n",
    "traverseSLL(head8)\n",
    "print(f\"\\n{findMiddleSLL1(head8)}\")\n",
    "traverseSLL(head3)\n",
    "print(f\"\\n{findMiddleSLL1(head3)}\")\n",
    "traverseSLL(head6)\n",
    "print(f\"\\n{findMiddleSLL1(head6)}\")\n",
    "        "
   ]
  },
  {
   "cell_type": "code",
   "execution_count": 14,
   "metadata": {},
   "outputs": [
    {
     "name": "stdout",
     "output_type": "stream",
     "text": [
      "1->1->10->20->25->30->30->50->\n",
      "25\n",
      "30->20->10->\n",
      "20\n",
      "20->30->\n",
      "30\n"
     ]
    }
   ],
   "source": [
    "#Optimal Approach: Time Complexity: O(N/2) - IMPORTANT Paradigm: Rabbit and Tortise model\n",
    "def findMiddleSLL2(head):\n",
    "    if head == None:\n",
    "        return\n",
    "    \n",
    "    slow = head\n",
    "    fast = head\n",
    "    while(fast!=None and fast.next!=None):\n",
    "        slow = slow.next\n",
    "        fast = fast.next.next\n",
    "        \n",
    "    return slow.data\n",
    "\n",
    "traverseSLL(head8)\n",
    "print(f\"\\n{findMiddleSLL2(head8)}\")\n",
    "traverseSLL(head3)\n",
    "print(f\"\\n{findMiddleSLL2(head3)}\")\n",
    "traverseSLL(head6)\n",
    "print(f\"\\n{findMiddleSLL2(head6)}\")"
   ]
  },
  {
   "cell_type": "markdown",
   "metadata": {},
   "source": [
    "Pgm 4: find nth node from the end of the SLL"
   ]
  },
  {
   "cell_type": "code",
   "execution_count": null,
   "metadata": {},
   "outputs": [
    {
     "name": "stdout",
     "output_type": "stream",
     "text": [
      "10->20->30->40->\n",
      "10\n",
      "40\n",
      "None\n",
      "30\n",
      "20\n"
     ]
    }
   ],
   "source": [
    "#Approach 1: time complexity: O(Len(SLL))\n",
    "def findNodeNfromEndSLL1(head, n):\n",
    "    count = 0\n",
    "    temp = head\n",
    "    while(temp != None):\n",
    "        count+=1\n",
    "        temp = temp.next\n",
    "        \n",
    "    if n > count:\n",
    "        return\n",
    "    \n",
    "    temp = head\n",
    "    i = 1\n",
    "    while(i < count - n + 1):\n",
    "        temp = temp.next\n",
    "        i+=1\n",
    "    return temp.data\n",
    "\n",
    "traverseSLL(head4)\n",
    "print(f\"\\n{findNodeNfromEndSLL1(head4, 4)}\")\n",
    "print(findNodeNfromEndSLL1(head4, 1))\n",
    "print(findNodeNfromEndSLL1(head4, 10))\n",
    "print(findNodeNfromEndSLL1(head4, 2))\n",
    "print(findNodeNfromEndSLL1(head4, 3))"
   ]
  },
  {
   "cell_type": "code",
   "execution_count": 34,
   "metadata": {},
   "outputs": [
    {
     "name": "stdout",
     "output_type": "stream",
     "text": [
      "10->20->30->40->\n",
      "10\n",
      "40\n",
      "None\n",
      "30\n",
      "20\n"
     ]
    }
   ],
   "source": [
    "#Optimal approach\n",
    "def findNodeNfromEndSLL2(head, n):\n",
    "    first = head\n",
    "    second = head\n",
    "    i = 1\n",
    "    while(i <= n):\n",
    "        if first == None:\n",
    "            return\n",
    "        first = first.next\n",
    "        i+=1\n",
    "    \n",
    "    while(first != None):\n",
    "        first = first.next\n",
    "        second = second.next\n",
    "        \n",
    "    return second.data\n",
    "\n",
    "traverseSLL(head4)\n",
    "print(f\"\\n{findNodeNfromEndSLL2(head4, 4)}\")\n",
    "print(findNodeNfromEndSLL2(head4, 1))\n",
    "print(findNodeNfromEndSLL2(head4, 10))\n",
    "print(findNodeNfromEndSLL2(head4, 2))\n",
    "print(findNodeNfromEndSLL2(head4, 3))"
   ]
  },
  {
   "cell_type": "markdown",
   "metadata": {},
   "source": [
    "Remove duplicates from a sorted SLL"
   ]
  },
  {
   "cell_type": "code",
   "execution_count": null,
   "metadata": {},
   "outputs": [
    {
     "name": "stdout",
     "output_type": "stream",
     "text": [
      "1->1->10->20->25->30->30->50->\n",
      "1->10->20->25->30->50->"
     ]
    }
   ],
   "source": [
    "#Time complexity: O(N)\n",
    "def removeDuplicates(head):\n",
    "    if head == None:\n",
    "        return\n",
    "    curr = head\n",
    "    \n",
    "    while curr != None and curr.next != None:\n",
    "        if curr.data == curr.next.data:\n",
    "            curr.next = curr.next.next\n",
    "        else:\n",
    "            curr = curr.next\n",
    "       \n",
    "            \n",
    "traverseSLL(head8)\n",
    "print()\n",
    "removeDuplicates(head8)\n",
    "traverseSLL(head8)"
   ]
  },
  {
   "cell_type": "code",
   "execution_count": 60,
   "metadata": {},
   "outputs": [
    {
     "name": "stdout",
     "output_type": "stream",
     "text": [
      "10->20->30->\n",
      "10->20->30->"
     ]
    }
   ],
   "source": [
    "traverseSLL(head4)\n",
    "removeDuplicates(head4)\n",
    "print()\n",
    "traverseSLL(head4)"
   ]
  },
  {
   "cell_type": "code",
   "execution_count": 61,
   "metadata": {},
   "outputs": [
    {
     "name": "stdout",
     "output_type": "stream",
     "text": [
      "10->20->20->20->\n",
      "10->20->"
     ]
    }
   ],
   "source": [
    "head10 = Node(10)\n",
    "head10.next = Node(20)\n",
    "head10.next.next = Node(20)\n",
    "head10.next.next.next = Node(20)\n",
    "traverseSLL(head10)\n",
    "removeDuplicates(head10)\n",
    "print()\n",
    "traverseSLL(head10)"
   ]
  },
  {
   "cell_type": "code",
   "execution_count": null,
   "metadata": {},
   "outputs": [],
   "source": []
  }
 ],
 "metadata": {
  "kernelspec": {
   "display_name": "base",
   "language": "python",
   "name": "python3"
  },
  "language_info": {
   "codemirror_mode": {
    "name": "ipython",
    "version": 3
   },
   "file_extension": ".py",
   "mimetype": "text/x-python",
   "name": "python",
   "nbconvert_exporter": "python",
   "pygments_lexer": "ipython3",
   "version": "3.11.8"
  }
 },
 "nbformat": 4,
 "nbformat_minor": 2
}
