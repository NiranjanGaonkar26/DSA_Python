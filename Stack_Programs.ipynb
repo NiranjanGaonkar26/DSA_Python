{
 "cells": [
  {
   "cell_type": "markdown",
   "id": "0c7ea690",
   "metadata": {},
   "source": [
    "Custom stack implementation using SLL"
   ]
  },
  {
   "cell_type": "code",
   "execution_count": 8,
   "id": "b1407b5e",
   "metadata": {},
   "outputs": [],
   "source": [
    "class Node:\n",
    "    def __init__(self, data):\n",
    "        self.data = data\n",
    "        self.next = None\n",
    "        \n",
    "class myStack:\n",
    "    def __init__(self):\n",
    "        self.Top = None\n",
    "        self.countNodes = 0\n",
    "        \n",
    "    def push(self, data):                       #Push = front insertion\n",
    "        pushNode = Node(data)\n",
    "        pushNode.next = self.Top\n",
    "        self.Top = pushNode\n",
    "        self.countNodes += 1\n",
    "        \n",
    "    def pop(self):                              #Pop = front deletion\n",
    "        if self.Top == None:\n",
    "            return -999999\n",
    "        else:\n",
    "            popNode = self.Top\n",
    "            self.Top = popNode.next\n",
    "            self.countNodes -= 1\n",
    "            return popNode.data\n",
    "    \n",
    "    def peek(self):\n",
    "        if self.Top == None:\n",
    "            return -999999\n",
    "        else:\n",
    "            return self.Top.data \n",
    "        \n",
    "    def size(self):\n",
    "        return self.countNodes       "
   ]
  },
  {
   "cell_type": "code",
   "execution_count": 9,
   "id": "34e3eb52",
   "metadata": {},
   "outputs": [
    {
     "name": "stdout",
     "output_type": "stream",
     "text": [
      "3\n",
      "30\n",
      "30\n",
      "40\n",
      "3\n"
     ]
    }
   ],
   "source": [
    "stack = myStack()\n",
    "stack.push(10)\n",
    "stack.push(20)\n",
    "stack.push(30)\n",
    "print(stack.size())\n",
    "print(stack.peek())\n",
    "print(stack.pop())\n",
    "stack.push(40)\n",
    "print(stack.peek())\n",
    "print(stack.size())"
   ]
  },
  {
   "cell_type": "code",
   "execution_count": 10,
   "id": "8f89e68a",
   "metadata": {},
   "outputs": [
    {
     "name": "stdout",
     "output_type": "stream",
     "text": [
      "-999999\n"
     ]
    }
   ],
   "source": [
    "s1 = myStack()\n",
    "print(s1.peek())"
   ]
  },
  {
   "cell_type": "markdown",
   "id": "83c8751d",
   "metadata": {},
   "source": [
    "Balanced Paranthesis Problem"
   ]
  },
  {
   "cell_type": "code",
   "execution_count": null,
   "id": "fc72b337",
   "metadata": {},
   "outputs": [
    {
     "name": "stdout",
     "output_type": "stream",
     "text": [
      "True\n",
      "False\n",
      "False\n",
      "True\n",
      "False\n",
      "False\n",
      "False\n",
      "False\n"
     ]
    }
   ],
   "source": [
    "#Time, Space : O(len(Expression)) \n",
    "def paranBalance1(expression):\n",
    "    open = ['(', '{','[']\n",
    "    close = [')', '}', ']']\n",
    "    stack = []\n",
    "    for bracket in expression:\n",
    "        if bracket in open:\n",
    "            stack.append(bracket)\n",
    "        else:\n",
    "            if not stack:\n",
    "                return False\n",
    "            match bracket:\n",
    "                case ')': \n",
    "                    if(stack[-1] == '('): \n",
    "                        stack.pop()\n",
    "                    else:\n",
    "                        return False\n",
    "                case '}':\n",
    "                    if(stack[-1] == '{'):\n",
    "                        stack.pop()\n",
    "                    else:\n",
    "                        return False\n",
    "                case ']':\n",
    "                    if(stack[-1] == '['):\n",
    "                        stack.pop()\n",
    "                    else:\n",
    "                        return False\n",
    "    \n",
    "    if stack:\n",
    "        return False\n",
    "    else:\n",
    "        return True\n",
    "                    \n",
    "print(paranBalance1(\"([])\"))\n",
    "print(paranBalance1(\"((())\"))\n",
    "print(paranBalance1(\"([)]\"))\n",
    "print(paranBalance1(\"{}([()])\"))\n",
    "print(paranBalance1(\"]{}\"))\n",
    "print(paranBalance1(\"]]]\"))\n",
    "print(paranBalance1(\"[[]]]\")) \n",
    "print(paranBalance1(\"((())\"))\n",
    "        "
   ]
  },
  {
   "cell_type": "markdown",
   "id": "2acf8613",
   "metadata": {},
   "source": [
    "Infix to Postfix"
   ]
  },
  {
   "cell_type": "code",
   "execution_count": 6,
   "id": "2bb662cd",
   "metadata": {},
   "outputs": [
    {
     "name": "stdout",
     "output_type": "stream",
     "text": [
      "KL+MN*-OP^W*U/V/T*+Q+\n",
      "OPX*^YZ/+\n",
      "hmq74-^^^\n"
     ]
    }
   ],
   "source": [
    "def infix_To_Postfix(expression):\n",
    "    postfix = \"\"\n",
    "    stack = []\n",
    "    precedence = {'^':3, '*':2, '/':2, '+':1, '-':1, '(':0 }\n",
    "    associativity = {'^':'R', '*':'L', '/':'L', '+':'L', '-':'L'}\n",
    "    \n",
    "    for c in expression:\n",
    "        if c.isalnum():\n",
    "            postfix += c\n",
    "        elif c == '(':\n",
    "            stack.append(c)\n",
    "        elif c == ')':\n",
    "            while stack and stack[-1] != '(':\n",
    "                postfix += stack.pop()\n",
    "            stack.pop()\n",
    "        else:\n",
    "            while stack:\n",
    "                top = stack[-1]\n",
    "                if top == '(':\n",
    "                    break\n",
    "                \n",
    "                if (precedence[top] > precedence[c]) or (precedence[top] == precedence[c] and associativity[c] == 'L'):\n",
    "                    postfix += stack.pop()\n",
    "                else:\n",
    "                    break\n",
    "            stack.append(c)\n",
    "                    \n",
    "    \n",
    "    while stack:\n",
    "        postfix += stack.pop()\n",
    "    \n",
    "    return postfix\n",
    "                    \n",
    "print(infix_To_Postfix(\"K+L-M*N+(O^P)*W/U/V*T+Q\"))\n",
    "print(infix_To_Postfix(\"(O^(P*X)+Y/Z)\"))\n",
    "print(infix_To_Postfix(\"h^m^q^(7-4)\"))\n",
    "                    "
   ]
  },
  {
   "cell_type": "markdown",
   "id": "9f6a5492",
   "metadata": {},
   "source": [
    "Prefix to Infix"
   ]
  },
  {
   "cell_type": "code",
   "execution_count": 8,
   "id": "197251f7",
   "metadata": {},
   "outputs": [
    {
     "data": {
      "text/plain": [
       "'((A-(B/C))*((A/K)-L))'"
      ]
     },
     "execution_count": 8,
     "metadata": {},
     "output_type": "execute_result"
    }
   ],
   "source": [
    "def prefix_to_infix(expression):\n",
    "    infix = \"\"\n",
    "    stack = []\n",
    "    \n",
    "    for c in expression[::-1]:\n",
    "        if c.isalnum():\n",
    "            stack.append(c)\n",
    "        else:\n",
    "            top1 = stack.pop()\n",
    "            top2 = stack.pop()\n",
    "            infix = '(' + top1 + c + top2 + ')'\n",
    "            stack.append(infix)\n",
    "            \n",
    "    infix = stack.pop()\n",
    "    return infix\n",
    "\n",
    "prefix_to_infix(\"*-A/BC-/AKL\")\n",
    "            "
   ]
  },
  {
   "cell_type": "markdown",
   "id": "4ba85ea0",
   "metadata": {},
   "source": [
    "Postfix to Infix"
   ]
  },
  {
   "cell_type": "code",
   "execution_count": 9,
   "id": "98ce2dd9",
   "metadata": {},
   "outputs": [
    {
     "data": {
      "text/plain": [
       "'((a*b)+c)'"
      ]
     },
     "execution_count": 9,
     "metadata": {},
     "output_type": "execute_result"
    }
   ],
   "source": [
    "def post_to_infix(expression):\n",
    "    infix = \"\"\n",
    "    stack = []\n",
    "    \n",
    "    for c in expression:\n",
    "        if c.isalnum():\n",
    "            stack.append(c)\n",
    "        else:\n",
    "            top1 = stack.pop()\n",
    "            top2 = stack.pop()\n",
    "            infix = '(' + top2 + c + top1 + ')'\n",
    "            stack.append(infix)\n",
    "    \n",
    "    infix = stack.pop()\n",
    "    return infix\n",
    "\n",
    "post_to_infix(\"ab*c+\")"
   ]
  },
  {
   "cell_type": "markdown",
   "id": "20ba71e9",
   "metadata": {},
   "source": [
    "Remove repeating character pair"
   ]
  },
  {
   "cell_type": "code",
   "execution_count": 21,
   "id": "230eac2e",
   "metadata": {},
   "outputs": [
    {
     "name": "stdout",
     "output_type": "stream",
     "text": [
      "Empty String\n",
      "aba\n",
      "Empty String\n",
      "ca\n"
     ]
    }
   ],
   "source": [
    "def removePair(s):\n",
    "        # code here\n",
    "        res = \"\"\n",
    "        stack = []\n",
    "        \n",
    "        stack.append(s[0])\n",
    "        \n",
    "        for c in s[1::]:\n",
    "            if stack and c == stack[-1]:\n",
    "                stack.pop()\n",
    "            else:\n",
    "                stack.append(c)\n",
    "        \n",
    "        for c in stack:\n",
    "            res += c\n",
    "        \n",
    "        if res == \"\":\n",
    "            return \"Empty String\"\n",
    "        else:\n",
    "            return res\n",
    "    \n",
    "print(removePair(\"abba\"))\n",
    "print(removePair(\"aba\"))\n",
    "print(removePair(\"aaabbcddca\"))\n",
    "print(removePair(\"aabbcdda\"))"
   ]
  },
  {
   "cell_type": "code",
   "execution_count": null,
   "id": "4a3c4115",
   "metadata": {},
   "outputs": [],
   "source": []
  }
 ],
 "metadata": {
  "kernelspec": {
   "display_name": "base",
   "language": "python",
   "name": "python3"
  },
  "language_info": {
   "codemirror_mode": {
    "name": "ipython",
    "version": 3
   },
   "file_extension": ".py",
   "mimetype": "text/x-python",
   "name": "python",
   "nbconvert_exporter": "python",
   "pygments_lexer": "ipython3",
   "version": "3.11.8"
  }
 },
 "nbformat": 4,
 "nbformat_minor": 5
}
