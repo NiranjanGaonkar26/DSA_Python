{
 "cells": [
  {
   "cell_type": "markdown",
   "id": "0c7ea690",
   "metadata": {},
   "source": [
    "Custom stack implementation using SLL"
   ]
  },
  {
   "cell_type": "code",
   "execution_count": 8,
   "id": "b1407b5e",
   "metadata": {},
   "outputs": [],
   "source": [
    "class Node:\n",
    "    def __init__(self, data):\n",
    "        self.data = data\n",
    "        self.next = None\n",
    "        \n",
    "class myStack:\n",
    "    def __init__(self):\n",
    "        self.Top = None\n",
    "        self.countNodes = 0\n",
    "        \n",
    "    def push(self, data):                       #Push = front insertion\n",
    "        pushNode = Node(data)\n",
    "        pushNode.next = self.Top\n",
    "        self.Top = pushNode\n",
    "        self.countNodes += 1\n",
    "        \n",
    "    def pop(self):                              #Pop = front deletion\n",
    "        if self.Top == None:\n",
    "            return -999999\n",
    "        else:\n",
    "            popNode = self.Top\n",
    "            self.Top = popNode.next\n",
    "            self.countNodes -= 1\n",
    "            return popNode.data\n",
    "    \n",
    "    def peek(self):\n",
    "        if self.Top == None:\n",
    "            return -999999\n",
    "        else:\n",
    "            return self.Top.data \n",
    "        \n",
    "    def size(self):\n",
    "        return self.countNodes       "
   ]
  },
  {
   "cell_type": "code",
   "execution_count": 9,
   "id": "34e3eb52",
   "metadata": {},
   "outputs": [
    {
     "name": "stdout",
     "output_type": "stream",
     "text": [
      "3\n",
      "30\n",
      "30\n",
      "40\n",
      "3\n"
     ]
    }
   ],
   "source": [
    "stack = myStack()\n",
    "stack.push(10)\n",
    "stack.push(20)\n",
    "stack.push(30)\n",
    "print(stack.size())\n",
    "print(stack.peek())\n",
    "print(stack.pop())\n",
    "stack.push(40)\n",
    "print(stack.peek())\n",
    "print(stack.size())"
   ]
  },
  {
   "cell_type": "code",
   "execution_count": 10,
   "id": "8f89e68a",
   "metadata": {},
   "outputs": [
    {
     "name": "stdout",
     "output_type": "stream",
     "text": [
      "-999999\n"
     ]
    }
   ],
   "source": [
    "s1 = myStack()\n",
    "print(s1.peek())"
   ]
  },
  {
   "cell_type": "code",
   "execution_count": null,
   "id": "fc72b337",
   "metadata": {},
   "outputs": [],
   "source": []
  }
 ],
 "metadata": {
  "kernelspec": {
   "display_name": "base",
   "language": "python",
   "name": "python3"
  },
  "language_info": {
   "codemirror_mode": {
    "name": "ipython",
    "version": 3
   },
   "file_extension": ".py",
   "mimetype": "text/x-python",
   "name": "python",
   "nbconvert_exporter": "python",
   "pygments_lexer": "ipython3",
   "version": "3.11.8"
  }
 },
 "nbformat": 4,
 "nbformat_minor": 5
}
