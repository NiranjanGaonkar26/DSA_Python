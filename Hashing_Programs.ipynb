{
 "cells": [
  {
   "cell_type": "markdown",
   "metadata": {},
   "source": [
    "Implementation of Chaining in Python"
   ]
  },
  {
   "cell_type": "code",
   "execution_count": 7,
   "metadata": {},
   "outputs": [
    {
     "name": "stdout",
     "output_type": "stream",
     "text": [
      "[[70, 56], [71], [9, 72], [], [], [], []]\n",
      "True\n",
      "[[70], [71], [9, 72], [], [], [], []]\n"
     ]
    }
   ],
   "source": [
    "class MyHash:\n",
    "    \n",
    "    def __init__(self,b):\n",
    "        self.BUCKET = b\n",
    "        self.hashTable = [[] for i in range(b)]\n",
    "        \n",
    "    def search(self, key):\n",
    "        hashIndex = key%self.BUCKET\n",
    "        return key in self.hashTable[hashIndex]\n",
    "    \n",
    "    def insert(self, key):\n",
    "        hashIndex = key%self.BUCKET\n",
    "        self.hashTable[hashIndex].append(key)\n",
    "        \n",
    "    def delete(self, key):\n",
    "        hashIndex = key%self.BUCKET\n",
    "        if key in self.hashTable[hashIndex]:\n",
    "            self.hashTable[hashIndex].remove(key)\n",
    "        else:\n",
    "            print(\"Key not found\")\n",
    "            \n",
    "myHashTable = MyHash(7)\n",
    "\n",
    "myHashTable.insert(70)\n",
    "myHashTable.insert(71)\n",
    "myHashTable.insert(9)\n",
    "myHashTable.insert(56)\n",
    "myHashTable.insert(72)\n",
    "\n",
    "print(myHashTable.hashTable)\n",
    "\n",
    "print(myHashTable.search(56))\n",
    "myHashTable.delete(56)\n",
    "\n",
    "print(myHashTable.hashTable)"
   ]
  },
  {
   "cell_type": "markdown",
   "metadata": {},
   "source": [
    "Frequencies of array elements"
   ]
  },
  {
   "cell_type": "code",
   "execution_count": 13,
   "metadata": {},
   "outputs": [
    {
     "name": "stdout",
     "output_type": "stream",
     "text": [
      "10 3\n",
      "12 3\n",
      "15 1\n",
      "20 1\n"
     ]
    }
   ],
   "source": [
    "#Naive approach - O(N^2) time; O(1) space\n",
    "def freqArrayEle1(l):\n",
    "    n = len(l)\n",
    "    for i in range(n):\n",
    "        flag = False\n",
    "        freq = 1\n",
    "        for j in range(i):\n",
    "            if l[j]==l[i]:\n",
    "                flag = True\n",
    "                break\n",
    "            \n",
    "        if flag == True:\n",
    "            continue\n",
    "        else:\n",
    "            for j in range(i+1,n):\n",
    "                if l[j] == l[i]:\n",
    "                    freq+=1\n",
    "        print(l[i], freq)\n",
    "        \n",
    "freqArrayEle1([10,12,10,15,10,20,12,12])\n",
    "        "
   ]
  },
  {
   "cell_type": "code",
   "execution_count": 11,
   "metadata": {},
   "outputs": [
    {
     "name": "stdout",
     "output_type": "stream",
     "text": [
      "10 3\n",
      "12 3\n",
      "15 1\n",
      "20 1\n"
     ]
    }
   ],
   "source": [
    "#Optimal Approach (Using Dictionary) - O(N) time; O(N) space\n",
    "def freqArrayEle2(l):\n",
    "    \n",
    "    freqDict = {}\n",
    "    \n",
    "    for ele in l:\n",
    "        if ele in freqDict.keys():\n",
    "            freqDict[ele] += 1\n",
    "        else:\n",
    "            freqDict[ele] = 1\n",
    "            \n",
    "    for key in freqDict:\n",
    "        print(key,freqDict[key])\n",
    "            \n",
    "freqArrayEle2([10,12,10,15,10,20,12,12])"
   ]
  },
  {
   "cell_type": "markdown",
   "metadata": {},
   "source": [
    "Implementation of Open Addressing (Linear Probing)"
   ]
  },
  {
   "cell_type": "code",
   "execution_count": 17,
   "metadata": {},
   "outputs": [
    {
     "name": "stdout",
     "output_type": "stream",
     "text": [
      "[49, 56, 72, None, None, None, None]\n",
      "True\n",
      "[49, -999, 72, None, None, None, None]\n",
      "False\n"
     ]
    }
   ],
   "source": [
    "class myHashLinearProbing:\n",
    "    \n",
    "    def __init__(self,slots):\n",
    "        self.slots = slots\n",
    "        self.hashTable = [None for i in range(slots)]\n",
    "        self.size = 0\n",
    "    \n",
    "    def hashFun(self, key):\n",
    "        return key%self.slots\n",
    "        \n",
    "    def search(self, key):\n",
    "        m = self.slots\n",
    "        hashindex = self.hashFun(key)\n",
    "        i = hashindex\n",
    "        while self.hashTable[i]!=None:          #Linear Probing deals with collision by inserting the key in the 1st empty slot encountered. So while probing linearly if you get an empty slot it means that the element is not in the hash table\n",
    "            if self.hashTable[i] == key:\n",
    "                return True\n",
    "            i = (i+1)%m\n",
    "            if i == hashindex:                  #Return back to original hashIndex => searched the entire table but the key was not present\n",
    "                return False\n",
    "        return False                            #Element not present continuing from the 1st comment\n",
    "    \n",
    "    def insert(self,key):\n",
    "        m = self.slots\n",
    "        if self.size == m:                      #If the hashTable is full, return false => unsuccesful element insertion\n",
    "            return False\n",
    "        if self.search(key) == True:            #This implementation doesn't allow duplicate element insertion\n",
    "            return False\n",
    "        hashIndex = self.hashFun(key)\n",
    "        while self.hashTable[hashIndex] not in (None, -999):        #Go on until you find the 1st empty or deleted position where you insert the element\n",
    "            hashIndex = (hashIndex+1)%m\n",
    "        self.hashTable[hashIndex] = key\n",
    "        self.size+=1\n",
    "        return True\n",
    "            \n",
    "                \n",
    "    def delete(self, key):\n",
    "        m = self.slots\n",
    "        hashindex = self.hashFun(key)\n",
    "        i = hashindex\n",
    "        while self.hashTable[i] != None:\n",
    "            if self.hashTable[i] == key:\n",
    "                self.hashTable[i]=-999\n",
    "                return True\n",
    "            i = (i+1)%m\n",
    "            if i == hashindex:\n",
    "                return False\n",
    "        return False\n",
    "            \n",
    "\n",
    "hObj = myHashLinearProbing(7)\n",
    "\n",
    "hObj.insert(49)\n",
    "hObj.insert(56)\n",
    "hObj.insert(72)\n",
    "print(hObj.hashTable)\n",
    "print(hObj.search(56))\n",
    "hObj.delete(56)\n",
    "print(hObj.hashTable)\n",
    "print(hObj.search(56))\n",
    "                "
   ]
  },
  {
   "cell_type": "markdown",
   "metadata": {},
   "source": [
    "Sets"
   ]
  },
  {
   "cell_type": "code",
   "execution_count": 3,
   "metadata": {},
   "outputs": [
    {
     "name": "stdout",
     "output_type": "stream",
     "text": [
      "<class 'set'> {10, 20, 30}\n",
      "{40, 20, 30}\n",
      "{1, 2}\n",
      "<class 'set'>\n",
      "{}\n"
     ]
    }
   ],
   "source": [
    "s1 = {10,20,30}\n",
    "print(type(s1),s1)\n",
    "\n",
    "s2 = set([20,30,40])\n",
    "print(s2)\n",
    "\n",
    "s3 = set({1:'a', 2:'b'})\n",
    "print(s3)\n",
    "\n",
    "s4 = {}\n",
    "print(type(s3))\n",
    "\n",
    "s5 = set()\n",
    "print(s4)"
   ]
  },
  {
   "cell_type": "code",
   "execution_count": 4,
   "metadata": {},
   "outputs": [
    {
     "name": "stdout",
     "output_type": "stream",
     "text": [
      "{10, 20, 30}\n",
      "{10, 20, 30}\n",
      "{80, 50, 20, 90, 40, 10, 30}\n"
     ]
    }
   ],
   "source": [
    "s = {10, 20}\n",
    "s.add(30)\n",
    "print(s)\n",
    "s.add(30)\n",
    "print(s)\n",
    "s.update({80,90},[40,50])               #Adds items from multiple collections to the set\n",
    "print(s)"
   ]
  },
  {
   "cell_type": "code",
   "execution_count": 7,
   "metadata": {},
   "outputs": [
    {
     "name": "stdout",
     "output_type": "stream",
     "text": [
      "{2, 3, 4}\n",
      "{3, 4}\n",
      "set()\n"
     ]
    }
   ],
   "source": [
    "s = {1,2,3,4}\n",
    "\n",
    "s.discard(1)         #removes the input element if present, if not does not do anything\n",
    "print(s)\n",
    "\n",
    "s.remove(2)          #removes the input element if present, if not throws an error\n",
    "print(s)\n",
    "\n",
    "s.clear()            #removes all the elements from the set, resulting in an empty set\n",
    "print(s)\n",
    "\n",
    "s.add(7)\n",
    "del s                #del is a general operator which deletes entire object itself"
   ]
  },
  {
   "cell_type": "code",
   "execution_count": 10,
   "metadata": {},
   "outputs": [
    {
     "name": "stdout",
     "output_type": "stream",
     "text": [
      "{2, 3, 4, 6, 8, 9}\n",
      "{6}\n",
      "{8, 2, 4}\n",
      "{2, 3, 4, 8, 9}\n",
      "False\n",
      "False\n",
      "False\n",
      "True\n",
      "True\n"
     ]
    }
   ],
   "source": [
    "#Set operations\n",
    "\n",
    "s1 = {2,4,6,8}\n",
    "s2 = {3,6,9}\n",
    "\n",
    "print(s1|s2)         # | => union, can also be achieved using s1.union(s2). Does not modify original sets \n",
    "print(s1&s2)         # & => intersection, can also be achieved using s1.intersection(s2). Does not modify original sets\n",
    "print(s1-s2)         # | => set difference, can also be achieved using s1.difference(s2). Does not modify original sets\n",
    "print(s1^s2)         # ^ => symmetric difference(i.2, (s1 U s2) - (s1 ^ s2)). can also be achieved using s1.symmetric_difference(s2). Does not modify original sets\n",
    "\n",
    "s3 = {2,4,6,8}\n",
    "s4 = {4,8}\n",
    "print(s3.isdisjoint(s4))\n",
    "print(s3 <= s4)             #s1.issubset(s2)\n",
    "print(s3 < s4)              #proper subset only\n",
    "print(s3 >= s4)             #s1.issuperset(s2)\n",
    "print(s3 > s4)              #proper superset only\n",
    "\n"
   ]
  },
  {
   "cell_type": "markdown",
   "metadata": {},
   "source": [
    "Dictionaries"
   ]
  },
  {
   "cell_type": "code",
   "execution_count": 12,
   "metadata": {},
   "outputs": [
    {
     "name": "stdout",
     "output_type": "stream",
     "text": [
      "{110: 'abc', 101: 'xyz', 105: 'pqr'}\n",
      "{'laptop': 40000, 'mobile': 15000, 'earphone': 1000}\n",
      "99999\n"
     ]
    }
   ],
   "source": [
    "d1 = {110:\"abc\", 101:\"xyz\", 105:\"pqr\"}\n",
    "print(d1)\n",
    "\n",
    "d2 = dict()\n",
    "d2[\"laptop\"] = 40000\n",
    "d2[\"mobile\"] = 15000\n",
    "d2[\"earphone\"] = 1000\n",
    "print(d2)\n",
    "d2[\"laptop\"] = 99999\n",
    "print(d2[\"laptop\"])\n"
   ]
  },
  {
   "cell_type": "code",
   "execution_count": 14,
   "metadata": {},
   "outputs": [
    {
     "name": "stdout",
     "output_type": "stream",
     "text": [
      "xyz\n",
      "None\n",
      "NA\n"
     ]
    }
   ],
   "source": [
    "d = {110:\"abc\", 101:\"xyz\", 105:\"pqr\"}\n",
    "\n",
    "print(d.get(101))           #Gets the value associated with the input key if the key is present, else returns None by default\n",
    "print(d.get(125))           #d[125] would have given key error\n",
    "h = d.get(125,\"NA\")        \n",
    "print(h)"
   ]
  },
  {
   "cell_type": "code",
   "execution_count": 21,
   "metadata": {},
   "outputs": [
    {
     "name": "stdout",
     "output_type": "stream",
     "text": [
      "{110: 'abc', 101: 'xyz', 105: 'pqr', 106: 'bcd', None: 1}\n",
      "1\n",
      "5\n",
      "1\n",
      "{110: 'abc', 101: 'wxy', 105: 'pqr', 106: 'bcd'}\n",
      "{110: 'abc', 101: 'wxy', 105: 'pqr'}\n",
      "(105, 'pqr')\n"
     ]
    }
   ],
   "source": [
    "d2 = {110:\"abc\", 101:\"xyz\", 105:\"pqr\", 106:\"bcd\", None:1}\n",
    "print(d2)\n",
    "print(d2[None])\n",
    "print(len(d2))\n",
    "\n",
    "d2[101] = \"wxy\"\n",
    "print(d2.pop(None))\n",
    "print(d2)\n",
    "del d2[106]\n",
    "print(d2)\n",
    "print(d2.popitem())"
   ]
  },
  {
   "cell_type": "markdown",
   "metadata": {},
   "source": [
    "Count Distinct Items in a List"
   ]
  },
  {
   "cell_type": "code",
   "execution_count": 32,
   "metadata": {},
   "outputs": [
    {
     "name": "stdout",
     "output_type": "stream",
     "text": [
      "3\n"
     ]
    }
   ],
   "source": [
    "#Naive Approach\n",
    "def countDistinctItems1(arr):\n",
    "    res = 1\n",
    "    \n",
    "    for i in range(1,len(arr)):\n",
    "        if arr[i] not in arr[0:i]:\n",
    "            res+=1\n",
    "            \n",
    "    return res\n",
    "\n",
    "l = [10, 20, 10 ,30, 30 ,20]\n",
    "print(countDistinctItems1(l))"
   ]
  },
  {
   "cell_type": "code",
   "execution_count": 31,
   "metadata": {},
   "outputs": [
    {
     "name": "stdout",
     "output_type": "stream",
     "text": [
      "3\n"
     ]
    }
   ],
   "source": [
    "#Efficient Approach\n",
    "def countDistinctItems2(arr):\n",
    "    s = set(l)\n",
    "    return len(s)\n",
    "\n",
    "l = [10, 20, 10 ,30, 30 ,20]\n",
    "print(countDistinctItems2(l))"
   ]
  },
  {
   "cell_type": "code",
   "execution_count": null,
   "metadata": {},
   "outputs": [],
   "source": []
  }
 ],
 "metadata": {
  "kernelspec": {
   "display_name": "base",
   "language": "python",
   "name": "python3"
  },
  "language_info": {
   "codemirror_mode": {
    "name": "ipython",
    "version": 3
   },
   "file_extension": ".py",
   "mimetype": "text/x-python",
   "name": "python",
   "nbconvert_exporter": "python",
   "pygments_lexer": "ipython3",
   "version": "3.11.8"
  }
 },
 "nbformat": 4,
 "nbformat_minor": 2
}
