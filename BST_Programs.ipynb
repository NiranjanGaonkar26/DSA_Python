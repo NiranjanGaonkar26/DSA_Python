{
 "cells": [
  {
   "cell_type": "code",
   "execution_count": 51,
   "id": "92435169",
   "metadata": {},
   "outputs": [],
   "source": [
    "class BSTNode:\n",
    "    def __init__(self, data):\n",
    "        self.data = data\n",
    "        self.left = None\n",
    "        self.right = None"
   ]
  },
  {
   "cell_type": "code",
   "execution_count": 52,
   "id": "a2ad9a25",
   "metadata": {},
   "outputs": [],
   "source": [
    "#Sample BST\n",
    "\n",
    "root = BSTNode(40)\n",
    "root.left = BSTNode(20)\n",
    "root.right = BSTNode(80)\n",
    "root.left.left = BSTNode(8)\n",
    "root.left.right = BSTNode(30)\n",
    "root.right.left = BSTNode(60)\n",
    "root.right.right = BSTNode(100)\n",
    "root.right.right.right = BSTNode(120)"
   ]
  },
  {
   "cell_type": "markdown",
   "id": "460a0256",
   "metadata": {},
   "source": [
    "InOrder traversal of BST - gives ascending order"
   ]
  },
  {
   "cell_type": "code",
   "execution_count": 53,
   "id": "ac94d673",
   "metadata": {},
   "outputs": [
    {
     "name": "stdout",
     "output_type": "stream",
     "text": [
      "8 20 30 40 60 80 100 120 "
     ]
    }
   ],
   "source": [
    "def printBSTAsc(root):\n",
    "    if root == None:\n",
    "        return\n",
    "    printBSTAsc(root.left)\n",
    "    print(root.data, end = \" \")\n",
    "    printBSTAsc(root.right)\n",
    "    \n",
    "printBSTAsc(root)"
   ]
  },
  {
   "cell_type": "markdown",
   "id": "2997e5d1",
   "metadata": {},
   "source": [
    "Search in BST"
   ]
  },
  {
   "cell_type": "code",
   "execution_count": 54,
   "id": "f779b351",
   "metadata": {},
   "outputs": [
    {
     "name": "stdout",
     "output_type": "stream",
     "text": [
      "True\n",
      "True\n",
      "False\n",
      "False\n"
     ]
    }
   ],
   "source": [
    "#Recursive Solution - Time: O(height), Space: O(height)\n",
    "def searchBST(root, key):\n",
    "    if root == None:\n",
    "        return False\n",
    "    else:\n",
    "        if key == root.data:\n",
    "            return True\n",
    "        elif key < root.data:\n",
    "            return searchBST(root.left, key)\n",
    "        else:\n",
    "            return searchBST(root.right, key)\n",
    "\n",
    "print(searchBST(root, 100))\n",
    "print(searchBST(root, 120))\n",
    "print(searchBST(root, 1))\n",
    "print(searchBST(root, 500))"
   ]
  },
  {
   "cell_type": "code",
   "execution_count": 55,
   "id": "3faea315",
   "metadata": {},
   "outputs": [
    {
     "name": "stdout",
     "output_type": "stream",
     "text": [
      "True\n",
      "True\n",
      "False\n",
      "False\n"
     ]
    }
   ],
   "source": [
    "#Iterative Solution - Time: O(height), Space: O(1)\n",
    "def searchBSTIter(root, key):\n",
    "    temp = root\n",
    "    while temp != None:\n",
    "        if key == temp.data:\n",
    "            return True\n",
    "        elif key < temp.data:\n",
    "            temp = temp.left\n",
    "        else:\n",
    "            temp = temp.right\n",
    "            \n",
    "    return False\n",
    "\n",
    "print(searchBSTIter(root, 100))\n",
    "print(searchBSTIter(root, 120))\n",
    "print(searchBSTIter(root, 1))\n",
    "print(searchBSTIter(root, 500 ))"
   ]
  },
  {
   "cell_type": "markdown",
   "id": "80ccfd16",
   "metadata": {},
   "source": [
    "Insert a node into BST (Assume no duplicates allowed)"
   ]
  },
  {
   "cell_type": "code",
   "execution_count": null,
   "id": "46600d30",
   "metadata": {},
   "outputs": [
    {
     "name": "stdout",
     "output_type": "stream",
     "text": [
      "Node with value 100 already exists\n",
      "8 20 30 40 60 80 100 120 \n",
      "8 20 30 40 60 75 80 100 120 \n",
      "8 20 25 30 40 60 75 80 100 120 "
     ]
    }
   ],
   "source": [
    "#Iterative solution: Time: O(height), Space: O(1)\n",
    "def insertBST(root, key):\n",
    "    newNode = BSTNode(key)\n",
    "    temp = root\n",
    "    parent = root\n",
    "    while temp != None:\n",
    "        parent = temp\n",
    "        if key == temp.data:\n",
    "            print(f\"Node with value {key} already exists\")\n",
    "            return root\n",
    "        elif key < temp.data:\n",
    "            temp = temp.left\n",
    "        else:\n",
    "            temp = temp.right\n",
    "            \n",
    "    if parent == None:\n",
    "        return newNode\n",
    "    if key < parent.data:\n",
    "        parent.left = newNode\n",
    "    elif key > parent.data:\n",
    "        parent.right = newNode\n",
    "    return root\n",
    "\n",
    "insertBST(root, 100)\n",
    "printBSTAsc(root)\n",
    "print()\n",
    "insertBST(root, 75)\n",
    "printBSTAsc(root)\n",
    "print()\n",
    "insertBST(root, 25)\n",
    "printBSTAsc(root)"
   ]
  },
  {
   "cell_type": "code",
   "execution_count": null,
   "id": "66398edd",
   "metadata": {},
   "outputs": [
    {
     "name": "stdout",
     "output_type": "stream",
     "text": [
      "Node with value 7 already exists\n",
      "5 7 9 10 12 15 18 "
     ]
    }
   ],
   "source": [
    "#Recursive Solution: Time: O(height), Space: O(height)\n",
    "def insertBSTRec(root, key):\n",
    "    if root == None:\n",
    "        root = BSTNode(key)\n",
    "        return root\n",
    "    else:\n",
    "        if key == root.data:\n",
    "            print(f\"Node with value {key} already exists\")\n",
    "            return root\n",
    "        elif key < root.data:\n",
    "            root.left = insertBSTRec(root.left, key)\n",
    "            return root\n",
    "        else:\n",
    "            root.right = insertBSTRec(root.right, key)\n",
    "            return root\n",
    "\n",
    "root1 = None\n",
    "nodeList = [10, 15, 5, 7, 12, 7, 18, 9]\n",
    "for node in nodeList:\n",
    "    root1 = insertBSTRec(root1, node)\n",
    "printBSTAsc(root1)     "
   ]
  },
  {
   "cell_type": "markdown",
   "id": "00fb7693",
   "metadata": {},
   "source": [
    "Delete a node from BST"
   ]
  },
  {
   "cell_type": "code",
   "execution_count": null,
   "id": "2dfada33",
   "metadata": {},
   "outputs": [
    {
     "name": "stdout",
     "output_type": "stream",
     "text": [
      "5 7 9 10 12 15 18 \n",
      "5 7 10 12 15 18 \n",
      "7 10 12 15 18 \n",
      "7 12 15 18 \n"
     ]
    }
   ],
   "source": [
    "#Time: O(height), Space: O(height)\n",
    "def deleteNodeBST(root, key):\n",
    "    if root == None:\n",
    "        print(f\"Key {key} not in the BST\")\n",
    "        return None\n",
    "    else:\n",
    "        if key == root.data:\n",
    "            if root.left == None and root.right == None:\n",
    "                root = None\n",
    "                return root\n",
    "            elif root.left == None and root.right != None:\n",
    "                return root.right\n",
    "            elif root.left != None and root.right == None:\n",
    "                return root.left\n",
    "            else:\n",
    "                successorData = InOrderSuccessor(root.right)\n",
    "                root.data = successorData\n",
    "                root.right = deleteNodeBST(root.right, successorData)\n",
    "        \n",
    "        elif key < root.data:\n",
    "            root.left = deleteNodeBST(root.left, key)\n",
    "            return root\n",
    "        else:\n",
    "            root.right = deleteNodeBST(root.right, key)\n",
    "            return root\n",
    "\n",
    "def InOrderSuccessor(root):\n",
    "    if root == None:\n",
    "        return\n",
    "    curr = root\n",
    "    while curr.left != None:\n",
    "        curr = curr.left\n",
    "    return curr.data\n",
    "\n",
    "printBSTAsc(root1)\n",
    "print()\n",
    "deleteNodeBST(root1, 9)\n",
    "printBSTAsc(root1)\n",
    "print()\n",
    "deleteNodeBST(root1, 5)\n",
    "printBSTAsc(root1)\n",
    "print()\n",
    "deleteNodeBST(root1, 10)\n",
    "printBSTAsc(root1)\n",
    "print()"
   ]
  },
  {
   "cell_type": "code",
   "execution_count": 85,
   "id": "fcf99058",
   "metadata": {},
   "outputs": [
    {
     "name": "stdout",
     "output_type": "stream",
     "text": [
      "7 10 15 \n",
      "7 15 "
     ]
    }
   ],
   "source": [
    "root2 = BSTNode(10)\n",
    "insertBST(root2, 7)\n",
    "insertBST(root2, 15)\n",
    "printBSTAsc(root2)\n",
    "print()\n",
    "deleteNodeBST(root2, 10)\n",
    "printBSTAsc(root2)"
   ]
  },
  {
   "cell_type": "code",
   "execution_count": null,
   "id": "0ad6a7ec",
   "metadata": {},
   "outputs": [],
   "source": []
  }
 ],
 "metadata": {
  "kernelspec": {
   "display_name": "base",
   "language": "python",
   "name": "python3"
  },
  "language_info": {
   "codemirror_mode": {
    "name": "ipython",
    "version": 3
   },
   "file_extension": ".py",
   "mimetype": "text/x-python",
   "name": "python",
   "nbconvert_exporter": "python",
   "pygments_lexer": "ipython3",
   "version": "3.11.8"
  }
 },
 "nbformat": 4,
 "nbformat_minor": 5
}
