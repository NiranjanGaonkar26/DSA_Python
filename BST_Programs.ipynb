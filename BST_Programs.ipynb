{
 "cells": [
  {
   "cell_type": "code",
   "execution_count": 2,
   "id": "92435169",
   "metadata": {},
   "outputs": [],
   "source": [
    "class BSTNode:\n",
    "    def __init__(self, data):\n",
    "        self.data = data\n",
    "        self.left = None\n",
    "        self.right = None"
   ]
  },
  {
   "cell_type": "code",
   "execution_count": 3,
   "id": "a2ad9a25",
   "metadata": {},
   "outputs": [],
   "source": [
    "#Sample BST\n",
    "\n",
    "root = BSTNode(40)\n",
    "root.left = BSTNode(20)\n",
    "root.right = BSTNode(80)\n",
    "root.left.left = BSTNode(8)\n",
    "root.left.right = BSTNode(30)\n",
    "root.right.left = BSTNode(60)\n",
    "root.right.right = BSTNode(100)\n",
    "root.right.right.right = BSTNode(120)"
   ]
  },
  {
   "cell_type": "markdown",
   "id": "460a0256",
   "metadata": {},
   "source": [
    "InOrder traversal of BST - gives ascending order"
   ]
  },
  {
   "cell_type": "code",
   "execution_count": 4,
   "id": "ac94d673",
   "metadata": {},
   "outputs": [
    {
     "name": "stdout",
     "output_type": "stream",
     "text": [
      "8 20 30 40 60 80 100 120 "
     ]
    }
   ],
   "source": [
    "def printBSTAsc(root):\n",
    "    if root == None:\n",
    "        return\n",
    "    printBSTAsc(root.left)\n",
    "    print(root.data, end = \" \")\n",
    "    printBSTAsc(root.right)\n",
    "    \n",
    "printBSTAsc(root)"
   ]
  },
  {
   "cell_type": "markdown",
   "id": "2997e5d1",
   "metadata": {},
   "source": [
    "Search in BST"
   ]
  },
  {
   "cell_type": "code",
   "execution_count": 5,
   "id": "f779b351",
   "metadata": {},
   "outputs": [
    {
     "name": "stdout",
     "output_type": "stream",
     "text": [
      "True\n",
      "True\n",
      "False\n",
      "False\n"
     ]
    }
   ],
   "source": [
    "#Recursive Solution - Time: O(height), Space: O(height)\n",
    "def searchBST(root, key):\n",
    "    if root == None:\n",
    "        return False\n",
    "    else:\n",
    "        if key == root.data:\n",
    "            return True\n",
    "        elif key < root.data:\n",
    "            return searchBST(root.left, key)\n",
    "        else:\n",
    "            return searchBST(root.right, key)\n",
    "\n",
    "print(searchBST(root, 100))\n",
    "print(searchBST(root, 120))\n",
    "print(searchBST(root, 1))\n",
    "print(searchBST(root, 500))"
   ]
  },
  {
   "cell_type": "code",
   "execution_count": 6,
   "id": "3faea315",
   "metadata": {},
   "outputs": [
    {
     "name": "stdout",
     "output_type": "stream",
     "text": [
      "True\n",
      "True\n",
      "False\n",
      "False\n"
     ]
    }
   ],
   "source": [
    "#Iterative Solution - Time: O(height), Space: O(1)\n",
    "def searchBSTIter(root, key):\n",
    "    temp = root\n",
    "    while temp != None:\n",
    "        if key == temp.data:\n",
    "            return True\n",
    "        elif key < temp.data:\n",
    "            temp = temp.left\n",
    "        else:\n",
    "            temp = temp.right\n",
    "            \n",
    "    return False\n",
    "\n",
    "print(searchBSTIter(root, 100))\n",
    "print(searchBSTIter(root, 120))\n",
    "print(searchBSTIter(root, 1))\n",
    "print(searchBSTIter(root, 500 ))"
   ]
  },
  {
   "cell_type": "markdown",
   "id": "80ccfd16",
   "metadata": {},
   "source": [
    "Insert a node into BST (Assume no duplicates allowed)"
   ]
  },
  {
   "cell_type": "code",
   "execution_count": 7,
   "id": "46600d30",
   "metadata": {},
   "outputs": [
    {
     "name": "stdout",
     "output_type": "stream",
     "text": [
      "Node with value 100 already exists\n",
      "8 20 30 40 60 80 100 120 \n",
      "8 20 30 40 60 75 80 100 120 \n",
      "8 20 25 30 40 60 75 80 100 120 "
     ]
    }
   ],
   "source": [
    "#Iterative solution: Time: O(height), Space: O(1)\n",
    "def insertBST(root, key):\n",
    "    newNode = BSTNode(key)\n",
    "    temp = root\n",
    "    parent = root\n",
    "    while temp != None:\n",
    "        parent = temp\n",
    "        if key == temp.data:\n",
    "            print(f\"Node with value {key} already exists\")\n",
    "            return root\n",
    "        elif key < temp.data:\n",
    "            temp = temp.left\n",
    "        else:\n",
    "            temp = temp.right\n",
    "            \n",
    "    if parent == None:\n",
    "        return newNode\n",
    "    if key < parent.data:\n",
    "        parent.left = newNode\n",
    "    elif key > parent.data:\n",
    "        parent.right = newNode\n",
    "    return root\n",
    "\n",
    "insertBST(root, 100)\n",
    "printBSTAsc(root)\n",
    "print()\n",
    "insertBST(root, 75)\n",
    "printBSTAsc(root)\n",
    "print()\n",
    "insertBST(root, 25)\n",
    "printBSTAsc(root)"
   ]
  },
  {
   "cell_type": "code",
   "execution_count": 8,
   "id": "66398edd",
   "metadata": {},
   "outputs": [
    {
     "name": "stdout",
     "output_type": "stream",
     "text": [
      "Node with value 7 already exists\n",
      "5 7 9 10 12 15 18 "
     ]
    }
   ],
   "source": [
    "#Recursive Solution: Time: O(height), Space: O(height)\n",
    "def insertBSTRec(root, key):\n",
    "    if root == None:\n",
    "        root = BSTNode(key)\n",
    "        return root\n",
    "    else:\n",
    "        if key == root.data:\n",
    "            print(f\"Node with value {key} already exists\")\n",
    "            return root\n",
    "        elif key < root.data:\n",
    "            root.left = insertBSTRec(root.left, key)\n",
    "            return root\n",
    "        else:\n",
    "            root.right = insertBSTRec(root.right, key)\n",
    "            return root\n",
    "\n",
    "root1 = None\n",
    "nodeList = [10, 15, 5, 7, 12, 7, 18, 9]\n",
    "for node in nodeList:\n",
    "    root1 = insertBSTRec(root1, node)\n",
    "printBSTAsc(root1)     "
   ]
  },
  {
   "cell_type": "markdown",
   "id": "00fb7693",
   "metadata": {},
   "source": [
    "Delete a node from BST"
   ]
  },
  {
   "cell_type": "code",
   "execution_count": 9,
   "id": "2dfada33",
   "metadata": {},
   "outputs": [
    {
     "name": "stdout",
     "output_type": "stream",
     "text": [
      "5 7 9 10 12 15 18 \n",
      "5 7 10 12 15 18 \n",
      "7 10 12 15 18 \n",
      "7 12 15 18 \n"
     ]
    }
   ],
   "source": [
    "#Time: O(height), Space: O(height)\n",
    "def deleteNodeBST(root, key):\n",
    "    if root == None:\n",
    "        print(f\"Key {key} not in the BST\")\n",
    "        return None\n",
    "    else:\n",
    "        if key == root.data:\n",
    "            if root.left == None and root.right == None:\n",
    "                root = None\n",
    "                return root\n",
    "            elif root.left == None and root.right != None:\n",
    "                return root.right\n",
    "            elif root.left != None and root.right == None:\n",
    "                return root.left\n",
    "            else:\n",
    "                successorData = InOrderSuccessor(root.right)\n",
    "                root.data = successorData\n",
    "                root.right = deleteNodeBST(root.right, successorData)\n",
    "        \n",
    "        elif key < root.data:\n",
    "            root.left = deleteNodeBST(root.left, key)\n",
    "            return root\n",
    "        else:\n",
    "            root.right = deleteNodeBST(root.right, key)\n",
    "            return root\n",
    "\n",
    "def InOrderSuccessor(root):\n",
    "    if root == None:\n",
    "        return\n",
    "    curr = root\n",
    "    while curr.left != None:\n",
    "        curr = curr.left\n",
    "    return curr.data\n",
    "\n",
    "printBSTAsc(root1)\n",
    "print()\n",
    "deleteNodeBST(root1, 9)\n",
    "printBSTAsc(root1)\n",
    "print()\n",
    "deleteNodeBST(root1, 5)\n",
    "printBSTAsc(root1)\n",
    "print()\n",
    "deleteNodeBST(root1, 10)\n",
    "printBSTAsc(root1)\n",
    "print()"
   ]
  },
  {
   "cell_type": "code",
   "execution_count": 10,
   "id": "fcf99058",
   "metadata": {},
   "outputs": [
    {
     "name": "stdout",
     "output_type": "stream",
     "text": [
      "7 10 15 \n",
      "7 15 "
     ]
    }
   ],
   "source": [
    "root2 = BSTNode(10)\n",
    "insertBST(root2, 7)\n",
    "insertBST(root2, 15)\n",
    "printBSTAsc(root2)\n",
    "print()\n",
    "deleteNodeBST(root2, 10)\n",
    "printBSTAsc(root2)"
   ]
  },
  {
   "cell_type": "markdown",
   "id": "eae05507",
   "metadata": {},
   "source": [
    "Floor of a value in BST"
   ]
  },
  {
   "cell_type": "code",
   "execution_count": null,
   "id": "0ad6a7ec",
   "metadata": {},
   "outputs": [
    {
     "name": "stdout",
     "output_type": "stream",
     "text": [
      "75\n",
      "None\n",
      "8\n",
      "120\n"
     ]
    }
   ],
   "source": [
    "#Naive Solution: Time - O(Nodes), Space - O(height)\n",
    "import math\n",
    "def floorBST(root, key, floorVal = -math.inf):\n",
    "    if root == None:\n",
    "        return None if floorVal == -math.inf else floorVal\n",
    "    \n",
    "    if (root.data <= key) and (root.data > floorVal):\n",
    "        floorVal = root.data\n",
    "    floorVal = floorBST(root.left, key, floorVal)\n",
    "    floorVal = floorBST(root.right, key, floorVal)\n",
    "    return floorVal\n",
    "        \n",
    "print(floorBST(root,79))\n",
    "print(floorBST(root,7))\n",
    "print(floorBST(root,19))\n",
    "print(floorBST(root,121))\n",
    "    "
   ]
  },
  {
   "cell_type": "code",
   "execution_count": null,
   "id": "c7159b97",
   "metadata": {},
   "outputs": [
    {
     "name": "stdout",
     "output_type": "stream",
     "text": [
      "75\n",
      "8\n",
      "120\n"
     ]
    }
   ],
   "source": [
    "#Optimal Approach: Time - O(height), Space - O(1). A small modification to this program - I am returning the floor node rather than the floor value\n",
    "def floorBST1(root, key):\n",
    "    curr = root\n",
    "    floor = None\n",
    "    while curr != None:\n",
    "        if key == curr.data:\n",
    "            return curr\n",
    "        elif key < curr.data:\n",
    "            curr = curr.left\n",
    "        else:\n",
    "            floor = curr\n",
    "            curr = curr.right\n",
    "            \n",
    "    return floor\n",
    "\n",
    "temp = floorBST1(root, 79)\n",
    "if temp:\n",
    "    print(temp.data)\n",
    "    temp = floorBST1(root, 79)\n",
    "temp = floorBST1(root, 19)\n",
    "if temp:\n",
    "    print(temp.data)\n",
    "temp = floorBST1(root, 7)\n",
    "if temp:\n",
    "    print(temp.data)\n",
    "temp = floorBST1(root, 121)\n",
    "if temp:\n",
    "    print(temp.data)\n"
   ]
  },
  {
   "cell_type": "markdown",
   "id": "709700a3",
   "metadata": {},
   "source": [
    "Ceil of a value in BST"
   ]
  },
  {
   "cell_type": "code",
   "execution_count": null,
   "id": "7dca5af2",
   "metadata": {},
   "outputs": [
    {
     "name": "stdout",
     "output_type": "stream",
     "text": [
      "60\n",
      "8\n",
      "20\n",
      "None\n"
     ]
    }
   ],
   "source": [
    "#Optimal Approach: Time - O(height), Space - O(1)\n",
    "def ceilBST(root, key):\n",
    "    ceil = None\n",
    "    curr = root\n",
    "    while curr != None:\n",
    "        if key == curr.data:\n",
    "            ceil = key\n",
    "            return ceil\n",
    "        elif key < curr.data:\n",
    "            ceil = curr.data\n",
    "            curr = curr.left\n",
    "        else:\n",
    "            curr = curr.right\n",
    "    \n",
    "    return ceil\n",
    "\n",
    "print(ceilBST(root,50))\n",
    "print(ceilBST(root,7))\n",
    "print(ceilBST(root,19))\n",
    "print(ceilBST(root,121))"
   ]
  },
  {
   "cell_type": "markdown",
   "id": "5fd4dffa",
   "metadata": {},
   "source": [
    "AVL Tree"
   ]
  },
  {
   "cell_type": "code",
   "execution_count": null,
   "id": "1053a8e1",
   "metadata": {},
   "outputs": [],
   "source": [
    "class AVLNode:\n",
    "    def __init__(self, key):\n",
    "        self.data = key\n",
    "        self.height = 1\n",
    "        self.left = None\n",
    "        self.right = None\n",
    "        \n",
    "class AVLTree:\n",
    "    def __init__(self):\n",
    "        self.root = None\n",
    "        \n",
    "    def insert(self, key):\n",
    "        self.root = self.insertUtil(self.root, key)\n",
    "        \n",
    "    def delete(self, key):\n",
    "        self.root = self.deleteUtil(self.root, key)\n",
    "    \n",
    "    def search(self, key):\n",
    "        if self.root == None:\n",
    "            print(\"Node with key {key} not found\")\n",
    "            return False\n",
    "        curr = self.root\n",
    "        while curr:\n",
    "            if key == curr.data:\n",
    "                return True\n",
    "            elif key < curr.data:\n",
    "                curr = curr.left\n",
    "            else:\n",
    "                curr = curr.right\n",
    "        return False\n",
    "    \n",
    "    def printTree(self):\n",
    "        self.printTreeUtil(self.root)\n",
    "            \n",
    "    #Helper functions\n",
    "    def printTreeUtil(self, root):\n",
    "        if root:\n",
    "            self.printTreeUtil(root.left)\n",
    "            print(root.data, end = \" \")\n",
    "            self.printTreeUtil(root.right)\n",
    "            \n",
    "    def getHeight(self, node):\n",
    "        return node.height if node else 0\n",
    "    \n",
    "    def getBalanceFactor(self, node):\n",
    "        return (self.getHeight(node.left) - self.getHeight(node.right)) if node else 0\n",
    "    \n",
    "    def leftRotate(self, nodeY):\n",
    "        nodeX = nodeY.right\n",
    "        nodeXLST = nodeX.left\n",
    "        nodeX.left = nodeY\n",
    "        nodeY.right = nodeXLST\n",
    "        nodeY.height = 1 + max(self.getHeight(nodeY.left), self.getHeight(nodeY.right))\n",
    "        nodeX.height = 1 + max(self.getHeight(nodeX.left), self.getHeight(nodeX.right))\n",
    "        return nodeX\n",
    "    \n",
    "    def rightRotate(self, nodeX):\n",
    "        nodeY = nodeX.left\n",
    "        nodeYRST = nodeY.right\n",
    "        nodeY.right = nodeX\n",
    "        nodeX.left = nodeYRST\n",
    "        nodeX.height = 1 + max(self.getHeight(nodeX.left), self.getHeight(nodeX.right))\n",
    "        nodeY.height = 1 + max(self.getHeight(nodeY.left), self.getHeight(nodeY.right))\n",
    "        return nodeY\n",
    "    \n",
    "    def inorderSuccessor(self, node):\n",
    "        curr = node\n",
    "        while curr.left != None:\n",
    "            curr = curr.left\n",
    "        return curr.data\n",
    "    \n",
    "    def insertUtil(self, root, key):\n",
    "        if not root:\n",
    "            return AVLNode(key)\n",
    "        if key < root.data:\n",
    "            root.left = self.insertUtil(root.left, key)\n",
    "        elif key > root.data:\n",
    "            root.right = self.insertUtil(root.right, key)\n",
    "        else:\n",
    "            return root\n",
    "        \n",
    "        root.height = 1 + max(self.getHeight(root.left), self.getHeight(root.right))\n",
    "        balanceFactor = self.getBalanceFactor(root)\n",
    "        \n",
    "        if balanceFactor > 1:                                   #Left heavy imbalances (i.e left-left or left-right)\n",
    "            if key < root.left.data:\n",
    "                return self.rightRotate(root)\n",
    "            \n",
    "            if key > root.left.data:\n",
    "                root.left = self.leftRotate(root.left)\n",
    "                return self.rightRotate(root)\n",
    "        \n",
    "        if balanceFactor < -1:                                  #Right heavy imbalances (i.e right-right or right-left)\n",
    "            if key > root.right.data:\n",
    "                return self.leftRotate(root)\n",
    "            \n",
    "            if key < root.right.data:\n",
    "                root.right = self.rightRotate(root.right)\n",
    "                return self.leftRotate(root)\n",
    "            \n",
    "        return root\n",
    "    \n",
    "    def deleteUtil(self, root, key):\n",
    "        if not root:\n",
    "            return root\n",
    "        \n",
    "        if key < root.data:\n",
    "            root.left = self.deleteUtil(root.left, key)\n",
    "        elif key > root.data:\n",
    "            root.right = self.deleteUtil(root.right, key)\n",
    "        else:\n",
    "            if root.left == None:\n",
    "                return root.right\n",
    "            elif root.right == None:\n",
    "                return root.left\n",
    "            else:\n",
    "                inorderSuccessorData = self.inorderSuccessor(root.right)\n",
    "                root.data = inorderSuccessorData\n",
    "                root.right = self.deleteUtil(root.right, inorderSuccessorData)\n",
    "                return root\n",
    "        \n",
    "        root.height = 1 + max(self.getHeight(root.left), self.getHeight(root.right))\n",
    "        balanceFactor = self.getBalanceFactor(root)\n",
    "        \n",
    "        if balanceFactor > 1:                                       #Left heavy imbalances (i.e left-left or left-right)\n",
    "            if self.getBalanceFactor(root.left) >= 0:\n",
    "                return self.rightRotate(root)\n",
    "            if self.getBalanceFactor(root.left) < 0:\n",
    "                root.left = self.leftRotate(root.left)\n",
    "                return self.rightRotate(root)\n",
    "            \n",
    "        if balanceFactor < -1:                                       #Right heavy imbalances (i.e right-right or right-left)\n",
    "            if self.getBalanceFactor(root.right) <= 0:\n",
    "                return self.leftRotate(root)\n",
    "            if self.getBalanceFactor(root.right) > 0:\n",
    "                root.right = self.rightRotate(root.right)\n",
    "                return self.leftRotate(root)\n",
    "            \n",
    "        return root     "
   ]
  },
  {
   "cell_type": "code",
   "execution_count": 27,
   "id": "97698ec6",
   "metadata": {},
   "outputs": [
    {
     "name": "stdout",
     "output_type": "stream",
     "text": [
      "1 2 3 4 5 6 7 8 \n",
      "Height: 4\n",
      "Search 15: False\n",
      "Search 7: True\n",
      "1 2 3 4 5 7 8 \n",
      "Height: 4\n"
     ]
    }
   ],
   "source": [
    "tree1 = AVLTree()\n",
    "for key in [1,2,3,4,5,6,7,8]:\n",
    "    tree1.insert(key)\n",
    "\n",
    "tree1.printTree()\n",
    "print(f\"\\nHeight: {tree1.getHeight(tree1.root)}\")\n",
    "print(\"Search 15:\", tree1.search(15))\n",
    "print(\"Search 7:\", tree1.search(7))\n",
    "tree1.delete(6)\n",
    "tree1.printTree()\n",
    "print(f\"\\nHeight: {tree1.getHeight(tree1.root)}\")"
   ]
  },
  {
   "cell_type": "code",
   "execution_count": null,
   "id": "f6c15c9b",
   "metadata": {},
   "outputs": [],
   "source": []
  }
 ],
 "metadata": {
  "kernelspec": {
   "display_name": "base",
   "language": "python",
   "name": "python3"
  },
  "language_info": {
   "codemirror_mode": {
    "name": "ipython",
    "version": 3
   },
   "file_extension": ".py",
   "mimetype": "text/x-python",
   "name": "python",
   "nbconvert_exporter": "python",
   "pygments_lexer": "ipython3",
   "version": "3.11.8"
  }
 },
 "nbformat": 4,
 "nbformat_minor": 5
}
