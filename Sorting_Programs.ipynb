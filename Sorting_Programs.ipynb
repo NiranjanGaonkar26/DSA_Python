{
 "cells": [
  {
   "cell_type": "markdown",
   "metadata": {},
   "source": [
    "Python's sort() method\n"
   ]
  },
  {
   "cell_type": "code",
   "execution_count": 1,
   "metadata": {},
   "outputs": [
    {
     "name": "stdout",
     "output_type": "stream",
     "text": [
      "[1, 5, 8, 10]\n"
     ]
    }
   ],
   "source": [
    "l = [10,5,8,1]\n",
    "l.sort()\n",
    "print(l)"
   ]
  },
  {
   "cell_type": "code",
   "execution_count": 2,
   "metadata": {},
   "outputs": [
    {
     "name": "stdout",
     "output_type": "stream",
     "text": [
      "['aa', 'abc', 'abcc', 'abde']\n"
     ]
    }
   ],
   "source": [
    "l1 = ['abc','abde','abcc','aa']\n",
    "l1.sort()\n",
    "print(l1)"
   ]
  },
  {
   "cell_type": "code",
   "execution_count": 3,
   "metadata": {},
   "outputs": [
    {
     "name": "stdout",
     "output_type": "stream",
     "text": [
      "[10, 8, 5, 1]\n"
     ]
    }
   ],
   "source": [
    "l.sort(reverse=True)         #reverse=True sorts the list in descending order (reverse of the natural order)\n",
    "print(l)"
   ]
  },
  {
   "cell_type": "code",
   "execution_count": 4,
   "metadata": {},
   "outputs": [
    {
     "name": "stdout",
     "output_type": "stream",
     "text": [
      "['ide', 'python', 'courses']\n"
     ]
    }
   ],
   "source": [
    "def myFun(s):\n",
    "    return len(s)\n",
    "\n",
    "l2 = ['courses', 'ide', 'python']\n",
    "l2.sort(key=myFun)          #key=functionName, sorts the list based on the return value of the function evaluated on each element. In this example the lengths of each string in the list\n",
    "print(l2)"
   ]
  },
  {
   "cell_type": "code",
   "execution_count": 5,
   "metadata": {},
   "outputs": [
    {
     "name": "stdout",
     "output_type": "stream",
     "text": [
      "['courses', 'python', 'ide']\n"
     ]
    }
   ],
   "source": [
    "l3 = l2.copy()\n",
    "l3.sort(key=myFun, reverse=True)\n",
    "print(l3)"
   ]
  },
  {
   "cell_type": "code",
   "execution_count": 6,
   "metadata": {},
   "outputs": [
    {
     "name": "stdout",
     "output_type": "stream",
     "text": [
      "1 15\n",
      "1 8\n",
      "3 4\n",
      "5 10\n"
     ]
    }
   ],
   "source": [
    "#sort() applied to a list of user defined objects\n",
    "\n",
    "class Point:\n",
    "    def __init__(self,x,y):\n",
    "        self.x = x\n",
    "        self.y = y\n",
    "        \n",
    "def myFun1(p):\n",
    "    return p.x\n",
    "\n",
    "l = [Point(1,15), Point(1,8), Point(5,10), Point(3,4)]\n",
    "l.sort(key=myFun1)\n",
    "\n",
    "for i in l:\n",
    "    print(i.x, i.y)"
   ]
  },
  {
   "cell_type": "code",
   "execution_count": 7,
   "metadata": {},
   "outputs": [
    {
     "name": "stdout",
     "output_type": "stream",
     "text": [
      "1 15\n",
      "3 10\n",
      "3 4\n",
      "9 8\n"
     ]
    }
   ],
   "source": [
    "class Point1:\n",
    "    def __init__(self,x,y):\n",
    "        self.x = x\n",
    "        self.y = y\n",
    "        \n",
    "    def __lt__(self, other):            #Magic method\n",
    "        return self.x < other.x\n",
    "    \n",
    "l1 = [Point1(1,15), Point1(9,8), Point1(3,10), Point1(3,4)]\n",
    "l1.sort()\n",
    "\n",
    "for i in l1:\n",
    "    print(i.x, i.y)"
   ]
  },
  {
   "cell_type": "markdown",
   "metadata": {},
   "source": [
    "sorted() method\n"
   ]
  },
  {
   "cell_type": "code",
   "execution_count": 8,
   "metadata": {},
   "outputs": [
    {
     "name": "stdout",
     "output_type": "stream",
     "text": [
      "[-15, 10, -1, 2]\n",
      "[-15, 10, 2, -1]\n"
     ]
    }
   ],
   "source": [
    "l = [-15, 10, -1, 2]\n",
    "newL = sorted(l, key=abs, reverse=True)\n",
    "print(l)\n",
    "print(newL)"
   ]
  },
  {
   "cell_type": "code",
   "execution_count": 9,
   "metadata": {},
   "outputs": [
    {
     "name": "stdout",
     "output_type": "stream",
     "text": [
      "[1, 5, 10, 12]\n",
      "['courses', 'ide', 'python']\n",
      "['d', 'e', 'i']\n",
      "[5, 10, 15]\n",
      "[(1, 8), (2, 3), (10, 15)]\n"
     ]
    }
   ],
   "source": [
    "t = (10, 12, 5, 1)\n",
    "print(sorted(t))\n",
    "\n",
    "s={\"ide\", \"python\", \"courses\"}\n",
    "print(sorted(s))\n",
    "\n",
    "st = \"ide\"\n",
    "print(sorted(st))\n",
    "\n",
    "d = {10:\"ide\", 15:\"iig\", 5:\"courses\"}\n",
    "print(sorted(d))\n",
    "\n",
    "l = [(10,15), (1,8), (2,3)]\n",
    "print(sorted(l))"
   ]
  },
  {
   "cell_type": "markdown",
   "metadata": {},
   "source": [
    "Bubble Sort"
   ]
  },
  {
   "cell_type": "code",
   "execution_count": 10,
   "metadata": {},
   "outputs": [
    {
     "name": "stdout",
     "output_type": "stream",
     "text": [
      "[1, 2, 10, 11, 15, 20]\n"
     ]
    }
   ],
   "source": [
    "#O(N^2) implementation in all cases\n",
    "def bubbleSort(l):\n",
    "    n = len(l)\n",
    "    for i in range(1,n):\n",
    "        swapCount = 0\n",
    "        for j in range(0,n-i):           #At ith pass, the last i elements are in their correct positions, hence do not consider them again for comparision\n",
    "            if l[j]>l[j+1]:\n",
    "                l[j], l[j+1] = l[j+1], l[j]\n",
    "                swapCount+=1\n",
    "                \n",
    "    return l\n",
    "                \n",
    "print(bubbleSort([1,2,11,10,15,20]))\n",
    "        "
   ]
  },
  {
   "cell_type": "code",
   "execution_count": 11,
   "metadata": {},
   "outputs": [
    {
     "name": "stdout",
     "output_type": "stream",
     "text": [
      "2\n",
      "[1, 2, 10, 11, 15, 20]\n"
     ]
    }
   ],
   "source": [
    "#A slightly optimized bubble sort algorithm, - After any pass if the list becomes sorted stop there. O(N^2) in worst case, O(N) in best case - Already sorted list as input\n",
    "def bubbleSortOptimized(l):\n",
    "    n = len(l)\n",
    "    swapCount = 0\n",
    "    for i in range(1,n):                #n-1 passes\n",
    "        swapCount = 0\n",
    "        for j in range(0,n-i):           #At ith pass, the last i elements are in their correct positions, hence do not consider them again for comparision\n",
    "            if l[j]>l[j+1]:\n",
    "                l[j], l[j+1] = l[j+1], l[j]\n",
    "                swapCount+=1\n",
    "        if swapCount == 0:\n",
    "            break\n",
    "    print(i)\n",
    "    return l\n",
    "                \n",
    "print(bubbleSortOptimized([1,2,11,10,15,20]))\n",
    "        "
   ]
  },
  {
   "cell_type": "markdown",
   "metadata": {},
   "source": [
    "Selection Sort - O(N^2)"
   ]
  },
  {
   "cell_type": "code",
   "execution_count": 12,
   "metadata": {},
   "outputs": [
    {
     "name": "stdout",
     "output_type": "stream",
     "text": [
      "[1, 2, 10, 11, 15, 20]\n"
     ]
    }
   ],
   "source": [
    "def selectionSort(l):\n",
    "    n = len(l)\n",
    "    \n",
    "    for i in range(0,n-1):              #n passes\n",
    "        min_index = i\n",
    "        for j in range(i+1,n):\n",
    "            if l[j]<l[min_index]:\n",
    "                min_index = j\n",
    "            l[min_index], l[i] = l[i], l[min_index]\n",
    "    \n",
    "    return l\n",
    "\n",
    "print(selectionSort([1,2,11,10,15,20]))"
   ]
  },
  {
   "cell_type": "markdown",
   "metadata": {},
   "source": [
    "Insertion sort - O(N^2)- worst case (reverse sorted array ip)\n",
    "                 O(N)- best case (already sorted array ip) "
   ]
  },
  {
   "cell_type": "code",
   "execution_count": 13,
   "metadata": {},
   "outputs": [
    {
     "name": "stdout",
     "output_type": "stream",
     "text": [
      "[5, 10, 20, 30, 40, 60]\n"
     ]
    }
   ],
   "source": [
    "def insertionSort(l):\n",
    "    n = len(l)\n",
    "    \n",
    "    for i in range(1,n):\n",
    "        x = l[i]\n",
    "        j = i-1\n",
    "        while j >= 0 and x < l[j]:\n",
    "            l[j+1] = l[j]\n",
    "            j -= 1\n",
    "        l[j+1] = x\n",
    "        \n",
    "    return l\n",
    "\n",
    "print(insertionSort([20,5,40,60,10,30]))"
   ]
  },
  {
   "cell_type": "markdown",
   "metadata": {},
   "source": [
    "Merge 2 sorted lists\n",
    "\n"
   ]
  },
  {
   "cell_type": "code",
   "execution_count": 14,
   "metadata": {},
   "outputs": [
    {
     "name": "stdout",
     "output_type": "stream",
     "text": [
      "[5, 6, 6, 10, 15, 20, 30]\n"
     ]
    }
   ],
   "source": [
    "#Approach 1: directly concatenate 2 lists and apply sort()\n",
    "def merge2SortedLists(a,b):\n",
    "    res = a+b\n",
    "    res.sort()\n",
    "    return res\n",
    "\n",
    "print(merge2SortedLists([10,15,20],[5,6,6,30]))"
   ]
  },
  {
   "cell_type": "code",
   "execution_count": 6,
   "metadata": {},
   "outputs": [
    {
     "name": "stdout",
     "output_type": "stream",
     "text": [
      "[5, 6, 6, 10, 15, 20, 30]\n"
     ]
    }
   ],
   "source": [
    "#Approach 2: optimal approach (O(m+n))\n",
    "def merge2SortedListsOpt(a, b):\n",
    "    m = len(a)\n",
    "    n = len(b)\n",
    "    res = []\n",
    "    i=j=0\n",
    "    \n",
    "    while i<=m-1 and j<=n-1:\n",
    "        if a[i]<=b[j]:\n",
    "            res.append(a[i])\n",
    "            i+=1\n",
    "        elif a[i]>b[j]:\n",
    "            res.append(b[j])\n",
    "            j+=1\n",
    "    \n",
    "    if(i==m):\n",
    "        while j<=n-1:\n",
    "            res.append(b[j])\n",
    "            j+=1\n",
    "    elif(j==n):\n",
    "        while i<=m-1:\n",
    "           res.append(a[i])\n",
    "           i+=1\n",
    "            \n",
    "    return res\n",
    "\n",
    "print(merge2SortedListsOpt([10,15,20],[5,6,6,30]))"
   ]
  },
  {
   "cell_type": "markdown",
   "metadata": {},
   "source": [
    "Merge 2 sorted subarrays (of a single array)"
   ]
  },
  {
   "cell_type": "code",
   "execution_count": 7,
   "metadata": {},
   "outputs": [
    {
     "name": "stdout",
     "output_type": "stream",
     "text": [
      "[8, 10, 11, 15, 20, 40, 55]\n"
     ]
    }
   ],
   "source": [
    "def merge(a, low, mid, high):\n",
    "    left = a[low:mid+1]\n",
    "    right=a[mid+1:high+1]\n",
    "    i=0\n",
    "    j=0\n",
    "    k=low\n",
    "\n",
    "    \n",
    "    while i<len(left) and j<len(right):\n",
    "        if left[i]<=right[j]:\n",
    "            a[k]=left[i]\n",
    "            i+=1\n",
    "            k+=1\n",
    "        else:\n",
    "            a[k]=right[j]\n",
    "            j+=1\n",
    "            k+=1\n",
    "            \n",
    "    if i==len(left):\n",
    "        while j<len(right):\n",
    "            a[k] = right[j]\n",
    "            k+=1\n",
    "            j+=1\n",
    "    elif j==len(right):\n",
    "        while i<len(left):\n",
    "            a[k] = left[i]\n",
    "            k+=1\n",
    "            i+=1\n",
    "    \n",
    "    return a\n",
    "    \n",
    "print(merge([10,15,20,40,8,11,55], 0, 3, 6))"
   ]
  },
  {
   "cell_type": "markdown",
   "metadata": {},
   "source": [
    "Merge Sort"
   ]
  },
  {
   "cell_type": "code",
   "execution_count": 8,
   "metadata": {},
   "outputs": [
    {
     "name": "stdout",
     "output_type": "stream",
     "text": [
      "[2, 3, 6, 7, 8, 9, 10]\n"
     ]
    }
   ],
   "source": [
    "def mergeSort(arr, low, high):\n",
    "    if high>low:\n",
    "        mid = (low+high)//2\n",
    "        mergeSort(arr,low,mid)\n",
    "        mergeSort(arr,mid+1,high)\n",
    "        merge(arr, low, mid, high)\n",
    "        \n",
    "    \n",
    "    return arr\n",
    "\n",
    "numList = [3,10,2,9,7,8,6]\n",
    "mergeSort(numList, 0, len(numList)-1)\n",
    "print(numList)"
   ]
  },
  {
   "cell_type": "markdown",
   "metadata": {},
   "source": [
    "Union of 2 sorted lists\n"
   ]
  },
  {
   "cell_type": "code",
   "execution_count": 26,
   "metadata": {},
   "outputs": [
    {
     "name": "stdout",
     "output_type": "stream",
     "text": [
      "[1, 2, 4, 5, 9, 10]\n"
     ]
    }
   ],
   "source": [
    "def unionSortedLists(l1,l2):\n",
    "    m = len(l1)\n",
    "    n = len(l2)\n",
    "    res = []\n",
    "    i=j=0\n",
    "\n",
    "    while i<m and j<n:\n",
    "        if i!=0 and l1[i] == l1[i-1]:\n",
    "            i+=1\n",
    "        elif j!=0 and l2[j] == l2[j-1]:\n",
    "            j+=1\n",
    "        elif (l1[i]<l2[j]):\n",
    "            res.append(l1[i])\n",
    "            i+=1    \n",
    "        elif (l1[i]>l2[j]):\n",
    "            res.append(l2[j])\n",
    "            j+=1\n",
    "        else:\n",
    "            res.append(l1[i])\n",
    "            i+=1\n",
    "            \n",
    "    if i==m:\n",
    "        while j<n:\n",
    "            if j!=0 and l2[j] != l2[j-1]:\n",
    "                res.append(l2[j])\n",
    "            j+=1\n",
    "    elif j==n:\n",
    "        while i<m:\n",
    "            if i!=0 and l1[i] != l1[i-1]:\n",
    "                res.append(l1[i])\n",
    "            i+=1\n",
    "    \n",
    "    return res\n",
    "\n",
    "print(unionSortedLists([4,4,5,9],[1,1,2,2,10,10,10]))"
   ]
  },
  {
   "cell_type": "markdown",
   "metadata": {},
   "source": [
    "Intersection of 2 sorted arrays"
   ]
  },
  {
   "cell_type": "code",
   "execution_count": 4,
   "metadata": {},
   "outputs": [
    {
     "name": "stdout",
     "output_type": "stream",
     "text": [
      "[1, 2, 8]\n"
     ]
    }
   ],
   "source": [
    "def intersectionSortedLists(l1,l2):\n",
    "    m = len(l1)\n",
    "    n = len(l2)\n",
    "    i=j=0\n",
    "    res = []\n",
    "    \n",
    "    while i<m and j<n:\n",
    "        if (i!=0 and l1[i]==l1[i-1]):\n",
    "            i+=1\n",
    "            continue \n",
    "        if l1[i]<l2[j]:\n",
    "            i+=1\n",
    "        elif l1[i]>l2[j]:\n",
    "            j+=1\n",
    "        else:\n",
    "            res.append(l1[i])\n",
    "            i+=1\n",
    "            j+=1\n",
    "    \n",
    "    return res\n",
    "\n",
    "print(intersectionSortedLists([1,1,2,2,2,8],[1,1,1,1,2,2,3,6,7,8]))      \n"
   ]
  },
  {
   "cell_type": "markdown",
   "metadata": {},
   "source": [
    "Count Inversions in an Array"
   ]
  },
  {
   "cell_type": "code",
   "execution_count": 8,
   "metadata": {},
   "outputs": [
    {
     "name": "stdout",
     "output_type": "stream",
     "text": [
      "3\n"
     ]
    }
   ],
   "source": [
    "#Naive Approach - O(N^2)\n",
    "def inversions1(l):\n",
    "    count = 0\n",
    "    n = len(l)\n",
    "    \n",
    "    for i in range(0,n-1):\n",
    "        for j in range(i+1,n):\n",
    "            if l[i]>l[j]:\n",
    "                count+=1\n",
    "                \n",
    "    return count\n",
    "\n",
    "print(inversions1([2,4,1,3,5]))"
   ]
  },
  {
   "cell_type": "code",
   "execution_count": 8,
   "metadata": {},
   "outputs": [
    {
     "name": "stdout",
     "output_type": "stream",
     "text": [
      "3\n"
     ]
    }
   ],
   "source": [
    "#Optimal Approach - O(NlogN)\n",
    "def inversions2(l,low, high):\n",
    "    count = 0\n",
    "    if high>low:\n",
    "        mid = (low+high)//2\n",
    "        count+=inversions2(l,low,mid)\n",
    "        count+=inversions2(l,mid+1,high)\n",
    "        count+=countInversionsDuringMerge(l,low,mid,high)\n",
    "    return count\n",
    "\n",
    "def countInversionsDuringMerge(arr, low, mid, high):\n",
    "    left = arr[low:mid+1]\n",
    "    right = arr[mid+1:high+1]\n",
    "    count = 0\n",
    "    i=j=0\n",
    "    k=low\n",
    "    \n",
    "    while i<len(left) and j<len(right):\n",
    "        if left[i]<=right[j]:\n",
    "            arr[k]=left[i]\n",
    "            i+=1\n",
    "            k+=1\n",
    "        else:\n",
    "            arr[k]=right[j]\n",
    "            j+=1\n",
    "            k+=1\n",
    "            count += len(left)-i\n",
    "            \n",
    "    if i==len(left):\n",
    "        while j<len(right):\n",
    "            arr[k] = right[j]\n",
    "            j+=1\n",
    "            k+=1\n",
    "            \n",
    "    elif j==len(right):\n",
    "        while i<len(left):\n",
    "            arr[k] = left[i]\n",
    "            i+=1\n",
    "            k+=1\n",
    "    return count\n",
    "\n",
    "l = [2,4,1,3,5]\n",
    "print(inversions2(l, 0, len(l)-1))"
   ]
  },
  {
   "cell_type": "code",
   "execution_count": null,
   "metadata": {},
   "outputs": [],
   "source": []
  }
 ],
 "metadata": {
  "kernelspec": {
   "display_name": "base",
   "language": "python",
   "name": "python3"
  },
  "language_info": {
   "codemirror_mode": {
    "name": "ipython",
    "version": 3
   },
   "file_extension": ".py",
   "mimetype": "text/x-python",
   "name": "python",
   "nbconvert_exporter": "python",
   "pygments_lexer": "ipython3",
   "version": "3.11.8"
  }
 },
 "nbformat": 4,
 "nbformat_minor": 2
}
