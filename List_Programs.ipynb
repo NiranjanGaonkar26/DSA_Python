{
 "cells": [
  {
   "cell_type": "markdown",
   "metadata": {},
   "source": [
    "1. Average of a list"
   ]
  },
  {
   "cell_type": "code",
   "execution_count": 4,
   "metadata": {},
   "outputs": [
    {
     "data": {
      "text/plain": [
       "25.0"
      ]
     },
     "execution_count": 4,
     "metadata": {},
     "output_type": "execute_result"
    }
   ],
   "source": [
    "def avgList(l):\n",
    "    sum = 0\n",
    "    for i in l:\n",
    "        sum += i\n",
    "        \n",
    "    return sum/len(l)\n",
    "\n",
    "avgList([10,20,30,40])"
   ]
  },
  {
   "cell_type": "markdown",
   "metadata": {},
   "source": [
    "2. Separating Evene and Odd numbers from a list"
   ]
  },
  {
   "cell_type": "code",
   "execution_count": 7,
   "metadata": {},
   "outputs": [
    {
     "name": "stdout",
     "output_type": "stream",
     "text": [
      "[2, 4]\n",
      "[1, 3, 5]\n"
     ]
    }
   ],
   "source": [
    "def evenOddList(l):\n",
    "    evenList = []\n",
    "    oddList = []\n",
    "    \n",
    "    for i in l:\n",
    "        if i%2 == 0:\n",
    "            evenList.append(i)\n",
    "        else:\n",
    "            oddList.append(i)\n",
    "            \n",
    "    return evenList, oddList\n",
    "\n",
    "even, odd = evenOddList([1,2,3,4,5])\n",
    "print(even)\n",
    "print(odd)"
   ]
  },
  {
   "cell_type": "markdown",
   "metadata": {},
   "source": [
    "3. Get elements < x"
   ]
  },
  {
   "cell_type": "code",
   "execution_count": 10,
   "metadata": {},
   "outputs": [
    {
     "name": "stdout",
     "output_type": "stream",
     "text": [
      "[8, 3, 7]\n"
     ]
    }
   ],
   "source": [
    "def getSmallerElements(l, x):\n",
    "    smallerList = []\n",
    "    for i in l:\n",
    "        if i < x:\n",
    "            smallerList.append(i)\n",
    "    \n",
    "    return smallerList\n",
    "\n",
    "print(getSmallerElements([8,100,20,40,3,7], 10))"
   ]
  },
  {
   "cell_type": "markdown",
   "metadata": {},
   "source": [
    "List (tuple and string) slicing\n",
    "\n",
    "l[start : end : step] -> returns a list with the elements l[start], l[start + step], l[start + 2*step]... l[end] is not included"
   ]
  },
  {
   "cell_type": "code",
   "execution_count": 23,
   "metadata": {},
   "outputs": [
    {
     "name": "stdout",
     "output_type": "stream",
     "text": [
      "[10, 30, 50]\n",
      "[10, 20, 30, 40, 50]\n",
      "[10, 20, 30, 40]\n",
      "[30, 40, 50]\n",
      "[50, 40, 30]\n",
      "[50, 40, 30, 20, 10]\n",
      "[50, 40, 30, 20, 10]\n",
      "[50, 40, 30, 20, 10]\n"
     ]
    }
   ],
   "source": [
    "l = [10, 20, 30, 40, 50]\n",
    "\n",
    "print(l[0:5:2])\n",
    "print(l[:])\n",
    "print(l[:4])\n",
    "print(l[2:])\n",
    "print(l[4:1:-1])\n",
    "print(l[4::-1])\n",
    "print(l[-1:-6:-1])\n",
    "print(l[::-1])"
   ]
  },
  {
   "cell_type": "code",
   "execution_count": 26,
   "metadata": {},
   "outputs": [
    {
     "name": "stdout",
     "output_type": "stream",
     "text": [
      "True\n",
      "False\n",
      "True\n",
      "True\n"
     ]
    }
   ],
   "source": [
    "l2 = l\n",
    "print(l2 is l)\n",
    "\n",
    "l2 = l[:]\n",
    "print(l2 is l)\n",
    "\n",
    "t1 = (10, 20, 30)\n",
    "t2 = t1[:]\n",
    "print(t2 is t1)\n",
    "\n",
    "s1 = \"Nir\"\n",
    "s2 = s1[:]\n",
    "print(s2 is s1)\n"
   ]
  },
  {
   "cell_type": "markdown",
   "metadata": {},
   "source": [
    "List Comprehensions"
   ]
  },
  {
   "cell_type": "code",
   "execution_count": 1,
   "metadata": {},
   "outputs": [
    {
     "name": "stdout",
     "output_type": "stream",
     "text": [
      "[0, 2, 4, 6, 8, 10]\n"
     ]
    }
   ],
   "source": [
    "# Creating a List of even numbers from 0 to 10\n",
    "\n",
    "l1 = [x for x in range(11) if x%2 == 0]          # Alternate lengthy code: \n",
    "print(l1)                                        # l1 = [] \n",
    "                                                 # for x in range(11):\n",
    "                                                 #      if x%2 == 0:\n",
    "                                                 #          l1.append(x)                                                            "
   ]
  },
  {
   "cell_type": "code",
   "execution_count": 2,
   "metadata": {},
   "outputs": [
    {
     "data": {
      "text/plain": [
       "[1, 2, 3]"
      ]
     },
     "execution_count": 2,
     "metadata": {},
     "output_type": "execute_result"
    }
   ],
   "source": [
    "def fun(l, x):\n",
    "    return [y for y in l if y<x]\n",
    "\n",
    "fun([1,2,3,4,5], 4)"
   ]
  },
  {
   "cell_type": "code",
   "execution_count": 4,
   "metadata": {},
   "outputs": [
    {
     "name": "stdout",
     "output_type": "stream",
     "text": [
      "[2, 4, 6, 8, 10]\n",
      "[1, 3, 5, 7, 9]\n"
     ]
    }
   ],
   "source": [
    "def fun2(l):\n",
    "    eL = [x for x in l if x%2 == 0]\n",
    "    oL = [y for y in l if y%2 != 0]\n",
    "    return eL, oL\n",
    "    \n",
    "el, ol = fun2([1,2,3,4,5,6,7,8,9,10])\n",
    "print(el)\n",
    "print(ol)\n",
    "    "
   ]
  },
  {
   "cell_type": "markdown",
   "metadata": {},
   "source": [
    "Largest Element in the List"
   ]
  },
  {
   "cell_type": "code",
   "execution_count": 23,
   "metadata": {},
   "outputs": [
    {
     "name": "stdout",
     "output_type": "stream",
     "text": [
      "99\n"
     ]
    }
   ],
   "source": [
    "def largest(l):\n",
    "    if not l:\n",
    "        return None\n",
    "    maximum = l[0]\n",
    "    for x in l:\n",
    "        if x > maximum:\n",
    "            maximum = x\n",
    "            \n",
    "    return maximum\n",
    "\n",
    "print(largest([21,3,99,21,45,56]))\n"
   ]
  },
  {
   "cell_type": "markdown",
   "metadata": {},
   "source": [
    "Second Largest Element"
   ]
  },
  {
   "cell_type": "code",
   "execution_count": 33,
   "metadata": {},
   "outputs": [
    {
     "name": "stdout",
     "output_type": "stream",
     "text": [
      "12\n"
     ]
    }
   ],
   "source": [
    "# Approach 1: O(n) solution but requires 2 traversals of the list\n",
    "def secondLargestElement(l):\n",
    "    if len(l) <= 1:\n",
    "        return None\n",
    "    largest = max(l)\n",
    "    sLarest = None\n",
    "    for x in l:\n",
    "        if x != largest:\n",
    "            if sLarest == None:\n",
    "                sLarest = x\n",
    "            else:\n",
    "                sLarest = max(sLarest, x)\n",
    "        \n",
    "    return sLarest\n",
    "\n",
    "print(secondLargestElement([5 ,20, 12, 10, 20, 10, 12]))\n"
   ]
  },
  {
   "cell_type": "code",
   "execution_count": null,
   "metadata": {},
   "outputs": [
    {
     "name": "stdout",
     "output_type": "stream",
     "text": [
      "12\n"
     ]
    }
   ],
   "source": [
    "# Approach 2: O(n) solution but requires just 1 traversal of the list\n",
    "def secondLargestElement2(l):\n",
    "    if len(l) <= 1:\n",
    "        return None\n",
    "    lar = l[0]\n",
    "    slar = None\n",
    "    for x in l[1:]:\n",
    "        if x > lar:\n",
    "            slar = lar\n",
    "            lar = x\n",
    "        elif x < lar:\n",
    "            if slar == None or x > slar:\n",
    "                slar = x\n",
    "                \n",
    "    return slar\n",
    "\n",
    "print(secondLargestElement2([5 ,20, 12, 10, 20, 10, 12]))\n"
   ]
  },
  {
   "cell_type": "markdown",
   "metadata": {},
   "source": [
    "Check if a list is Sorted "
   ]
  },
  {
   "cell_type": "code",
   "execution_count": 6,
   "metadata": {},
   "outputs": [
    {
     "name": "stdout",
     "output_type": "stream",
     "text": [
      "False\n"
     ]
    }
   ],
   "source": [
    "def isListSorted(l):\n",
    "    if len(l) <= 1:\n",
    "        return True\n",
    "    \n",
    "    for i in range(1,len(l)):\n",
    "        if l[i] < l[i-1]:\n",
    "            return False\n",
    "        \n",
    "    return True\n",
    "\n",
    "print(isListSorted([10, 5, 2]))\n",
    "            "
   ]
  },
  {
   "cell_type": "markdown",
   "metadata": {},
   "source": [
    "Reverse the given list"
   ]
  },
  {
   "cell_type": "code",
   "execution_count": null,
   "metadata": {},
   "outputs": [
    {
     "name": "stdout",
     "output_type": "stream",
     "text": [
      "[4, 3, 2, 1]\n",
      "[1, 2, 3, 4]\n",
      "[4, 3, 2, 1]\n",
      "[1, 2, 3, 4]\n",
      "[4, 3, 2, 1]\n"
     ]
    }
   ],
   "source": [
    "#Using Library Methods\n",
    "\n",
    "#reverse method - Reverses the list in place i.e, reverses the original List itself\n",
    "# Does not work with immutable collections such as tuples and also with Strings\n",
    "l = [1,2,3,4]\n",
    "l.reverse()\n",
    "print(l)\n",
    "\n",
    "#reversed method - Does not modify the original list, reverses the list and returns the iterator object\n",
    "l1 = [1,2,3,4]\n",
    "revL1 = list(reversed(l1))\n",
    "print(l1)\n",
    "print(revL1)\n",
    "\n",
    "#List slicing\n",
    "revL2 = l1[::-1]\n",
    "print(revL2)\n"
   ]
  },
  {
   "cell_type": "code",
   "execution_count": null,
   "metadata": {},
   "outputs": [
    {
     "name": "stdout",
     "output_type": "stream",
     "text": [
      "[]\n",
      "[4, 3, 2, 1]\n"
     ]
    }
   ],
   "source": [
    "#Approach 1: O(n) and uses auxiliary list\n",
    "def reverseList(l):\n",
    "    if len(l)<=1:\n",
    "        return l\n",
    "    \n",
    "    revL = []\n",
    "    \n",
    "    for i in range(len(l)-1, -1, -1):\n",
    "        revL.append(l[i])\n",
    "        \n",
    "    return revL\n",
    "        \n",
    "print(reverseList([1,2,3,4]))"
   ]
  },
  {
   "cell_type": "code",
   "execution_count": null,
   "metadata": {},
   "outputs": [
    {
     "name": "stdout",
     "output_type": "stream",
     "text": [
      "[5, 4, 3, 2, 1]\n"
     ]
    }
   ],
   "source": [
    "#Approach 2: O(n), but does not use auxiliary list - swap method\n",
    "def reverseList2(l):\n",
    "    if len(l) <= 1:\n",
    "        return l\n",
    "    \n",
    "    j = len(l) - 1\n",
    "    i = 0\n",
    "    \n",
    "    while i<j:\n",
    "        l[i], l[j] = l[j], l[i]\n",
    "        i+=1\n",
    "        j-=1\n",
    "    \n",
    "    return l\n",
    "\n",
    "print(reverseList2([1,2,3,4,5]))"
   ]
  },
  {
   "cell_type": "markdown",
   "metadata": {},
   "source": [
    "Remove Duplicates from a Sorted Array"
   ]
  },
  {
   "cell_type": "code",
   "execution_count": 48,
   "metadata": {},
   "outputs": [
    {
     "name": "stdout",
     "output_type": "stream",
     "text": [
      "[1, 2, 3, 4, 5, 6, '-', '-', '-']\n",
      "6\n"
     ]
    }
   ],
   "source": [
    "#Approach 1 - O(n) - time and space\n",
    "def remDuplicates(l):\n",
    "    n = len(l)\n",
    "    if n <= 1:\n",
    "        return l,n\n",
    "    \n",
    "    newL = [0] * n\n",
    "    newL[0] = l[0]\n",
    "    res = 1\n",
    "    for i in range(1, n):\n",
    "        if l[i] != newL[res-1]:\n",
    "            newL[res] = l[i]\n",
    "            res += 1\n",
    "            \n",
    "    for i in range(0, res):\n",
    "        l[i] = newL[i]\n",
    "    for i in range(res, n):\n",
    "        l[i] = \"-\"\n",
    "    return l ,res\n",
    "            \n",
    "l, res = remDuplicates([1,2,2,2,3,3,4,5,6])\n",
    "print(l)\n",
    "print(res)"
   ]
  },
  {
   "cell_type": "code",
   "execution_count": 53,
   "metadata": {},
   "outputs": [
    {
     "name": "stdout",
     "output_type": "stream",
     "text": [
      "[10, 20, 30, '-', '-', '-', '-']\n",
      "3\n"
     ]
    }
   ],
   "source": [
    "#Approach 2 (Efficient) - O(n)-time, O(1)-Space\n",
    "def remDuplicates2(l):\n",
    "    n = len(l)\n",
    "    \n",
    "    if n<=1:\n",
    "        return l, n\n",
    "    \n",
    "    res = 1\n",
    "    for i in range(1, n):\n",
    "        if l[i] != l[res - 1]:\n",
    "            l[res] = l[i]\n",
    "            res+=1\n",
    "            \n",
    "    for i in range(res, n):\n",
    "        l[i] = \"-\"\n",
    "    return l, res\n",
    "\n",
    "l, res = remDuplicates2([10,10,10,20,30,30,30])\n",
    "print(l)\n",
    "print(res)"
   ]
  },
  {
   "cell_type": "code",
   "execution_count": null,
   "metadata": {},
   "outputs": [
    {
     "name": "stdout",
     "output_type": "stream",
     "text": [
      "[1, 2, 3, '-', '-', 5, '-', 6]\n"
     ]
    }
   ],
   "source": [
    "#Approach 3 (Use this)(Efficient) - O(n)-time, O(1)-Space\n",
    "def remDuplicates3(l):\n",
    "    prev = l[0]\n",
    "    for i in range(1,len(l)):\n",
    "        if l[i] == prev:\n",
    "            l[i] = '-'\n",
    "        else:\n",
    "            prev = l[i]\n",
    "\n",
    "L = [1, 2, 3, 3, 3, 5, 5, 6]\n",
    "remDuplicates3(L)\n",
    "print(L)"
   ]
  },
  {
   "cell_type": "markdown",
   "metadata": {},
   "source": [
    "left Rotate a List by 1"
   ]
  },
  {
   "cell_type": "code",
   "execution_count": 58,
   "metadata": {},
   "outputs": [
    {
     "name": "stdout",
     "output_type": "stream",
     "text": [
      "[2, 3, 4, 1]\n",
      "[2, 3, 4, 1]\n"
     ]
    }
   ],
   "source": [
    "# Using direct methods\n",
    "\n",
    "# Using list slicing\n",
    "l = [1,2,3,4]\n",
    "l1 = l[1:] + l[0:1]\n",
    "print(l1)\n",
    "\n",
    "# Using pop and append\n",
    "l2 = [1,2,3,4]\n",
    "l2.append(l2.pop(0))\n",
    "print(l2)"
   ]
  },
  {
   "cell_type": "code",
   "execution_count": null,
   "metadata": {},
   "outputs": [
    {
     "name": "stdout",
     "output_type": "stream",
     "text": [
      "[20, 30, 40, 10]\n"
     ]
    }
   ],
   "source": [
    "# My implementation\n",
    "def leftRotate(l):\n",
    "    n = len(l)\n",
    "    \n",
    "    if n<=1:\n",
    "        return l\n",
    "    \n",
    "    s = l[0]\n",
    "    for i in range(1, n):\n",
    "        l[i-1] = l[i]\n",
    "        \n",
    "    l[n-1] = s\n",
    "    return l\n",
    "\n",
    "print(leftRotate([10,20,30,40]))"
   ]
  },
  {
   "cell_type": "markdown",
   "metadata": {},
   "source": [
    "Left Rotate array d times"
   ]
  },
  {
   "cell_type": "code",
   "execution_count": 7,
   "metadata": {},
   "outputs": [
    {
     "name": "stdout",
     "output_type": "stream",
     "text": [
      "[30, 40, 10, 20]\n"
     ]
    }
   ],
   "source": [
    "#Approach 1: Time: O(N*d), Space: O(1)\n",
    "def leftRot(L, d):\n",
    "    d = d%len(L)\n",
    "    while d!=0:\n",
    "        L.append(L.pop(0))\n",
    "        d -= 1\n",
    "\n",
    "l = [10,20,30,40]\n",
    "leftRot(l,2)\n",
    "print(l)"
   ]
  },
  {
   "cell_type": "code",
   "execution_count": 8,
   "metadata": {},
   "outputs": [
    {
     "name": "stdout",
     "output_type": "stream",
     "text": [
      "[30, 40, 10, 20]\n"
     ]
    }
   ],
   "source": [
    "#Approach 2: Time efficient: O(N), Space: O(N)\n",
    "def leftRot1(L,d):\n",
    "    d = d%len(L)\n",
    "    L[:] = L[d:] + L[0:d]\n",
    "    \n",
    "l = [10,20,30,40]\n",
    "leftRot1(l,2)\n",
    "print(l)"
   ]
  },
  {
   "cell_type": "code",
   "execution_count": 9,
   "metadata": {},
   "outputs": [
    {
     "name": "stdout",
     "output_type": "stream",
     "text": [
      "[30, 40, 50, 10, 20]\n"
     ]
    }
   ],
   "source": [
    "#Efficient Approach (part reversals and then whole reversal): Time - O(N), Space - O(1)\n",
    "def rev(L, start, end):\n",
    "    while start<end:\n",
    "        L[start], L[end] = L[end], L[start]\n",
    "        start += 1\n",
    "        end -= 1\n",
    "        \n",
    "def leftRot2(L,d):\n",
    "    n = len(L)\n",
    "    d = d%n\n",
    "    rev(L, 0, d-1)\n",
    "    rev(L, d, n-1)\n",
    "    rev(L, 0, n-1)\n",
    "\n",
    "l = [10,20,30,40,50]\n",
    "leftRot1(l,2)\n",
    "print(l)"
   ]
  },
  {
   "cell_type": "markdown",
   "metadata": {},
   "source": [
    "List Advanced Programs"
   ]
  },
  {
   "cell_type": "markdown",
   "metadata": {},
   "source": [
    "Pgm1: Maximum Difference i.e maximum value of arr[j]-arr[i], S.T j>i"
   ]
  },
  {
   "cell_type": "code",
   "execution_count": null,
   "metadata": {},
   "outputs": [
    {
     "name": "stdout",
     "output_type": "stream",
     "text": [
      "8\n",
      "2\n",
      "20\n",
      "-2\n"
     ]
    }
   ],
   "source": [
    "#Approach 1: Time: O(N^2), Space: O(1)\n",
    "import math\n",
    "def max_difference1(l):\n",
    "    max_diff = -math.inf\n",
    "    n = len(l)\n",
    "    \n",
    "    for i in range(0,n-1):\n",
    "        for j in range(i+1,n):\n",
    "            max_diff = max(max_diff, l[j]-l[i])\n",
    "            \n",
    "    return max_diff\n",
    "\n",
    "print(max_difference1([2,3,10,6,4,8,1]))\n",
    "print(max_difference1([7,9,5,6,3,2]))\n",
    "print(max_difference1([10,20,30]))\n",
    "print(max_difference1([30,10,8,2]))"
   ]
  },
  {
   "cell_type": "code",
   "execution_count": 10,
   "metadata": {},
   "outputs": [
    {
     "name": "stdout",
     "output_type": "stream",
     "text": [
      "8\n",
      "2\n",
      "20\n",
      "-2\n"
     ]
    }
   ],
   "source": [
    "#Efficient Approach\n",
    "\n",
    "def max_difference2(l):\n",
    "    max_diff = l[1]-l[0]\n",
    "    min_val = l[0]\n",
    "    n = len(l)\n",
    "    \n",
    "    for i in range(1,n):\n",
    "        max_diff = max(max_diff, l[i]-min_val)\n",
    "        min_val = min(min_val, l[i])\n",
    "        \n",
    "    return max_diff\n",
    "\n",
    "print(max_difference2([2,3,10,6,4,8,1]))\n",
    "print(max_difference2([7,9,5,6,3,2]))\n",
    "print(max_difference2([10,20,30]))\n",
    "print(max_difference2([30,10,8,2]))"
   ]
  },
  {
   "cell_type": "markdown",
   "metadata": {},
   "source": [
    "Pgm2: Buy and Sell Stocks - Multiple Transactions allowed"
   ]
  },
  {
   "cell_type": "code",
   "execution_count": null,
   "metadata": {},
   "outputs": [
    {
     "data": {
      "text/plain": [
       "13"
      ]
     },
     "execution_count": 18,
     "metadata": {},
     "output_type": "execute_result"
    }
   ],
   "source": [
    "#Approach 1 - Very inefficient and unintuitive. Time - O(2^N), Space - O(N)\n",
    "def maxProfit1(stock, start, end):\n",
    "    if end<=start:\n",
    "        return 0\n",
    "    res = 0\n",
    "    for i in range(start, end):\n",
    "        for j in range(i+1, end+1):\n",
    "            if stock[j] > stock[i]:\n",
    "                curr_profit = (stock[j] - stock[i]) + maxProfit1(stock, start, i-1) + maxProfit1(stock, j+1, end)\n",
    "                res = max(res, curr_profit)\n",
    "            \n",
    "    return res\n",
    "\n",
    "maxProfit1([1,5,3,8,12],0,4)"
   ]
  },
  {
   "cell_type": "code",
   "execution_count": 3,
   "metadata": {},
   "outputs": [
    {
     "name": "stdout",
     "output_type": "stream",
     "text": [
      "13\n",
      "865\n"
     ]
    }
   ],
   "source": [
    "#Efficient Approach - Time O(N), Space: O(1)\n",
    "\n",
    "def maxProfit2(stock):\n",
    "    \n",
    "    n = len(stock)\n",
    "    profit = 0\n",
    "    for i in range(1,n):\n",
    "        if stock[i] > stock[i-1]:\n",
    "            profit += stock[i] - stock[i-1]\n",
    "    \n",
    "    return profit\n",
    "\n",
    "print(maxProfit2([1,5,3,8,12]))\n",
    "print(maxProfit2([100, 180, 260, 310, 40, 535, 695]))"
   ]
  },
  {
   "cell_type": "markdown",
   "metadata": {},
   "source": [
    "Pgm 3: Trapping Rain Water"
   ]
  },
  {
   "cell_type": "code",
   "execution_count": null,
   "metadata": {},
   "outputs": [
    {
     "name": "stdout",
     "output_type": "stream",
     "text": [
      "7\n",
      "3\n"
     ]
    }
   ],
   "source": [
    "#Approach 1 - My implementation Time: O(N^2), Space: O(1)\n",
    "def trapRainWater1(arr):\n",
    "    lw = 0\n",
    "    rw = 0\n",
    "    capacity = 0\n",
    "    while lw < len(arr)-1:\n",
    "        rw+=1\n",
    "        while arr[rw] < arr[lw]:\n",
    "            rw += 1\n",
    "        for x in arr[lw+1:rw]:\n",
    "            if arr[lw] - x > 0:\n",
    "                capacity += arr[lw] - x\n",
    "        \n",
    "        lw = rw\n",
    "    \n",
    "    return capacity\n",
    "\n",
    "print(trapRainWater1([3,1,4,3,0,4]))\n",
    "print(trapRainWater1([3,1,2,4]))\n",
    "        "
   ]
  },
  {
   "cell_type": "code",
   "execution_count": null,
   "metadata": {},
   "outputs": [
    {
     "name": "stdout",
     "output_type": "stream",
     "text": [
      "7\n",
      "3\n"
     ]
    }
   ],
   "source": [
    "#Approach 2 - Time: O(N^2), Space: O(1)\n",
    "def trapRainWater2(arr):\n",
    "    capacity = 0\n",
    "    n = len(arr)\n",
    "    for i in range(1, n-1):\n",
    "        lmax = arr[i]\n",
    "        for j in range(0,i):\n",
    "            lmax = max(arr[j], lmax)\n",
    "        \n",
    "        rmax = arr[i]\n",
    "        for j in range(i+1, n):\n",
    "            rmax = max(arr[j], rmax)\n",
    "        \n",
    "        capacity += min(lmax, rmax) - arr[i]\n",
    "    \n",
    "    return capacity\n",
    "\n",
    "print(trapRainWater2([3,1,4,3,0,4]))\n",
    "print(trapRainWater2([3,1,2,4]))"
   ]
  },
  {
   "cell_type": "code",
   "execution_count": null,
   "metadata": {},
   "outputs": [
    {
     "name": "stdout",
     "output_type": "stream",
     "text": [
      "7\n",
      "3\n"
     ]
    }
   ],
   "source": [
    "#Efficient Approach - Time: O(N), Space: O(1)\n",
    "\n",
    "def trapRainWater3(arr):\n",
    "    n = len(arr)\n",
    "    lmaxArr = [0]*n\n",
    "    rmaxArr = [0]*n\n",
    "    capacity = 0\n",
    "    \n",
    "    lmaxArr[0] = arr[0]\n",
    "    rmaxArr[n-1] = arr[n-1]\n",
    "    \n",
    "    for i in range(1,n):\n",
    "        lmaxArr[i] = max(arr[i], lmaxArr[i-1])\n",
    "    \n",
    "    for i in range(n-2,-1,-1):\n",
    "        rmaxArr[i] = max(arr[i], rmaxArr[i+1])\n",
    "    \n",
    "    for i in range(1, n-1):\n",
    "        capacity += min(lmaxArr[i], rmaxArr[i]) - arr[i]\n",
    "    \n",
    "    return capacity\n",
    "\n",
    "print(trapRainWater3([3,1,4,3,0,4]))\n",
    "print(trapRainWater3([3,1,2,4]))\n",
    "        "
   ]
  },
  {
   "cell_type": "markdown",
   "metadata": {},
   "source": [
    "Pgm 4: Finding maximum sum subarray"
   ]
  },
  {
   "cell_type": "code",
   "execution_count": null,
   "metadata": {},
   "outputs": [
    {
     "name": "stdout",
     "output_type": "stream",
     "text": [
      "6\n",
      "7\n"
     ]
    }
   ],
   "source": [
    "#Approach 1 - Brute Force. Time: O(N^3), Space: O(1)\n",
    "\n",
    "import math\n",
    "def maxSumSubarray1(arr):\n",
    "    n = len(arr)\n",
    "    subArraySum = -math.inf\n",
    "    for i in range(0, n):\n",
    "        for j in range(i, n):\n",
    "            # subArray = arr[i:j+1]\n",
    "            subArraySum = max(subArraySum, sum(arr[i:j+1]))\n",
    "    \n",
    "    return subArraySum\n",
    "        \n",
    "            \n",
    "print(maxSumSubarray1([1,2,-3,4,-5,6]))\n",
    "print(maxSumSubarray1([4,-2,5,-1-3]))\n",
    "        "
   ]
  },
  {
   "cell_type": "code",
   "execution_count": null,
   "metadata": {},
   "outputs": [
    {
     "name": "stdout",
     "output_type": "stream",
     "text": [
      "6\n",
      "7\n"
     ]
    }
   ],
   "source": [
    "#Approach 2: Brute Force. Time: O(N^2), Space: O(1)\n",
    "\n",
    "def maxSumSubarray2(arr):\n",
    "    n = len(arr)\n",
    "    subArraySum = -math.inf\n",
    "    \n",
    "    for i in range(0, n):\n",
    "        currSubArraySum = 0\n",
    "        for j in range(i, n):\n",
    "            currSubArraySum += arr[j]\n",
    "            subArraySum = max(subArraySum, currSubArraySum)\n",
    "    \n",
    "    return subArraySum\n",
    "\n",
    "print(maxSumSubarray2([1,2,-3,4,-5,6]))\n",
    "print(maxSumSubarray2([4,-2,5,-1-3]))\n",
    "            "
   ]
  },
  {
   "cell_type": "code",
   "execution_count": null,
   "metadata": {},
   "outputs": [
    {
     "name": "stdout",
     "output_type": "stream",
     "text": [
      "6\n",
      "7\n"
     ]
    }
   ],
   "source": [
    "#Efficient Approach (Kadane's Algorithm). Time: O(N), Space: O(1)\n",
    "\n",
    "def maxSumSubarray3(arr):\n",
    "    max_ending_here = max_so_far = arr[0]\n",
    "    n = len(arr)\n",
    "    \n",
    "    for i in range(1,n):\n",
    "        max_ending_here = max(max_ending_here+arr[i], arr[i])\n",
    "        max_so_far = max(max_so_far, max_ending_here)\n",
    "    \n",
    "    return max_so_far\n",
    "\n",
    "print(maxSumSubarray3([1,2,-3,4,-5,6]))\n",
    "print(maxSumSubarray3([4,-2,5,-1-3]))"
   ]
  },
  {
   "cell_type": "markdown",
   "metadata": {},
   "source": [
    "Pgm 5: Alternating even odd elements - Maximum subarray length"
   ]
  },
  {
   "cell_type": "code",
   "execution_count": null,
   "metadata": {},
   "outputs": [
    {
     "name": "stdout",
     "output_type": "stream",
     "text": [
      "False\n",
      "False\n",
      "True\n"
     ]
    }
   ],
   "source": [
    "#Approach1: Time: O(N^3), Space: O(1)\n",
    "\n",
    "def checkAltEvenOdd(arr):\n",
    "    i = 0\n",
    "    n = len(arr)\n",
    "    while i < n-1:\n",
    "        if arr[i]%2 != arr[i+1]%2:\n",
    "            i+=1\n",
    "        else:\n",
    "            return False\n",
    "    \n",
    "    return True          \n",
    "\n",
    "print(checkAltEvenOdd([1,2,3,7,5]))\n",
    "print(checkAltEvenOdd([1,2,4,5]))\n",
    "print(checkAltEvenOdd([1,2,3,4]))"
   ]
  },
  {
   "cell_type": "code",
   "execution_count": null,
   "metadata": {},
   "outputs": [
    {
     "name": "stdout",
     "output_type": "stream",
     "text": [
      "3\n",
      "4\n",
      "1\n"
     ]
    }
   ],
   "source": [
    "def maxSubarrayLength1(arr):\n",
    "    n = len(arr)\n",
    "    maxLen = 1\n",
    "    \n",
    "    for i in range(0, n):\n",
    "        for j in range(i, n):\n",
    "            if checkAltEvenOdd(arr[i:j+1]):\n",
    "                maxLen = max(maxLen, len(arr[i:j+1]))\n",
    "    \n",
    "    return maxLen\n",
    "\n",
    "print(maxSubarrayLength1([10, 12, 14, 7, 8]))\n",
    "print(maxSubarrayLength1([7,10,13,14]))\n",
    "print(maxSubarrayLength1([10, 12, 8, 4]))"
   ]
  },
  {
   "cell_type": "code",
   "execution_count": null,
   "metadata": {},
   "outputs": [
    {
     "name": "stdout",
     "output_type": "stream",
     "text": [
      "3\n",
      "4\n",
      "1\n"
     ]
    }
   ],
   "source": [
    "#Approach 2: Time: O(N^2), Space: O(1)\n",
    "\n",
    "def maxSubarrayLength2(arr):\n",
    "    n = len(arr)\n",
    "    maxLen = 1\n",
    "    \n",
    "    for i in range(0,n):\n",
    "        currLen = 1\n",
    "        for j in range(i+1, n):\n",
    "            if arr[j]%2 != arr[j-1]%2:\n",
    "                currLen += 1\n",
    "                maxLen = max(currLen, maxLen)\n",
    "            else:\n",
    "                break\n",
    "    \n",
    "    return maxLen\n",
    "\n",
    "print(maxSubarrayLength2([10, 12, 14, 7, 8]))\n",
    "print(maxSubarrayLength2([7,10,13,15,16]))\n",
    "print(maxSubarrayLength2([10, 12, 8, 4]))"
   ]
  },
  {
   "cell_type": "code",
   "execution_count": null,
   "metadata": {},
   "outputs": [
    {
     "name": "stdout",
     "output_type": "stream",
     "text": [
      "3\n",
      "4\n",
      "1\n"
     ]
    }
   ],
   "source": [
    "#Efficient Approach: (Kadane's Algorithm Idea) Time: O(N), Space: O(1)\n",
    "\n",
    "def maxSubarrayLength3(arr):\n",
    "    n = len(arr)\n",
    "    maxLen = 1\n",
    "    curLen = 1\n",
    "    \n",
    "    for i in range(1,n):\n",
    "        if arr[i]%2 != arr[i-1]%2:\n",
    "            curLen += 1\n",
    "            maxLen = max(curLen, maxLen)\n",
    "        else:\n",
    "            curLen = 1\n",
    "    \n",
    "    return maxLen\n",
    "\n",
    "print(maxSubarrayLength3([10, 12, 14, 7, 8]))\n",
    "print(maxSubarrayLength3([7,10,13,14]))\n",
    "print(maxSubarrayLength3([10, 12, 8, 4]))"
   ]
  },
  {
   "cell_type": "markdown",
   "metadata": {},
   "source": [
    "Pgm 6: Maximum Sum Circular Subarray"
   ]
  },
  {
   "cell_type": "code",
   "execution_count": null,
   "metadata": {},
   "outputs": [
    {
     "name": "stdout",
     "output_type": "stream",
     "text": [
      "6\n",
      "10\n"
     ]
    }
   ],
   "source": [
    "import math\n",
    "#Approach 1. Time: O(N^2), Space: O(N)\n",
    "def maxSumCirSubarray1(arr):\n",
    "    n = len(arr)\n",
    "    extendedArr = arr+arr\n",
    "    maxSum = -math.inf\n",
    "    \n",
    "    for start in range(0, n):\n",
    "        currSubarrSum = 0\n",
    "        for length in range(1, n+1):\n",
    "            currSubarrSum += extendedArr[start+length-1]\n",
    "            maxSum = max(currSubarrSum, maxSum)\n",
    "    \n",
    "    return maxSum\n",
    "\n",
    "print(maxSumCirSubarray1([1,2,3]))\n",
    "print(maxSumCirSubarray1([1,-5,4-8,10,-1]))"
   ]
  },
  {
   "cell_type": "code",
   "execution_count": null,
   "metadata": {},
   "outputs": [
    {
     "name": "stdout",
     "output_type": "stream",
     "text": [
      "6\n",
      "10\n"
     ]
    }
   ],
   "source": [
    "#Approach 2: Time: O(N^2), Space: O(1)\n",
    "\n",
    "def maxSumCirSubarray2(arr):\n",
    "    n = len(arr)\n",
    "    maxSum = -math.inf\n",
    "    \n",
    "    for i in range(0, n):\n",
    "        currSubarrSum = 0\n",
    "        for j in range(0, n):\n",
    "            index = (i+j)%n\n",
    "            currSubarrSum += arr[index]\n",
    "            maxSum = max(maxSum, currSubarrSum)\n",
    "    \n",
    "    return maxSum\n",
    "\n",
    "print(maxSumCirSubarray2([1,2,3]))\n",
    "print(maxSumCirSubarray2([1,-5,4-8,10,-1]))"
   ]
  },
  {
   "cell_type": "code",
   "execution_count": null,
   "metadata": {},
   "outputs": [
    {
     "name": "stdout",
     "output_type": "stream",
     "text": [
      "6\n",
      "10\n"
     ]
    }
   ],
   "source": [
    "#Efficient Approach\n",
    "\n",
    "def maxSumCirSubarray3(arr):\n",
    "    maxNonCircSubarraySum = maxKadane(arr)\n",
    "    minNonCircSubarraySum = minKadane(arr)\n",
    "    totalSum = sum(arr)\n",
    "    if minNonCircSubarraySum == totalSum:\n",
    "        return maxNonCircSubarraySum\n",
    "    \n",
    "    maxCircSubarraySum = totalSum - minNonCircSubarraySum\n",
    "    maxSum = max(maxNonCircSubarraySum, maxCircSubarraySum)\n",
    "    \n",
    "    return maxSum\n",
    "\n",
    "def maxKadane(arr):\n",
    "    n = len(arr)\n",
    "    max_so_far = max_ending_here = arr[0]\n",
    "    \n",
    "    for i in range(1,n):\n",
    "        max_ending_here = max(arr[i], max_ending_here + arr[i])\n",
    "        max_so_far = max(max_ending_here, max_so_far)\n",
    "    \n",
    "    return max_so_far\n",
    "\n",
    "def minKadane(arr):\n",
    "    n = len(arr)\n",
    "    min_so_far = min_ending_here = arr[0]\n",
    "    \n",
    "    for i in range(1,n):\n",
    "        min_ending_here = min(arr[i], min_ending_here+arr[i])\n",
    "        min_so_far = min(min_ending_here, min_so_far)\n",
    "    \n",
    "    return min_so_far\n",
    "\n",
    "print(maxSumCirSubarray2([1,2,3]))\n",
    "print(maxSumCirSubarray2([1,-5,4-8,10,-1]))"
   ]
  },
  {
   "cell_type": "markdown",
   "metadata": {},
   "source": [
    "Pgm 7: Majority Element"
   ]
  },
  {
   "cell_type": "code",
   "execution_count": 3,
   "metadata": {},
   "outputs": [
    {
     "name": "stdout",
     "output_type": "stream",
     "text": [
      "8\n",
      "None\n",
      "50\n",
      "None\n"
     ]
    }
   ],
   "source": [
    "#Approach 1: Time: O(N^2), Space: O(1)\n",
    "\n",
    "def majEle1(arr):\n",
    "    n = len(arr)\n",
    "    count = 0\n",
    "    \n",
    "    for i in range(0,n):\n",
    "        count = 1\n",
    "        for j in range(i+1,n):\n",
    "            if arr[j] == arr[i]:\n",
    "                count += 1\n",
    "        if count > n//2:\n",
    "            return arr[i]\n",
    "    \n",
    "    return None\n",
    "\n",
    "print(majEle1([8,3,4,8,8]))\n",
    "print(majEle1([3,7,4,7,7,5]))\n",
    "print(majEle1([20,30,40,50,50,50,50]))\n",
    "print(majEle1([8,8,7,7,6,6]))"
   ]
  },
  {
   "cell_type": "code",
   "execution_count": 4,
   "metadata": {},
   "outputs": [
    {
     "name": "stdout",
     "output_type": "stream",
     "text": [
      "8\n",
      "None\n",
      "50\n",
      "None\n"
     ]
    }
   ],
   "source": [
    "#Approach 2: Time: O(N), Space: O(N)      --> Intuitive, prefer this if Space Optimization is not needed.\n",
    "\n",
    "def majEle2(arr:list):\n",
    "    n = len(arr)\n",
    "    freq = dict()\n",
    "    majEle = None\n",
    "    \n",
    "    for ele in arr:\n",
    "        if ele in freq.keys():\n",
    "            freq[ele] += 1\n",
    "        else:\n",
    "            freq[ele] = 1\n",
    "    \n",
    "    for key in freq.keys():\n",
    "        if (freq[key] > n//2):\n",
    "            majEle = key\n",
    "            break\n",
    "    \n",
    "    if majEle == None:\n",
    "        return None\n",
    "    \n",
    "    # return arr.index(majEle)\n",
    "    return majEle\n",
    "\n",
    "print(majEle2([8,3,4,8,8]))\n",
    "print(majEle2([3,7,4,7,7,5]))\n",
    "print(majEle2([20,30,40,50,50,50,50]))\n",
    "print(majEle2([8,8,7,7,6,6]))"
   ]
  },
  {
   "cell_type": "code",
   "execution_count": 9,
   "metadata": {},
   "outputs": [
    {
     "name": "stdout",
     "output_type": "stream",
     "text": [
      "8\n",
      "None\n",
      "50\n",
      "None\n",
      "None\n"
     ]
    }
   ],
   "source": [
    "#Efficient Solution: (Boyre - Moore Voting Algorithm) Time: O(N), Space: O(1)\n",
    "\n",
    "def majEle3(arr:list):\n",
    "    n = len(arr)\n",
    "    votes = 0\n",
    "    candidate = None\n",
    "    \n",
    "    for num in arr:\n",
    "        if votes == 0:\n",
    "            candidate = num\n",
    "            votes = 1\n",
    "        elif num == candidate:\n",
    "            votes+=1\n",
    "        else:\n",
    "            votes -= 1\n",
    "    \n",
    "    if arr.count(candidate) > n//2:\n",
    "        # return arr.index(candidate)\n",
    "        return candidate\n",
    "    else:\n",
    "        return None\n",
    "\n",
    "print(majEle3([8,3,4,8,8]))\n",
    "print(majEle3([3,7,4,7,7,5]))\n",
    "print(majEle3([20,30,40,50,50,50,50]))\n",
    "print(majEle3([8,8,7,7,6,6]))\n",
    "print(majEle3([1,1,1,2,2,2]))"
   ]
  },
  {
   "cell_type": "markdown",
   "metadata": {},
   "source": [
    "Pgm 8: Minimum group flips to make same"
   ]
  },
  {
   "cell_type": "code",
   "execution_count": null,
   "metadata": {},
   "outputs": [
    {
     "name": "stdout",
     "output_type": "stream",
     "text": [
      "From 2 to 4\n",
      "From 6 to 7\n",
      "From 2 to 3\n",
      "From 0 to 0\n"
     ]
    }
   ],
   "source": [
    "#Approach 1. Time: O(N) - 2 passes, Space: O(1) (Intuitive, just that it requires 1 more pass compared to the most efficient solution.)\n",
    "\n",
    "def minGrpFlips1(arr:list):\n",
    "    n = len(arr)\n",
    "    group0count = 0\n",
    "    group1count = 0\n",
    "    curr = arr[0]\n",
    "    \n",
    "    if curr == 0:\n",
    "        group0count += 1\n",
    "    else:\n",
    "        group1count += 1\n",
    "    \n",
    "    for i in range(1, n):\n",
    "        if arr[i] != arr[i-1]:\n",
    "            if arr[i] == 0:\n",
    "                group0count += 1\n",
    "            else:\n",
    "                group1count += 1\n",
    "    \n",
    "    i = 0\n",
    "    \n",
    "    target = 0 if group0count <= group1count else 1\n",
    "    \n",
    "    while i < n:\n",
    "        if arr[i] == target:\n",
    "            start = i\n",
    "            while i < n and arr[i] == target:\n",
    "                i+=1\n",
    "            end = i-1\n",
    "            print(f\"From {start} to {end}\")\n",
    "        else:\n",
    "            i+=1 \n",
    "\n",
    "minGrpFlips1([1,1,0,0,0,1,0,0,1,1])\n",
    "minGrpFlips1([0,0,1,1,0,0])\n",
    "minGrpFlips1([0,1])\n",
    "minGrpFlips1([0,0])\n",
    "    "
   ]
  },
  {
   "cell_type": "code",
   "execution_count": 10,
   "metadata": {},
   "outputs": [
    {
     "name": "stdout",
     "output_type": "stream",
     "text": [
      "From 2 to 4\n",
      "From 6 to 7\n",
      "From 10 to 10\n",
      "From 2 to 3\n",
      "From 1 to 1\n"
     ]
    }
   ],
   "source": [
    "#Efficient Approach. Time: O(N) - 1 Pass, Space: O(1)\n",
    "\n",
    "def minGrpFlips2(arr:list):\n",
    "    n = len(arr)\n",
    "    \n",
    "    for i in range(1,n):\n",
    "        if arr[i] != arr[i-1]:\n",
    "            if arr[i] != arr[0]:\n",
    "                print(f\"From {i} to\",end=\" \")\n",
    "            else:\n",
    "                print(i-1)\n",
    "    \n",
    "    if arr[n-1] != arr[0]:\n",
    "        print(n-1)\n",
    "        \n",
    "minGrpFlips2([1,1,0,0,0,1,0,0,1,1,0])\n",
    "minGrpFlips2([0,0,1,1,0,0])\n",
    "minGrpFlips2([0,1])\n",
    "minGrpFlips2([0,0])"
   ]
  },
  {
   "cell_type": "markdown",
   "metadata": {},
   "source": [
    "Pgm 9: Maximum sum subarray of size k"
   ]
  },
  {
   "cell_type": "code",
   "execution_count": null,
   "metadata": {},
   "outputs": [
    {
     "name": "stdout",
     "output_type": "stream",
     "text": [
      "45\n",
      "96\n"
     ]
    }
   ],
   "source": [
    "#Approach 1: Time: O(N * k), Space: O(1)\n",
    "\n",
    "def maxKSumSubarray1(arr, k):\n",
    "    n = len(arr)\n",
    "    maxSum = arr[0]\n",
    "    if k>n:\n",
    "        return None\n",
    "    \n",
    "    for i in range(0, n):\n",
    "        currSum = 0\n",
    "        for j in range(0,k):\n",
    "            if (i+j) < n:\n",
    "                currSum += arr[i+j]\n",
    "                maxSum = max(currSum, maxSum)\n",
    "        \n",
    "    return maxSum\n",
    "\n",
    "print(maxKSumSubarray1([1,8,30,-5,20,7], 3))\n",
    "print(maxKSumSubarray1([5,-10,6,90,3],2))"
   ]
  },
  {
   "cell_type": "code",
   "execution_count": null,
   "metadata": {},
   "outputs": [
    {
     "name": "stdout",
     "output_type": "stream",
     "text": [
      "45\n",
      "96\n"
     ]
    }
   ],
   "source": [
    "#Efficient Approach: Time: O(N), Space: O(1)\n",
    "\n",
    "def maxKSumSubarray2(arr, k):\n",
    "    n = len(arr)\n",
    "    if k>n:\n",
    "        return None\n",
    "    \n",
    "    max_sum = window_sum = 0\n",
    "    start = 0\n",
    "    \n",
    "    for i in range(0,k):\n",
    "        max_sum += arr[i]\n",
    "        window_sum += arr[i]\n",
    "    \n",
    "    for i in range(1,n-k+1):\n",
    "        end = start + k\n",
    "        window_sum = window_sum - arr[start] + arr[end]\n",
    "        start = i\n",
    "        max_sum = max(window_sum, max_sum)\n",
    "        \n",
    "    return max_sum\n",
    "\n",
    "print(maxKSumSubarray2([1,8,30,-5,20,7], 3))\n",
    "print(maxKSumSubarray2([5,-10,6,90,3],2))"
   ]
  },
  {
   "cell_type": "markdown",
   "metadata": {},
   "source": [
    "Pgm 10: Subarray with given sum"
   ]
  },
  {
   "cell_type": "code",
   "execution_count": null,
   "metadata": {},
   "outputs": [
    {
     "name": "stdout",
     "output_type": "stream",
     "text": [
      "True\n",
      "True\n",
      "False\n"
     ]
    }
   ],
   "source": [
    "#Approach 1: Time: O(N^2), Space: O(1)\n",
    "\n",
    "def givenSumSubarray1(arr, sumValue):\n",
    "    \n",
    "    n = len(arr)\n",
    "    for i in range(0, n):\n",
    "        curr_sum = 0\n",
    "        for j in range(i,n):\n",
    "            curr_sum += arr[j]\n",
    "            if curr_sum == sumValue:\n",
    "                return True\n",
    "    \n",
    "    return False\n",
    "\n",
    "print(givenSumSubarray1([1,4,20,3,10,5], 33))\n",
    "print(givenSumSubarray1([1,4,0,0,3,10], 7))\n",
    "print(givenSumSubarray1([2,4], 3))"
   ]
  },
  {
   "cell_type": "code",
   "execution_count": null,
   "metadata": {},
   "outputs": [
    {
     "name": "stdout",
     "output_type": "stream",
     "text": [
      "True\n",
      "True\n",
      "False\n",
      "False\n",
      "True\n"
     ]
    }
   ],
   "source": [
    "#Efficient Approach: Time: O(N), Space: O(1)\n",
    "\n",
    "def givenSumSubarray2(arr, sumValue):\n",
    "    n = len(arr)\n",
    "    start = end = 0\n",
    "    curr_sum = 0\n",
    "    \n",
    "    while end < n:\n",
    "        \n",
    "        curr_sum += arr[end]\n",
    "        end += 1\n",
    "        \n",
    "        while curr_sum > sumValue:\n",
    "            curr_sum -= arr[start]\n",
    "            start += 1\n",
    "            \n",
    "        if curr_sum == sumValue and start < end:\n",
    "            return True\n",
    "        \n",
    "    return False\n",
    "\n",
    "print(givenSumSubarray2([1,4,20,3,10,5], 33))\n",
    "print(givenSumSubarray2([1,4,0,0,3,10], 7))\n",
    "print(givenSumSubarray2([2,4], 3))\n",
    "print(givenSumSubarray2([2,4,5], 0))\n",
    "print(givenSumSubarray2([1,3,20,5,12], 17))"
   ]
  },
  {
   "cell_type": "markdown",
   "metadata": {},
   "source": [
    "Pgm 10: Prefix Sum Technique"
   ]
  },
  {
   "cell_type": "code",
   "execution_count": null,
   "metadata": {},
   "outputs": [
    {
     "name": "stdout",
     "output_type": "stream",
     "text": [
      "10\n",
      "12\n",
      "16\n"
     ]
    }
   ],
   "source": [
    "#Approach 1: Time: O(N^2) for sum computation, Space: O(N^2)\n",
    "\n",
    "arr = [2,3,5,4,6,1]\n",
    "n = len(arr)\n",
    "\n",
    "def get_all_possible_sums():\n",
    "    sums_dict = dict()\n",
    "    \n",
    "    for i in range(0, n):\n",
    "        curr_sum = 0\n",
    "        for j in range(i, n):\n",
    "            curr_sum += arr[j]\n",
    "            sums_dict[(i,j)] = curr_sum\n",
    "    \n",
    "    return sums_dict\n",
    "\n",
    "sums_dict = get_all_possible_sums()\n",
    "\n",
    "def getSum1(start, end):\n",
    "    return sums_dict[(start, end)]\n",
    "\n",
    "print(getSum1(0, 2))\n",
    "print(getSum1(1, 3))\n",
    "print(getSum1(2, 5))"
   ]
  },
  {
   "cell_type": "code",
   "execution_count": null,
   "metadata": {},
   "outputs": [
    {
     "name": "stdout",
     "output_type": "stream",
     "text": [
      "10\n",
      "12\n",
      "16\n"
     ]
    }
   ],
   "source": [
    "#Efficient Approach - Time: O(M) * O(1), where O(M) - number of queries on the same array, and assume M > N, Space: O(N)\n",
    "# Time: O(N) for prefix sum computation\n",
    "arr = [2,3,5,4,6,1]\n",
    "n = len(arr)\n",
    "\n",
    "def get_prefix_sums():\n",
    "    prefix_sums = [0] * n\n",
    "    curr_sum = 0\n",
    "    \n",
    "    for i in range(0,n):\n",
    "        curr_sum += arr[i]\n",
    "        prefix_sums[i] = curr_sum\n",
    "    \n",
    "    return prefix_sums\n",
    "\n",
    "prefix_sums = get_prefix_sums()\n",
    "\n",
    "def getSum2(start, end):\n",
    "    if start > end or end > n-1:\n",
    "        return None\n",
    "    \n",
    "    if start == 0:\n",
    "        return prefix_sums[end]\n",
    "    else:\n",
    "        return prefix_sums[end] - prefix_sums[start - 1]\n",
    "\n",
    "print(getSum2(0, 2))\n",
    "print(getSum2(1, 3))\n",
    "print(getSum2(2, 5))"
   ]
  },
  {
   "cell_type": "markdown",
   "metadata": {},
   "source": [
    "Pgm 11: Weighted prefix sum computation (A variation of the getSum question)"
   ]
  },
  {
   "cell_type": "code",
   "execution_count": null,
   "metadata": {},
   "outputs": [
    {
     "name": "stdout",
     "output_type": "stream",
     "text": [
      "23\n",
      "25\n",
      "13\n"
     ]
    }
   ],
   "source": [
    "# Efficient Solution, Time: O(N) for prefix sum and weighted prefix sum computations, Space: O(N)\n",
    "\n",
    "def get_weighted_prefix_sums():\n",
    "    weighted_prefix_sums = [0] * n\n",
    "    weighted_prefix_sums[0] = arr[0]\n",
    "    \n",
    "    for i in range(1, n):\n",
    "        weighted_prefix_sums[i] = weighted_prefix_sums[i-1] + (i+1)*arr[i]\n",
    "    \n",
    "    return weighted_prefix_sums\n",
    "\n",
    "weighted_prefix_sums = get_weighted_prefix_sums()\n",
    "\n",
    "def getWeightedSums(start, end):\n",
    "    if start > end or end > n-1 or start < 0:\n",
    "        return None\n",
    "\n",
    "    if start == 0:\n",
    "        return weighted_prefix_sums[end]\n",
    "    else:\n",
    "        total_weighted = weighted_prefix_sums[end] - weighted_prefix_sums[start-1]\n",
    "        total_plain = prefix_sums[end] - prefix_sums[start-1]\n",
    "        return total_weighted - start * total_plain\n",
    "\n",
    "print(getWeightedSums(0, 2))\n",
    "print(getWeightedSums(1, 3))\n",
    "print(getWeightedSums(2, 3))"
   ]
  },
  {
   "cell_type": "markdown",
   "metadata": {},
   "source": [
    "Pgm 12: Equilibrium Point"
   ]
  },
  {
   "cell_type": "code",
   "execution_count": null,
   "metadata": {},
   "outputs": [
    {
     "name": "stdout",
     "output_type": "stream",
     "text": [
      "True\n",
      "True\n",
      "False\n"
     ]
    }
   ],
   "source": [
    "#Approach 1: Time: O(N^2), Space: O(1)\n",
    "\n",
    "def equilibriumPoint1(arr:list):\n",
    "    n = len(arr)\n",
    "    \n",
    "    for i in range(0, n):\n",
    "        leftSum, rightSum = 0, 0\n",
    "        leftSum = sum(arr[0 : i])\n",
    "        rightSum = sum(arr[i+1 : n])\n",
    "\n",
    "        if leftSum == rightSum:\n",
    "            return True\n",
    "        \n",
    "    return False\n",
    "\n",
    "print(equilibriumPoint1([3,4,8,-9,20,6]))\n",
    "print(equilibriumPoint1([4,2,-2]))\n",
    "print(equilibriumPoint1([4,2,2]))"
   ]
  },
  {
   "cell_type": "code",
   "execution_count": null,
   "metadata": {},
   "outputs": [
    {
     "name": "stdout",
     "output_type": "stream",
     "text": [
      "True\n",
      "True\n",
      "False\n"
     ]
    }
   ],
   "source": [
    "#Efficient Solution: Time: O(N), Space: O(N)\n",
    "\n",
    "def equilibriumPoint2(arr:list):\n",
    "    n = len(arr)\n",
    "    prefix_sums = get_prefix_sums(arr, n)\n",
    "    \n",
    "    for i in range(0, n):\n",
    "        leftSum, rightSum =0, 0\n",
    "        if i == 0:\n",
    "            rightSum = prefix_sums[n-1] - prefix_sums[0]\n",
    "        elif i == n-1:\n",
    "            leftSum = prefix_sums[n-2]\n",
    "        else:\n",
    "            leftSum = prefix_sums[i-1]\n",
    "            rightSum = prefix_sums[n-1] - prefix_sums[i]\n",
    "            \n",
    "        if leftSum == rightSum:\n",
    "            return True\n",
    "    \n",
    "    return False\n",
    "            \n",
    "def get_prefix_sums(arr:list, n):\n",
    "    prefix_sums = [0] * n\n",
    "    prefix_sums[0] = arr[0]\n",
    "    \n",
    "    for i in range(1, n):\n",
    "        prefix_sums[i] = prefix_sums[i-1] + arr[i]\n",
    "    \n",
    "    return prefix_sums\n",
    "\n",
    "print(equilibriumPoint2([3,4,8,-9,20,6]))\n",
    "print(equilibriumPoint2([4,2,-2]))\n",
    "print(equilibriumPoint2([4,2,2]))"
   ]
  },
  {
   "cell_type": "code",
   "execution_count": null,
   "metadata": {},
   "outputs": [
    {
     "name": "stdout",
     "output_type": "stream",
     "text": [
      "True\n",
      "True\n",
      "False\n"
     ]
    }
   ],
   "source": [
    "#Most Efficient Solution: Time: O(N), Space: O(1)\n",
    "\n",
    "def equilibriumPoint3(arr:list):\n",
    "    n = len(arr)\n",
    "    totalSum = sum(arr)\n",
    "    prefix_sum = 0\n",
    "    \n",
    "    for i in range(0,n):\n",
    "        leftSum = prefix_sum\n",
    "        prefix_sum += arr[i]\n",
    "        rightSum = totalSum - prefix_sum\n",
    "        \n",
    "        if leftSum == rightSum:\n",
    "            return True\n",
    "    \n",
    "    return False\n",
    "\n",
    "print(equilibriumPoint3([3,4,8,-9,20,6]))\n",
    "print(equilibriumPoint3([4,2,-2]))\n",
    "print(equilibriumPoint3([4,2,2]))"
   ]
  },
  {
   "cell_type": "markdown",
   "metadata": {},
   "source": [
    "Pgm 13: Partition array into 3 parts with equal sum"
   ]
  },
  {
   "cell_type": "code",
   "execution_count": null,
   "metadata": {},
   "outputs": [
    {
     "name": "stdout",
     "output_type": "stream",
     "text": [
      "True\n",
      "False\n",
      "True\n"
     ]
    }
   ],
   "source": [
    "#Efficient Approach. Time: O(N), Space: O(1)\n",
    "\n",
    "def partArr3Parts(arr:list):\n",
    "    n = len(arr)\n",
    "    total_sum = sum(arr)\n",
    "    \n",
    "    if total_sum%3 != 0:\n",
    "        return False\n",
    "    \n",
    "    part_sum = total_sum//3\n",
    "    \n",
    "    curr_sum = 0\n",
    "    first_cut = -1\n",
    "    for i in range(0, n):\n",
    "        curr_sum += arr[i]\n",
    "        if curr_sum == part_sum:\n",
    "            first_cut = i\n",
    "            break\n",
    "    if first_cut == -1:\n",
    "        return False\n",
    "       \n",
    "    curr_sum = 0\n",
    "    second_cut = -1\n",
    "    for j in range(first_cut+1, n):\n",
    "        curr_sum += arr[j]\n",
    "        if curr_sum == part_sum:\n",
    "            second_cut = j\n",
    "            break\n",
    "    \n",
    "    if second_cut == -1 or second_cut == n-1:\n",
    "        return False\n",
    "    \n",
    "    third_part_sum = sum(arr[second_cut+1:n])\n",
    "    return third_part_sum == part_sum\n",
    "\n",
    "\n",
    "print(partArr3Parts([5,2,7,1,1,1,1,3]))\n",
    "print(partArr3Parts([6,6]))\n",
    "print(partArr3Parts([3,0,2,1,3,0]))"
   ]
  },
  {
   "cell_type": "markdown",
   "metadata": {},
   "source": [
    "Pgm 14: Most frequent element in ranges."
   ]
  },
  {
   "cell_type": "code",
   "execution_count": null,
   "metadata": {},
   "outputs": [
    {
     "name": "stdout",
     "output_type": "stream",
     "text": [
      "5\n",
      "2\n"
     ]
    }
   ],
   "source": [
    "#Approach 1: Time: O(N * 100), Space: O(100) => O(1), Note: 100 is because one of the constraint is 0 <= left[i] <= right[i] < 100\n",
    "\n",
    "def freqEleInRanges1(left:list, right:list):\n",
    "    n = len(left)\n",
    "    \n",
    "    freqDict = dict()\n",
    "    \n",
    "    for i in range(0, n):\n",
    "        for ele in range(left[i], right[i]+1):\n",
    "            if ele in freqDict.keys():\n",
    "                freqDict[ele] += 1\n",
    "            else:\n",
    "                freqDict[ele] = 1\n",
    "    \n",
    "    max_freq = 0\n",
    "    freq_ele = None\n",
    "    \n",
    "    for ele, freq in freqDict.items():\n",
    "        if freq > max_freq:\n",
    "            max_freq = freq\n",
    "            freq_ele = ele\n",
    "    \n",
    "    return freq_ele\n",
    "\n",
    "print(freqEleInRanges1([1,2,5,15], [5,8,7,18]))\n",
    "print(freqEleInRanges1([1,2], [5,4]))"
   ]
  },
  {
   "cell_type": "code",
   "execution_count": null,
   "metadata": {},
   "outputs": [],
   "source": []
  }
 ],
 "metadata": {
  "kernelspec": {
   "display_name": "base",
   "language": "python",
   "name": "python3"
  },
  "language_info": {
   "codemirror_mode": {
    "name": "ipython",
    "version": 3
   },
   "file_extension": ".py",
   "mimetype": "text/x-python",
   "name": "python",
   "nbconvert_exporter": "python",
   "pygments_lexer": "ipython3",
   "version": "3.11.8"
  }
 },
 "nbformat": 4,
 "nbformat_minor": 2
}
