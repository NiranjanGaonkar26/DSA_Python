{
 "cells": [
  {
   "cell_type": "markdown",
   "metadata": {},
   "source": [
    "1. Average of a list"
   ]
  },
  {
   "cell_type": "code",
   "execution_count": 4,
   "metadata": {},
   "outputs": [
    {
     "data": {
      "text/plain": [
       "25.0"
      ]
     },
     "execution_count": 4,
     "metadata": {},
     "output_type": "execute_result"
    }
   ],
   "source": [
    "def avgList(l):\n",
    "    sum = 0\n",
    "    for i in l:\n",
    "        sum += i\n",
    "        \n",
    "    return sum/len(l)\n",
    "\n",
    "avgList([10,20,30,40])"
   ]
  },
  {
   "cell_type": "markdown",
   "metadata": {},
   "source": [
    "2. Separating Evene and Odd numbers from a list"
   ]
  },
  {
   "cell_type": "code",
   "execution_count": 7,
   "metadata": {},
   "outputs": [
    {
     "name": "stdout",
     "output_type": "stream",
     "text": [
      "[2, 4]\n",
      "[1, 3, 5]\n"
     ]
    }
   ],
   "source": [
    "def evenOddList(l):\n",
    "    evenList = []\n",
    "    oddList = []\n",
    "    \n",
    "    for i in l:\n",
    "        if i%2 == 0:\n",
    "            evenList.append(i)\n",
    "        else:\n",
    "            oddList.append(i)\n",
    "            \n",
    "    return evenList, oddList\n",
    "\n",
    "even, odd = evenOddList([1,2,3,4,5])\n",
    "print(even)\n",
    "print(odd)"
   ]
  },
  {
   "cell_type": "markdown",
   "metadata": {},
   "source": [
    "3. Get elements < x"
   ]
  },
  {
   "cell_type": "code",
   "execution_count": 10,
   "metadata": {},
   "outputs": [
    {
     "name": "stdout",
     "output_type": "stream",
     "text": [
      "[8, 3, 7]\n"
     ]
    }
   ],
   "source": [
    "def getSmallerElements(l, x):\n",
    "    smallerList = []\n",
    "    for i in l:\n",
    "        if i < x:\n",
    "            smallerList.append(i)\n",
    "    \n",
    "    return smallerList\n",
    "\n",
    "print(getSmallerElements([8,100,20,40,3,7], 10))"
   ]
  },
  {
   "cell_type": "markdown",
   "metadata": {},
   "source": [
    "List (tuple and string) slicing\n",
    "\n",
    "l[start : end : step] -> returns a list with the elements l[start], l[start + step], l[start + 2*step]... l[end] is not included"
   ]
  },
  {
   "cell_type": "code",
   "execution_count": 23,
   "metadata": {},
   "outputs": [
    {
     "name": "stdout",
     "output_type": "stream",
     "text": [
      "[10, 30, 50]\n",
      "[10, 20, 30, 40, 50]\n",
      "[10, 20, 30, 40]\n",
      "[30, 40, 50]\n",
      "[50, 40, 30]\n",
      "[50, 40, 30, 20, 10]\n",
      "[50, 40, 30, 20, 10]\n",
      "[50, 40, 30, 20, 10]\n"
     ]
    }
   ],
   "source": [
    "l = [10, 20, 30, 40, 50]\n",
    "\n",
    "print(l[0:5:2])\n",
    "print(l[:])\n",
    "print(l[:4])\n",
    "print(l[2:])\n",
    "print(l[4:1:-1])\n",
    "print(l[4::-1])\n",
    "print(l[-1:-6:-1])\n",
    "print(l[::-1])"
   ]
  },
  {
   "cell_type": "code",
   "execution_count": 26,
   "metadata": {},
   "outputs": [
    {
     "name": "stdout",
     "output_type": "stream",
     "text": [
      "True\n",
      "False\n",
      "True\n",
      "True\n"
     ]
    }
   ],
   "source": [
    "l2 = l\n",
    "print(l2 is l)\n",
    "\n",
    "l2 = l[:]\n",
    "print(l2 is l)\n",
    "\n",
    "t1 = (10, 20, 30)\n",
    "t2 = t1[:]\n",
    "print(t2 is t1)\n",
    "\n",
    "s1 = \"Nir\"\n",
    "s2 = s1[:]\n",
    "print(s2 is s1)\n"
   ]
  },
  {
   "cell_type": "markdown",
   "metadata": {},
   "source": [
    "List Comprehensions"
   ]
  },
  {
   "cell_type": "code",
   "execution_count": 1,
   "metadata": {},
   "outputs": [
    {
     "name": "stdout",
     "output_type": "stream",
     "text": [
      "[0, 2, 4, 6, 8, 10]\n"
     ]
    }
   ],
   "source": [
    "# Creating a List of even numbers from 0 to 10\n",
    "\n",
    "l1 = [x for x in range(11) if x%2 == 0]          # Alternate lengthy code: \n",
    "print(l1)                                        # l1 = [] \n",
    "                                                 # for x in range(11):\n",
    "                                                 #      if x%2 == 0:\n",
    "                                                 #          l1.append(x)                                                            "
   ]
  },
  {
   "cell_type": "code",
   "execution_count": 2,
   "metadata": {},
   "outputs": [
    {
     "data": {
      "text/plain": [
       "[1, 2, 3]"
      ]
     },
     "execution_count": 2,
     "metadata": {},
     "output_type": "execute_result"
    }
   ],
   "source": [
    "def fun(l, x):\n",
    "    return [y for y in l if y<x]\n",
    "\n",
    "fun([1,2,3,4,5], 4)"
   ]
  },
  {
   "cell_type": "code",
   "execution_count": 4,
   "metadata": {},
   "outputs": [
    {
     "name": "stdout",
     "output_type": "stream",
     "text": [
      "[2, 4, 6, 8, 10]\n",
      "[1, 3, 5, 7, 9]\n"
     ]
    }
   ],
   "source": [
    "def fun2(l):\n",
    "    eL = [x for x in l if x%2 == 0]\n",
    "    oL = [y for y in l if y%2 != 0]\n",
    "    return eL, oL\n",
    "    \n",
    "el, ol = fun2([1,2,3,4,5,6,7,8,9,10])\n",
    "print(el)\n",
    "print(ol)\n",
    "    "
   ]
  },
  {
   "cell_type": "markdown",
   "metadata": {},
   "source": [
    "Largest Element in the List"
   ]
  },
  {
   "cell_type": "code",
   "execution_count": 23,
   "metadata": {},
   "outputs": [
    {
     "name": "stdout",
     "output_type": "stream",
     "text": [
      "99\n"
     ]
    }
   ],
   "source": [
    "def largest(l):\n",
    "    if not l:\n",
    "        return None\n",
    "    maximum = l[0]\n",
    "    for x in l:\n",
    "        if x > maximum:\n",
    "            maximum = x\n",
    "            \n",
    "    return maximum\n",
    "\n",
    "print(largest([21,3,99,21,45,56]))\n"
   ]
  },
  {
   "cell_type": "markdown",
   "metadata": {},
   "source": [
    "Second Largest Element"
   ]
  },
  {
   "cell_type": "code",
   "execution_count": 33,
   "metadata": {},
   "outputs": [
    {
     "name": "stdout",
     "output_type": "stream",
     "text": [
      "12\n"
     ]
    }
   ],
   "source": [
    "# Approach 1: O(n) solution but requires 2 traversals of the list\n",
    "def secondLargestElement(l):\n",
    "    if len(l) <= 1:\n",
    "        return None\n",
    "    largest = max(l)\n",
    "    sLarest = None\n",
    "    for x in l:\n",
    "        if x != largest:\n",
    "            if sLarest == None:\n",
    "                sLarest = x\n",
    "            else:\n",
    "                sLarest = max(sLarest, x)\n",
    "        \n",
    "    return sLarest\n",
    "\n",
    "print(secondLargestElement([5 ,20, 12, 10, 20, 10, 12]))\n"
   ]
  },
  {
   "cell_type": "code",
   "execution_count": 35,
   "metadata": {},
   "outputs": [
    {
     "name": "stdout",
     "output_type": "stream",
     "text": [
      "12\n"
     ]
    }
   ],
   "source": [
    "# Approach 2: O(n) solution but requires just 1 traversal of the list\n",
    "def secondLargestElement2(l):\n",
    "    if len(l) <= 1:\n",
    "        return None\n",
    "    lar = l[0]\n",
    "    slar = None\n",
    "    for x in l[1:]:\n",
    "        if x > lar:\n",
    "            slar = lar\n",
    "            lar = x\n",
    "        elif x != lar:\n",
    "            if slar == None or x > slar:\n",
    "                slar = x\n",
    "                \n",
    "    return slar\n",
    "\n",
    "print(secondLargestElement2([5 ,20, 12, 10, 20, 10, 12]))\n"
   ]
  },
  {
   "cell_type": "markdown",
   "metadata": {},
   "source": [
    "Check if a list is Sorted "
   ]
  },
  {
   "cell_type": "code",
   "execution_count": 6,
   "metadata": {},
   "outputs": [
    {
     "name": "stdout",
     "output_type": "stream",
     "text": [
      "False\n"
     ]
    }
   ],
   "source": [
    "def isListSorted(l):\n",
    "    if len(l) <= 1:\n",
    "        return True\n",
    "    \n",
    "    for i in range(1,len(l)):\n",
    "        if l[i] < l[i-1]:\n",
    "            return False\n",
    "        \n",
    "    return True\n",
    "\n",
    "print(isListSorted([10, 5, 2]))\n",
    "            "
   ]
  },
  {
   "cell_type": "markdown",
   "metadata": {},
   "source": [
    "Reverse the given list"
   ]
  },
  {
   "cell_type": "code",
   "execution_count": null,
   "metadata": {},
   "outputs": [
    {
     "name": "stdout",
     "output_type": "stream",
     "text": [
      "[4, 3, 2, 1]\n",
      "[1, 2, 3, 4]\n",
      "[4, 3, 2, 1]\n",
      "[1, 2, 3, 4]\n",
      "[4, 3, 2, 1]\n"
     ]
    }
   ],
   "source": [
    "#Using Library Methods\n",
    "\n",
    "#reverse method - Reverses the list in place i.e, reverses the original List itself\n",
    "# Does not work with immutable collections such as tuples and also with Strings\n",
    "l = [1,2,3,4]\n",
    "l.reverse()\n",
    "print(l)\n",
    "\n",
    "#reversed method - Does not modify the original list, reverses the list and returns the iterator object\n",
    "l1 = [1,2,3,4]\n",
    "revL1 = list(reversed(l1))\n",
    "print(l1)\n",
    "print(revL1)\n",
    "\n",
    "#List slicing\n",
    "revL2 = l1[::-1]\n",
    "print(revL2)\n"
   ]
  },
  {
   "cell_type": "code",
   "execution_count": null,
   "metadata": {},
   "outputs": [
    {
     "name": "stdout",
     "output_type": "stream",
     "text": [
      "[]\n",
      "[4, 3, 2, 1]\n"
     ]
    }
   ],
   "source": [
    "#Approach 1: O(n) and uses auxiliary list\n",
    "def reverseList(l):\n",
    "    if len(l)<=1:\n",
    "        return l\n",
    "    \n",
    "    revL = []\n",
    "    \n",
    "    for i in range(len(l)-1, -1, -1):\n",
    "        revL.append(l[i])\n",
    "        \n",
    "    return revL\n",
    "        \n",
    "print(reverseList([1,2,3,4]))"
   ]
  },
  {
   "cell_type": "code",
   "execution_count": null,
   "metadata": {},
   "outputs": [
    {
     "name": "stdout",
     "output_type": "stream",
     "text": [
      "[5, 4, 3, 2, 1]\n"
     ]
    }
   ],
   "source": [
    "#Approach 2: O(n), but does not use auxiliary list - swap method\n",
    "def reverseList2(l):\n",
    "    if len(l) <= 1:\n",
    "        return l\n",
    "    \n",
    "    j = len(l) - 1\n",
    "    i = 0\n",
    "    \n",
    "    while i<j:\n",
    "        l[i], l[j] = l[j], l[i]\n",
    "        i+=1\n",
    "        j-=1\n",
    "    \n",
    "    return l\n",
    "\n",
    "print(reverseList2([1,2,3,4,5]))"
   ]
  },
  {
   "cell_type": "markdown",
   "metadata": {},
   "source": [
    "Remove Duplicates from a Sorted Array"
   ]
  },
  {
   "cell_type": "code",
   "execution_count": 48,
   "metadata": {},
   "outputs": [
    {
     "name": "stdout",
     "output_type": "stream",
     "text": [
      "[1, 2, 3, 4, 5, 6, '-', '-', '-']\n",
      "6\n"
     ]
    }
   ],
   "source": [
    "#Approach 1 - O(n) - time and space\n",
    "def remDuplicates(l):\n",
    "    n = len(l)\n",
    "    if n <= 1:\n",
    "        return l,n\n",
    "    \n",
    "    newL = [0] * n\n",
    "    newL[0] = l[0]\n",
    "    res = 1\n",
    "    for i in range(1, n):\n",
    "        if l[i] != newL[res-1]:\n",
    "            newL[res] = l[i]\n",
    "            res += 1\n",
    "            \n",
    "    for i in range(0, res):\n",
    "        l[i] = newL[i]\n",
    "    for i in range(res, n):\n",
    "        l[i] = \"-\"\n",
    "    return l ,res\n",
    "            \n",
    "l, res = remDuplicates([1,2,2,2,3,3,4,5,6])\n",
    "print(l)\n",
    "print(res)"
   ]
  },
  {
   "cell_type": "code",
   "execution_count": 53,
   "metadata": {},
   "outputs": [
    {
     "name": "stdout",
     "output_type": "stream",
     "text": [
      "[10, 20, 30, '-', '-', '-', '-']\n",
      "3\n"
     ]
    }
   ],
   "source": [
    "#Approach 2 (Efficient) - O(n)-time, O(1)-Space\n",
    "def remDuplicates2(l):\n",
    "    n = len(l)\n",
    "    \n",
    "    if n<=1:\n",
    "        return l, n\n",
    "    \n",
    "    res = 1\n",
    "    for i in range(1, n):\n",
    "        if l[i] != l[res - 1]:\n",
    "            l[res] = l[i]\n",
    "            res+=1\n",
    "            \n",
    "    for i in range(res, n):\n",
    "        l[i] = \"-\"\n",
    "    return l, res\n",
    "\n",
    "l, res = remDuplicates2([10,10,10,20,30,30,30])\n",
    "print(l)\n",
    "print(res)"
   ]
  },
  {
   "cell_type": "markdown",
   "metadata": {},
   "source": [
    "left Rotate a List by 1"
   ]
  },
  {
   "cell_type": "code",
   "execution_count": 58,
   "metadata": {},
   "outputs": [
    {
     "name": "stdout",
     "output_type": "stream",
     "text": [
      "[2, 3, 4, 1]\n",
      "[2, 3, 4, 1]\n"
     ]
    }
   ],
   "source": [
    "# Using direct methods\n",
    "\n",
    "# Using list slicing\n",
    "l = [1,2,3,4]\n",
    "l1 = l[1:] + l[0:1]\n",
    "print(l1)\n",
    "\n",
    "# Using pop and append\n",
    "l2 = [1,2,3,4]\n",
    "l2.append(l2.pop(0))\n",
    "print(l2)"
   ]
  },
  {
   "cell_type": "code",
   "execution_count": null,
   "metadata": {},
   "outputs": [
    {
     "name": "stdout",
     "output_type": "stream",
     "text": [
      "[20, 30, 40, 10]\n"
     ]
    }
   ],
   "source": [
    "# My implementation\n",
    "def leftRotate(l):\n",
    "    n = len(l)\n",
    "    \n",
    "    if n<=1:\n",
    "        return l\n",
    "    \n",
    "    s = l[0]\n",
    "    for i in range(1, n):\n",
    "        l[i-1] = l[i]\n",
    "        \n",
    "    l[n-1] = s\n",
    "    return l\n",
    "\n",
    "print(leftRotate([10,20,30,40]))"
   ]
  },
  {
   "cell_type": "code",
   "execution_count": null,
   "metadata": {},
   "outputs": [],
   "source": []
  }
 ],
 "metadata": {
  "kernelspec": {
   "display_name": "base",
   "language": "python",
   "name": "python3"
  },
  "language_info": {
   "codemirror_mode": {
    "name": "ipython",
    "version": 3
   },
   "file_extension": ".py",
   "mimetype": "text/x-python",
   "name": "python",
   "nbconvert_exporter": "python",
   "pygments_lexer": "ipython3",
   "version": "3.11.8"
  }
 },
 "nbformat": 4,
 "nbformat_minor": 2
}
