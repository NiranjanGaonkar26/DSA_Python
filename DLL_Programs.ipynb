{
 "cells": [
  {
   "cell_type": "code",
   "execution_count": 65,
   "id": "662fa727",
   "metadata": {},
   "outputs": [],
   "source": [
    "class DLLNode:\n",
    "    def __init__(self, data):\n",
    "        self.data = data\n",
    "        self.prev = None\n",
    "        self.next = None"
   ]
  },
  {
   "cell_type": "code",
   "execution_count": 66,
   "id": "04533299",
   "metadata": {},
   "outputs": [],
   "source": [
    "#Creating a simple DLL with 3 nodes using the DLLNode structure\n",
    "\n",
    "head = DLLNode(10)\n",
    "temp1 = DLLNode(20)\n",
    "temp2 = DLLNode(30)\n",
    "head.next = temp1\n",
    "temp1.prev = head\n",
    "temp1.next = temp2\n",
    "temp2.prev = temp1"
   ]
  },
  {
   "cell_type": "code",
   "execution_count": 67,
   "id": "c90caf00",
   "metadata": {},
   "outputs": [
    {
     "name": "stdout",
     "output_type": "stream",
     "text": [
      "10->20->30->"
     ]
    }
   ],
   "source": [
    "#Traversing a DLL in forward direction - O(N)\n",
    "def DLLTraverseForward(head):\n",
    "    if head == None:\n",
    "        return\n",
    "    curr = head\n",
    "    while curr != None:\n",
    "        print(curr.data, end='->')\n",
    "        curr = curr.next\n",
    "    \n",
    "DLLTraverseForward(head)"
   ]
  },
  {
   "cell_type": "code",
   "execution_count": 68,
   "id": "178685af",
   "metadata": {},
   "outputs": [
    {
     "name": "stdout",
     "output_type": "stream",
     "text": [
      "30->20->10->"
     ]
    }
   ],
   "source": [
    "#Traversing a DLL in reverse direction - O(N)\n",
    "def DLLTraverseReverse(head):\n",
    "    if head == None:\n",
    "        return\n",
    "    curr = head\n",
    "    while curr != None:\n",
    "        print(curr.data, end = '->')\n",
    "        curr = curr.prev\n",
    "        \n",
    "DLLTraverseReverse(temp2)"
   ]
  },
  {
   "cell_type": "markdown",
   "id": "a7a94b9b",
   "metadata": {},
   "source": [
    "Insert a new node at the beginning/head/front of a DLL."
   ]
  },
  {
   "cell_type": "code",
   "execution_count": 69,
   "id": "7f437ab6",
   "metadata": {},
   "outputs": [
    {
     "name": "stdout",
     "output_type": "stream",
     "text": [
      "5->10->15->20->"
     ]
    }
   ],
   "source": [
    "#O(1)\n",
    "def insertBegDLL(head, data):\n",
    "    temp = DLLNode(data)\n",
    "    if head == None:\n",
    "        head = temp\n",
    "        return head\n",
    "    \n",
    "    else:\n",
    "        head.prev = temp\n",
    "        temp.next = head\n",
    "        head = temp\n",
    "        return head\n",
    "    \n",
    "head1 = None\n",
    "head1 = insertBegDLL(head1,20)\n",
    "head1 = insertBegDLL(head1,15)\n",
    "head1 = insertBegDLL(head1,10)\n",
    "head1 = insertBegDLL(head1,5)\n",
    "DLLTraverseForward(head1)"
   ]
  },
  {
   "cell_type": "markdown",
   "id": "68c2aa71",
   "metadata": {},
   "source": [
    "Insert a new node at the end/tail/rear of a DLL"
   ]
  },
  {
   "cell_type": "code",
   "execution_count": 70,
   "id": "0ddaf007",
   "metadata": {},
   "outputs": [
    {
     "name": "stdout",
     "output_type": "stream",
     "text": [
      "5->10->15->20->30->"
     ]
    }
   ],
   "source": [
    "#O(N)\n",
    "def insertEndDLL(head, data):\n",
    "    temp = DLLNode(data)\n",
    "    if head == None:\n",
    "        head = temp\n",
    "        return head\n",
    "    \n",
    "    curr = head\n",
    "    while curr.next != None:\n",
    "        curr = curr.next\n",
    "    \n",
    "    curr.next = temp\n",
    "    temp.prev = curr\n",
    "    return head\n",
    "\n",
    "head1 = insertEndDLL(head1, 30)\n",
    "DLLTraverseForward(head1)"
   ]
  },
  {
   "cell_type": "markdown",
   "id": "780f96ec",
   "metadata": {},
   "source": [
    "Delete the head of a DLL"
   ]
  },
  {
   "cell_type": "code",
   "execution_count": 71,
   "id": "6f37815e",
   "metadata": {},
   "outputs": [
    {
     "name": "stdout",
     "output_type": "stream",
     "text": [
      "50->\n",
      "\n",
      "5->10->15->20->30->\n",
      "10->15->20->30->"
     ]
    }
   ],
   "source": [
    "#O(1)\n",
    "def delHeadDLL(head):\n",
    "    if head == None or head.next == None:\n",
    "        return None\n",
    "    \n",
    "    head = head.next\n",
    "    head.prev = None\n",
    "    return head\n",
    "\n",
    "head2 = DLLNode(50)\n",
    "DLLTraverseForward(head2)\n",
    "print()\n",
    "head2 = delHeadDLL(head2)\n",
    "DLLTraverseForward(head2)\n",
    "print()\n",
    "\n",
    "DLLTraverseForward(head1)\n",
    "print()\n",
    "head1 = delHeadDLL(head1)\n",
    "DLLTraverseForward(head1)"
   ]
  },
  {
   "cell_type": "markdown",
   "id": "2923e145",
   "metadata": {},
   "source": [
    "Delete tail of a DLL"
   ]
  },
  {
   "cell_type": "code",
   "execution_count": 72,
   "id": "e8f8a7f9",
   "metadata": {},
   "outputs": [
    {
     "name": "stdout",
     "output_type": "stream",
     "text": [
      "40->\n",
      "\n",
      "10->15->20->30->\n",
      "10->15->20->"
     ]
    }
   ],
   "source": [
    "#O(N)\n",
    "def delEndDLL(head):\n",
    "    if head == None or head.next == None:\n",
    "        return None\n",
    "    \n",
    "    curr = head\n",
    "    while curr.next != None:\n",
    "        curr=curr.next\n",
    "        \n",
    "    curr.prev.next = None\n",
    "    return head\n",
    "\n",
    "head3 = DLLNode(40)\n",
    "DLLTraverseForward(head3)\n",
    "print()\n",
    "head3 = delEndDLL(head3)\n",
    "DLLTraverseForward(head3)\n",
    "print()\n",
    "\n",
    "DLLTraverseForward(head1)\n",
    "print()\n",
    "head1 = delEndDLL(head1)\n",
    "DLLTraverseForward(head1)"
   ]
  },
  {
   "cell_type": "markdown",
   "id": "84a998cc",
   "metadata": {},
   "source": [
    "Reverse a DLL"
   ]
  },
  {
   "cell_type": "code",
   "execution_count": null,
   "id": "7b1dc299",
   "metadata": {},
   "outputs": [
    {
     "name": "stdout",
     "output_type": "stream",
     "text": [
      "10->15->20->\n",
      "20->15->10->\n",
      "40->\n",
      "40->"
     ]
    }
   ],
   "source": [
    "#Approach 1 - Swap the prev and next references of each node - O(N), use this technique if only ForwardTraversal(i.e, using next reference) is allowed\n",
    "def reverseDLL1(head):\n",
    "    if head == None:\n",
    "        return\n",
    "    \n",
    "    curr = head\n",
    "    while curr.next != None:\n",
    "        nextRef = curr.next\n",
    "        curr.next, curr.prev = curr.prev, curr.next\n",
    "        curr = nextRef\n",
    "    \n",
    "    curr.next, curr.prev = curr.prev, curr.next\n",
    "    head = curr\n",
    "    return head\n",
    "\n",
    "DLLTraverseForward(head1)\n",
    "print()\n",
    "head1 = reverseDLL1(head1)\n",
    "DLLTraverseForward(head1)\n",
    "print()\n",
    "\n",
    "head3 = DLLNode(40)\n",
    "DLLTraverseForward(head3)\n",
    "print()\n",
    "head3 = reverseDLL1(head3)\n",
    "DLLTraverseForward(head3)\n",
    "    "
   ]
  },
  {
   "cell_type": "code",
   "execution_count": null,
   "id": "ebf8eceb",
   "metadata": {},
   "outputs": [
    {
     "name": "stdout",
     "output_type": "stream",
     "text": [
      "20->15->10->\n",
      "10->15->20->"
     ]
    }
   ],
   "source": [
    "#Approach 2 - Make the last node as head, and do reverse traversal(i.e, using prev reference) (also if any other logic is based on traversal starting from head, then must reverse traversal only)\n",
    "def reverseDLL(head):\n",
    "    if head == None:\n",
    "        return\n",
    "    \n",
    "    curr = head\n",
    "    while curr.next != None:\n",
    "        curr = curr.next\n",
    "        \n",
    "    head = curr\n",
    "    return head\n",
    "\n",
    "DLLTraverseForward(head1)\n",
    "print()\n",
    "head1 = reverseDLL(head1)\n",
    "DLLTraverseReverse(head1)\n"
   ]
  },
  {
   "cell_type": "code",
   "execution_count": null,
   "id": "f57ddeca",
   "metadata": {},
   "outputs": [],
   "source": []
  }
 ],
 "metadata": {
  "kernelspec": {
   "display_name": "base",
   "language": "python",
   "name": "python3"
  },
  "language_info": {
   "codemirror_mode": {
    "name": "ipython",
    "version": 3
   },
   "file_extension": ".py",
   "mimetype": "text/x-python",
   "name": "python",
   "nbconvert_exporter": "python",
   "pygments_lexer": "ipython3",
   "version": "3.11.8"
  }
 },
 "nbformat": 4,
 "nbformat_minor": 5
}
