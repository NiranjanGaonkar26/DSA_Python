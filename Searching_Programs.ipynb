{
 "cells": [
  {
   "cell_type": "markdown",
   "metadata": {},
   "source": [
    "Binary Search - O(n)\n",
    "                Works only if the array is sorted"
   ]
  },
  {
   "cell_type": "code",
   "execution_count": null,
   "metadata": {},
   "outputs": [
    {
     "data": {
      "text/plain": [
       "3"
      ]
     },
     "execution_count": 5,
     "metadata": {},
     "output_type": "execute_result"
    }
   ],
   "source": [
    "#Linear Search - O(n)\n",
    "def search(l, x):\n",
    "    index = 0\n",
    "    for e in l:\n",
    "        if e == x:\n",
    "            return index\n",
    "        index+=1\n",
    "        \n",
    "    return -1\n",
    "\n",
    "search([2,3,4,10], 10)\n",
    "    "
   ]
  },
  {
   "cell_type": "code",
   "execution_count": 2,
   "metadata": {},
   "outputs": [
    {
     "name": "stdout",
     "output_type": "stream",
     "text": [
      "1\n",
      "-1\n"
     ]
    }
   ],
   "source": [
    "#Binary Search(Itr Approach) - preferred since Aux space: O(1)\n",
    "def binarySearchItr(arr, x):\n",
    "    low = 0\n",
    "    high = len(arr) - 1\n",
    "    \n",
    "    while low <= high:\n",
    "        mid = (low+high)//2\n",
    "        if x == arr[mid]:\n",
    "            return mid\n",
    "        elif x > arr[mid]:\n",
    "            low = mid + 1\n",
    "        else:\n",
    "            high = mid - 1\n",
    "    \n",
    "    return -1\n",
    "\n",
    "print(binarySearchItr([10,20,30,40], 20))\n",
    "print(binarySearchItr([10,20,30,40], 25))"
   ]
  },
  {
   "cell_type": "code",
   "execution_count": 3,
   "metadata": {},
   "outputs": [
    {
     "name": "stdout",
     "output_type": "stream",
     "text": [
      "5\n",
      "-1\n"
     ]
    }
   ],
   "source": [
    "#Binary Search(Recursive Approach) - Aux Space: O(log n)\n",
    "def binarySearch2(l, x, low, high):\n",
    "    if low > high:\n",
    "        return -1\n",
    "    \n",
    "    mid = (low+high)//2\n",
    "   \n",
    "    if x == l[mid]:\n",
    "        return mid\n",
    "    elif x > l[mid]:\n",
    "        return binarySearch2(l, x, mid+1, high)\n",
    "    else:\n",
    "        return binarySearch2(l, x, low, mid-1)\n",
    "\n",
    "l = [1, 10, 10, 10, 20, 20, 40]\n",
    "x = 20\n",
    "print(binarySearch2(l, x, 0, len(l) - 1))\n",
    "print(binarySearch2(l, 25, 0, len(l) - 1))"
   ]
  },
  {
   "cell_type": "markdown",
   "metadata": {},
   "source": [
    "Index of first occurence in a sorted array"
   ]
  },
  {
   "cell_type": "code",
   "execution_count": 32,
   "metadata": {},
   "outputs": [
    {
     "data": {
      "text/plain": [
       "1"
      ]
     },
     "execution_count": 32,
     "metadata": {},
     "output_type": "execute_result"
    }
   ],
   "source": [
    "def firstOccurence(l ,x):\n",
    "    low = 0\n",
    "    high = len(l)-1\n",
    "    \n",
    "    while low <= high:\n",
    "        mid = (low+high)//2\n",
    "        if x > l[mid]:\n",
    "            low = mid+1\n",
    "        elif x < l[mid]:\n",
    "            high = mid-1\n",
    "        else:\n",
    "            if mid == 0 or l[mid - 1] != l[mid]:\n",
    "                return mid\n",
    "            else:\n",
    "                high = mid-1\n",
    "    \n",
    "    return -1\n",
    "\n",
    "firstOccurence([1,10,10,10,10,20,20,30],10)"
   ]
  },
  {
   "cell_type": "markdown",
   "metadata": {},
   "source": [
    "Index of last occurence in a sorted list"
   ]
  },
  {
   "cell_type": "code",
   "execution_count": 14,
   "metadata": {},
   "outputs": [
    {
     "data": {
      "text/plain": [
       "5"
      ]
     },
     "execution_count": 14,
     "metadata": {},
     "output_type": "execute_result"
    }
   ],
   "source": [
    "def lastOccurence(l, x):\n",
    "    low = 0\n",
    "    high = len(l) - 1\n",
    "    \n",
    "    while low <= high:\n",
    "        mid = (low+high)//2\n",
    "        if x > l[mid]:\n",
    "            low = mid+1\n",
    "        elif x < l[mid]:\n",
    "            high = mid-1\n",
    "        else:\n",
    "            if mid == len(l)-1 or l[mid+1] != l[mid]:\n",
    "                return mid\n",
    "            else:\n",
    "                low = mid+1\n",
    "    return -1\n",
    "\n",
    "lastOccurence([10, 15, 20, 20, 40, 40], 40)"
   ]
  },
  {
   "cell_type": "markdown",
   "metadata": {},
   "source": [
    "Count Occurences of an element in a Sorted Array"
   ]
  },
  {
   "cell_type": "code",
   "execution_count": null,
   "metadata": {},
   "outputs": [
    {
     "data": {
      "text/plain": [
       "2"
      ]
     },
     "execution_count": 9,
     "metadata": {},
     "output_type": "execute_result"
    }
   ],
   "source": [
    "# Naive Appraoch - Linear Search O(n)\n",
    "\n",
    "def countOccurences1(l, x):\n",
    "    count = 0\n",
    "    for i in l:\n",
    "        if i == x:\n",
    "            count += 1\n",
    "    return count\n",
    "\n",
    "countOccurences1([10,20,20,20,30,30], 30)"
   ]
  },
  {
   "cell_type": "code",
   "execution_count": 15,
   "metadata": {},
   "outputs": [
    {
     "data": {
      "text/plain": [
       "2"
      ]
     },
     "execution_count": 15,
     "metadata": {},
     "output_type": "execute_result"
    }
   ],
   "source": [
    "# Optimized Approach - Binary Search (By using the firstOccurence and lastOccurence functions)\n",
    "\n",
    "def countOccurences2(l, x):\n",
    "    first = firstOccurence(l, x)\n",
    "    \n",
    "    if first == -1:\n",
    "        return 0\n",
    "    else:\n",
    "        return (lastOccurence(l, x) - first) + 1\n",
    "    \n",
    "countOccurences2([10,20,20,20,30,30], 30)"
   ]
  },
  {
   "cell_type": "markdown",
   "metadata": {},
   "source": [
    "Count 1's in a Sorted binary list (eg [0,0,0,1,1,1,1,1])"
   ]
  },
  {
   "cell_type": "code",
   "execution_count": 36,
   "metadata": {},
   "outputs": [
    {
     "data": {
      "text/plain": [
       "3"
      ]
     },
     "execution_count": 36,
     "metadata": {},
     "output_type": "execute_result"
    }
   ],
   "source": [
    "def countOnes(l):\n",
    "    first1Index = firstOccurence(l, 1)\n",
    "    \n",
    "    if first1Index == -1:\n",
    "        return 0\n",
    "    else:\n",
    "        return (len(l)-1)-first1Index+1\n",
    "    \n",
    "       \n",
    "          \n",
    "countOnes([0,0,1,1,1])  "
   ]
  },
  {
   "cell_type": "markdown",
   "metadata": {},
   "source": [
    "Floor of Square root of an integer "
   ]
  },
  {
   "cell_type": "code",
   "execution_count": 41,
   "metadata": {},
   "outputs": [
    {
     "data": {
      "text/plain": [
       "1"
      ]
     },
     "execution_count": 41,
     "metadata": {},
     "output_type": "execute_result"
    }
   ],
   "source": [
    "#Optimal solution - using the logic of binary search\n",
    "def FloorSqRoot(n):\n",
    "    low = 1\n",
    "    high = n\n",
    "    ans = 1\n",
    "    \n",
    "    while low<=high:\n",
    "        mid = (low+high)//2\n",
    "        midSquare = mid * mid\n",
    "        if midSquare == n:\n",
    "            return mid\n",
    "        elif midSquare > n:\n",
    "            high = mid - 1\n",
    "        else:\n",
    "            low = mid + 1\n",
    "            ans = mid\n",
    "    \n",
    "    return ans \n",
    "            \n",
    "FloorSqRoot(1)"
   ]
  },
  {
   "cell_type": "markdown",
   "metadata": {},
   "source": [
    "Peak Element (GFG Question)"
   ]
  },
  {
   "cell_type": "code",
   "execution_count": 9,
   "metadata": {},
   "outputs": [
    {
     "name": "stdout",
     "output_type": "stream",
     "text": [
      "4\n",
      "3\n",
      "0\n",
      "1\n",
      "0\n",
      "0\n"
     ]
    }
   ],
   "source": [
    "#Appraoch 1: Linear Search approach. Time: O(N), Space: O(1)\n",
    "def peakLinear(arr):\n",
    "    n = len(arr)\n",
    "    if n == 1:\n",
    "        return 0\n",
    "    for i in range(n):\n",
    "        if i == 0 and arr[i] > arr[i+1]:\n",
    "            return i\n",
    "        if i == n-1 and arr[i] > arr[i-1]:\n",
    "            return i\n",
    "        if arr[i] > arr[i-1] and arr[i] > arr[i+1]:\n",
    "            return i\n",
    "\n",
    "print(peakLinear([1,2,5,7,8,3]))\n",
    "print(peakLinear([1,2,3,4]))\n",
    "print(peakLinear([4,2,3,1]))\n",
    "print(peakLinear([5,6]))\n",
    "print(peakLinear([6,5]))\n",
    "print(peakLinear([10]))\n",
    "\n"
   ]
  },
  {
   "cell_type": "code",
   "execution_count": 10,
   "metadata": {},
   "outputs": [
    {
     "name": "stdout",
     "output_type": "stream",
     "text": [
      "4\n",
      "3\n",
      "0\n",
      "1\n",
      "0\n",
      "0\n"
     ]
    }
   ],
   "source": [
    "import math\n",
    "#Approach 2: Binary Search Approach\n",
    "def peakBinary(arr):\n",
    "    n = len(arr)\n",
    "    low = 0\n",
    "    high = n-1\n",
    "    \n",
    "    while low <= high:\n",
    "        mid = (low+high)//2\n",
    "        \n",
    "        if mid == 0:\n",
    "            left = -math.inf\n",
    "        else:\n",
    "            left = arr[mid - 1]\n",
    "        \n",
    "        if mid == n-1:\n",
    "            right = -math.inf\n",
    "        else:\n",
    "            right = arr[mid + 1]\n",
    "        \n",
    "        if arr[mid] > left and arr[mid] > right:\n",
    "            return mid\n",
    "        elif left > arr[mid]:\n",
    "            high = mid - 1 \n",
    "        else:\n",
    "            low = mid + 1\n",
    "\n",
    "print(peakBinary([1,2,5,7,8,3]))\n",
    "print(peakBinary([1,2,3,4]))\n",
    "print(peakBinary([4,2,3,1]))\n",
    "print(peakBinary([5,6]))\n",
    "print(peakBinary([6,5]))\n",
    "print(peakBinary([10]))"
   ]
  },
  {
   "cell_type": "code",
   "execution_count": null,
   "metadata": {},
   "outputs": [],
   "source": []
  }
 ],
 "metadata": {
  "kernelspec": {
   "display_name": "base",
   "language": "python",
   "name": "python3"
  },
  "language_info": {
   "codemirror_mode": {
    "name": "ipython",
    "version": 3
   },
   "file_extension": ".py",
   "mimetype": "text/x-python",
   "name": "python",
   "nbconvert_exporter": "python",
   "pygments_lexer": "ipython3",
   "version": "3.11.8"
  }
 },
 "nbformat": 4,
 "nbformat_minor": 2
}
