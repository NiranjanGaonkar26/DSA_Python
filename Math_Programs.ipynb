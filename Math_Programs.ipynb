{
 "cells": [
  {
   "cell_type": "markdown",
   "metadata": {},
   "source": [
    "Palidrome Number"
   ]
  },
  {
   "cell_type": "code",
   "execution_count": 8,
   "metadata": {},
   "outputs": [
    {
     "name": "stdout",
     "output_type": "stream",
     "text": [
      "Not a palindrome number\n"
     ]
    }
   ],
   "source": [
    "no = int(input(\"Enter a number >=0\"))\n",
    "newno = no\n",
    "temp = 0\n",
    "while newno > 0:\n",
    "    temp = (temp*10)+(newno%10)\n",
    "    newno = newno//10\n",
    "    \n",
    "if temp == no:\n",
    "    print(\"Palindrome number\")\n",
    "else:\n",
    "    print(\"Not a palindrome number\")"
   ]
  },
  {
   "cell_type": "markdown",
   "metadata": {},
   "source": [
    "Factorial of a Number"
   ]
  },
  {
   "cell_type": "code",
   "execution_count": 3,
   "metadata": {},
   "outputs": [
    {
     "name": "stdout",
     "output_type": "stream",
     "text": [
      "The fact of 0 is 1\n"
     ]
    }
   ],
   "source": [
    "no = int(input(\"Enter a number >= 0\"))\n",
    "temp = 1\n",
    "\n",
    "for i in range(2,no+1):\n",
    "    temp*=i\n",
    "        \n",
    "print(\"The fact of {} is {}\".format(no, temp))"
   ]
  },
  {
   "cell_type": "code",
   "execution_count": 11,
   "metadata": {},
   "outputs": [
    {
     "name": "stdout",
     "output_type": "stream",
     "text": [
      "120\n"
     ]
    }
   ],
   "source": [
    "no = int(input(\"Enter a number >= 0\"))\n",
    "def fact(number):\n",
    "    if number == 0:\n",
    "        return 1\n",
    "    else:\n",
    "        return number * fact(number-1)\n",
    "\n",
    "res = fact(no)\n",
    "print(res)"
   ]
  },
  {
   "cell_type": "markdown",
   "metadata": {},
   "source": [
    "GCD/HCF of 2 Numbers"
   ]
  },
  {
   "cell_type": "code",
   "execution_count": null,
   "metadata": {},
   "outputs": [],
   "source": [
    "# Bad solution -> don't go from 1 to min(a,b)\n",
    "a = int(input(\"Enter a\"))\n",
    "b = int(input(\"Enter b\"))\n",
    "divisors = []\n",
    "GCD = 1\n",
    "\n",
    "small = min(a,b)\n",
    "large = max(a,b)\n",
    "\n",
    "if large%small == 0:\n",
    "    GCD = small\n",
    "    \n",
    "else:\n",
    "    for i in range(1, small+1):\n",
    "        if (a%i == 0) and (b%i == 0):\n",
    "            divisors.append(i)\n",
    "    GCD = max(divisors)\n",
    "    \n",
    "print(GCD)"
   ]
  },
  {
   "cell_type": "code",
   "execution_count": 10,
   "metadata": {},
   "outputs": [
    {
     "name": "stdout",
     "output_type": "stream",
     "text": [
      "7\n"
     ]
    }
   ],
   "source": [
    "# Naive Approach -> go from min(a,b) to 1\n",
    "a = int(input(\"Enter a\"))\n",
    "b = int(input(\"Enter b\"))\n",
    "\n",
    "GCD = min(a,b)\n",
    "\n",
    "for i in range(min(a,b), 0, -1):\n",
    "    if (a%i == 0) and (b%i == 0):\n",
    "        GCD = i\n",
    "        break\n",
    "\n",
    "print(GCD)"
   ]
  },
  {
   "cell_type": "code",
   "execution_count": 31,
   "metadata": {},
   "outputs": [
    {
     "name": "stdout",
     "output_type": "stream",
     "text": [
      "2\n"
     ]
    }
   ],
   "source": [
    "def gcd(a, b):\n",
    "    small = min(a,b)\n",
    "    big = max(a,b)\n",
    "    \n",
    "    if big%small == 0:\n",
    "        return small\n",
    "    else:\n",
    "        return gcd(small, big%small)\n",
    "    \n",
    "print(gcd(44,1598))"
   ]
  },
  {
   "cell_type": "code",
   "execution_count": 30,
   "metadata": {},
   "outputs": [
    {
     "name": "stdout",
     "output_type": "stream",
     "text": [
      "2\n"
     ]
    }
   ],
   "source": [
    "#Optimal Euclidean Algorithm\n",
    "def gcd(a,b):\n",
    "    if b==0:\n",
    "        return a\n",
    "    \n",
    "    return gcd(b, a%b)\n",
    "\n",
    "print(gcd(44,1598))"
   ]
  },
  {
   "cell_type": "markdown",
   "metadata": {},
   "source": [
    "LCM of 2 Numbers"
   ]
  },
  {
   "cell_type": "code",
   "execution_count": 34,
   "metadata": {},
   "outputs": [
    {
     "name": "stdout",
     "output_type": "stream",
     "text": [
      "20\n"
     ]
    }
   ],
   "source": [
    "# Naive Solution\n",
    "def lcm(a, b):\n",
    "    res = max(a,b)\n",
    "    \n",
    "    while True:\n",
    "        if (res%a == 0) and (res%b == 0):\n",
    "            break\n",
    "        res = res+1\n",
    "    \n",
    "    return res\n",
    "\n",
    "print(lcm(4,5))"
   ]
  },
  {
   "cell_type": "code",
   "execution_count": 39,
   "metadata": {},
   "outputs": [
    {
     "name": "stdout",
     "output_type": "stream",
     "text": [
      "12\n"
     ]
    }
   ],
   "source": [
    "# Use the formula a*b = gcd(a,b) * lcm(a,b)\n",
    "\n",
    "def gcd(a,b):\n",
    "    if b == 0:\n",
    "        return a\n",
    "    return gcd(b, a%b)\n",
    "\n",
    "def lcm(a,b):\n",
    "    return (a*b) // gcd(a,b)\n",
    "\n",
    "print(lcm(4,6))"
   ]
  },
  {
   "cell_type": "markdown",
   "metadata": {},
   "source": [
    "Prime Number"
   ]
  },
  {
   "cell_type": "code",
   "execution_count": 13,
   "metadata": {},
   "outputs": [
    {
     "name": "stdout",
     "output_type": "stream",
     "text": [
      "Not a prime\n"
     ]
    }
   ],
   "source": [
    "# Naive approach, 1 is neither prime nor composite\n",
    "\n",
    "def isPrime(n):\n",
    "    if n == 1:\n",
    "        return 0\n",
    "    \n",
    "    for i in range(2,n):\n",
    "        if n % i == 0:\n",
    "            return 0\n",
    "        \n",
    "    return 1\n",
    "\n",
    "if isPrime(39):\n",
    "    print(\"Prime Number\")\n",
    "else:\n",
    "    print(\"Not a prime\")"
   ]
  },
  {
   "cell_type": "code",
   "execution_count": 20,
   "metadata": {},
   "outputs": [
    {
     "name": "stdout",
     "output_type": "stream",
     "text": [
      "Prime\n"
     ]
    }
   ],
   "source": [
    "# Efficient Approach (check from i = 2 to sqrt(n) alternatively i*i <= n)\n",
    "def isPrime(n):\n",
    "    if n == 1:\n",
    "        return False\n",
    "    \n",
    "    i = 2\n",
    "    while (i*i<=n):\n",
    "        if n%i == 0:\n",
    "            return False\n",
    "        i+=1\n",
    "        \n",
    "    return True\n",
    "\n",
    "print(\"Prime\") if isPrime(7) else print(\"Not prime\")"
   ]
  },
  {
   "cell_type": "markdown",
   "metadata": {},
   "source": [
    "Prime Factorization"
   ]
  },
  {
   "cell_type": "code",
   "execution_count": 27,
   "metadata": {},
   "outputs": [
    {
     "name": "stdout",
     "output_type": "stream",
     "text": [
      "5\n",
      "5\n"
     ]
    }
   ],
   "source": [
    "#naive approach: For each prime from 2 to n,\n",
    "                    # 1. check the greatest power of that prime factor that divides n => number of times that prime factor divides the number\n",
    "def primeFactors(n):\n",
    "    for i in range(2, n+1):\n",
    "        if isPrime(i):\n",
    "            x = i\n",
    "            while n%x == 0:\n",
    "                print(i)\n",
    "                x=x*i\n",
    "primeFactors(25)"
   ]
  },
  {
   "cell_type": "markdown",
   "metadata": {},
   "source": [
    "All Divisors of a Number"
   ]
  },
  {
   "cell_type": "code",
   "execution_count": 6,
   "metadata": {},
   "outputs": [
    {
     "name": "stdout",
     "output_type": "stream",
     "text": [
      "1\n",
      "25\n",
      "5\n"
     ]
    }
   ],
   "source": [
    "# Efficient Solution O(n^1/2) solution, but the divisors will not be printed in sorted order\n",
    "def allDivisors(n):\n",
    "    i = 1\n",
    "\n",
    "    while(i*i <= n):\n",
    "        if n%i == 0:\n",
    "            print(i)\n",
    "            if(i != n//i):\n",
    "                print(n//i)\n",
    "        i += 1\n",
    "        \n",
    "allDivisors(25)"
   ]
  },
  {
   "cell_type": "code",
   "execution_count": 34,
   "metadata": {},
   "outputs": [
    {
     "name": "stdout",
     "output_type": "stream",
     "text": [
      "1\n",
      "2\n",
      "4\n",
      "5\n",
      "10\n",
      "25\n",
      "50\n",
      "100\n"
     ]
    }
   ],
   "source": [
    "#Efficient solution O(n^1/2) solution, all divisors will be printed in sorted order\n",
    "def allDivisorsSorted(n):\n",
    "    i = 1\n",
    "    \n",
    "    while i*i<n:                                        #Print all smaller divisors(i.e, x) till root(n) (Excluded)\n",
    "        if n%i == 0:\n",
    "            print(i)\n",
    "        i += 1                                          \n",
    "                                                        # i>=root(n) at this point\n",
    "        \n",
    "    while i>1:                                          #Print all larger divisors(i.e, y) \n",
    "        if i!=2:\n",
    "            if n%i == 0 and n%(i-1) == 0:               # Handle repetitive printing of the smaller divisor in case of consecutive numbers as divisors (eg. 5,6)\n",
    "                i -= 1\n",
    "                continue\n",
    "        if n%i == 0:\n",
    "            print(n//i)\n",
    "        i -= 1\n",
    "    print(n)\n",
    "    \n",
    "allDivisorsSorted(100)"
   ]
  },
  {
   "cell_type": "markdown",
   "metadata": {},
   "source": [
    "Sieve Of Eratosthenes\n",
    "Optimal solution intuition: https://www.geeksforgeeks.org/sieve-of-eratosthenes/"
   ]
  },
  {
   "cell_type": "code",
   "execution_count": 38,
   "metadata": {},
   "outputs": [
    {
     "name": "stdout",
     "output_type": "stream",
     "text": [
      "2 3 5 7 11 13 17 19 23 29 "
     ]
    }
   ],
   "source": [
    "def sieveOfEratosthenes(n):\n",
    "    \n",
    "    primeList = [True for i in range(n+1)]\n",
    "    \n",
    "    i = 2\n",
    "    while (i*i <= n):\n",
    "        if primeList[i]:\n",
    "            for j in range(i*i, n+1, i):\n",
    "                primeList[j] = False\n",
    "        i+=1\n",
    "        \n",
    "    for i in range(2, n+1):\n",
    "        if primeList[i]:\n",
    "            print(i, end=\" \")\n",
    "            \n",
    "sieveOfEratosthenes(30)"
   ]
  },
  {
   "cell_type": "markdown",
   "metadata": {},
   "source": [
    "Compute power pow(x,n)"
   ]
  },
  {
   "cell_type": "code",
   "execution_count": 10,
   "metadata": {},
   "outputs": [
    {
     "data": {
      "text/plain": [
       "1024"
      ]
     },
     "execution_count": 10,
     "metadata": {},
     "output_type": "execute_result"
    }
   ],
   "source": [
    "#Naive solution - O(n)\n",
    "def pow(x,n):\n",
    "    power = 1\n",
    "    for i in range(n):\n",
    "        power = power * x\n",
    "    return power\n",
    "    \n",
    "pow(2, 10)"
   ]
  },
  {
   "cell_type": "code",
   "execution_count": 24,
   "metadata": {},
   "outputs": [
    {
     "data": {
      "text/plain": [
       "19683"
      ]
     },
     "execution_count": 24,
     "metadata": {},
     "output_type": "execute_result"
    }
   ],
   "source": [
    "# Recursive Solution - O(log(n)) time and space\n",
    "def pow(x, n):\n",
    "    if n == 0:\n",
    "        return 1\n",
    "    \n",
    "    if n%2 == 0:\n",
    "        res = pow(x, n//2)\n",
    "        return res * res\n",
    "    \n",
    "    else:\n",
    "        res = pow(x, n//2)\n",
    "        return res*res*x\n",
    "    \n",
    "pow(3,9)"
   ]
  },
  {
   "cell_type": "code",
   "execution_count": 3,
   "metadata": {},
   "outputs": [
    {
     "data": {
      "text/plain": [
       "243"
      ]
     },
     "execution_count": 3,
     "metadata": {},
     "output_type": "execute_result"
    }
   ],
   "source": [
    "# Iterative Solution - Optimal O(log(n)) time and O(1) space\n",
    "def powI(x,n):\n",
    "    res = 1\n",
    "    while n!=0:\n",
    "        if n%2 != 0:            # bit 1 from LSB to MSB\n",
    "            res = res*x\n",
    "        else:                   # bit 0 from LSB to MSB\n",
    "            pass\n",
    "        x = x*x\n",
    "        n=n//2\n",
    "    \n",
    "    return res\n",
    "        \n",
    "powI(3,5)"
   ]
  }
 ],
 "metadata": {
  "kernelspec": {
   "display_name": "base",
   "language": "python",
   "name": "python3"
  },
  "language_info": {
   "codemirror_mode": {
    "name": "ipython",
    "version": 3
   },
   "file_extension": ".py",
   "mimetype": "text/x-python",
   "name": "python",
   "nbconvert_exporter": "python",
   "pygments_lexer": "ipython3",
   "version": "3.11.8"
  }
 },
 "nbformat": 4,
 "nbformat_minor": 2
}
