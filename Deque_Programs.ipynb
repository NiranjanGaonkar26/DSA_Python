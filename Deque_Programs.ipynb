{
 "cells": [
  {
   "cell_type": "markdown",
   "id": "719f6e60",
   "metadata": {},
   "source": [
    "Demonstrating collections.deque"
   ]
  },
  {
   "cell_type": "code",
   "execution_count": 1,
   "id": "7864b7a5",
   "metadata": {},
   "outputs": [],
   "source": [
    "from collections import deque"
   ]
  },
  {
   "cell_type": "code",
   "execution_count": 4,
   "id": "7145e5ce",
   "metadata": {},
   "outputs": [
    {
     "name": "stdout",
     "output_type": "stream",
     "text": [
      "deque([40, 10, 20, 30])\n",
      "30\n",
      "deque([40, 10, 20])\n",
      "40\n",
      "deque([10, 20])\n"
     ]
    }
   ],
   "source": [
    "d = deque()\n",
    "d.append(10)                   #append <=> insert rear\n",
    "d.append(20)\n",
    "d.append(30)\n",
    "d.appendleft(40)               #appendleft <=> insert front\n",
    "print(d)\n",
    "print(d.pop())                 #pop <=> delete rear\n",
    "print(d)\n",
    "print(d.popleft())             #pop <=> delete front\n",
    "print(d)"
   ]
  },
  {
   "cell_type": "code",
   "execution_count": 6,
   "id": "9923a166",
   "metadata": {},
   "outputs": [
    {
     "name": "stdout",
     "output_type": "stream",
     "text": [
      "deque([10, 20, 10, 30, 40, 50])\n",
      "2\n",
      "deque([20, 10, 30, 40, 50])\n",
      "deque([20, 10, 30, 40, 50, 50, 60])\n",
      "deque([25, 15, 20, 10, 30, 40, 50, 50, 60])\n"
     ]
    }
   ],
   "source": [
    "d1 = deque([10,20,30,40,50])        #Initiates a deque object with the data items from an iterable\n",
    "d1.insert(2, 10)                    #insert(index, data)\n",
    "print(d1)\n",
    "print(d1.count(10))\n",
    "d1.remove(10)                       #remove(data)-> Removes the 1st occurence of data\n",
    "print(d1)\n",
    "d1.extend([50,60])                  #inserts multiple items to the rear\n",
    "print(d1)\n",
    "d1.extendleft([15,25])              #inserts multiple items to the front\n",
    "print(d1)"
   ]
  },
  {
   "cell_type": "code",
   "execution_count": 8,
   "id": "af043c4d",
   "metadata": {},
   "outputs": [
    {
     "name": "stdout",
     "output_type": "stream",
     "text": [
      "deque([40, 50, 10, 20, 30])\n",
      "deque([10, 20, 30, 40, 50])\n",
      "deque([50, 40, 30, 20, 10])\n"
     ]
    }
   ],
   "source": [
    "d2 = deque([10, 20, 30, 40, 50])\n",
    "d2.rotate(2)             #Rotates the deque clock wise by given no. of positions\n",
    "print(d2)\n",
    "d2.rotate(-2)            #Rotates the deque counter clock wise by given no. of positions\n",
    "print(d2)\n",
    "d2.reverse()\n",
    "print(d2)"
   ]
  },
  {
   "cell_type": "code",
   "execution_count": 11,
   "id": "d7e94e3e",
   "metadata": {},
   "outputs": [
    {
     "name": "stdout",
     "output_type": "stream",
     "text": [
      "33\n",
      "deque([50, 40, 33, 20, 10])\n",
      "50\n",
      "10\n"
     ]
    }
   ],
   "source": [
    "#deque can be indexed as well BUT CANNOT BE SLICED\n",
    "print(d2[2])\n",
    "d2[2] = 33\n",
    "print(d2)\n",
    "print(d2[0])\n",
    "print(d2[-1])\n",
    "#print(d2[0:4])        -> Error"
   ]
  },
  {
   "cell_type": "markdown",
   "id": "aa28ee07",
   "metadata": {},
   "source": [
    "Custom Deque implementation using DLL"
   ]
  },
  {
   "cell_type": "code",
   "execution_count": 28,
   "id": "392f00df",
   "metadata": {},
   "outputs": [
    {
     "name": "stdout",
     "output_type": "stream",
     "text": [
      "Front: 30\n",
      "Rear: 40\n",
      "Size: 4\n",
      "Is Empty?: False\n",
      "Front Del: 30\n",
      "Front: 20\n",
      "Rear Del: 40\n",
      "Rear: 10\n",
      "Size: 2\n"
     ]
    }
   ],
   "source": [
    "class Node:\n",
    "    def __init__(self, data):\n",
    "        self.data = data\n",
    "        self.prev = None\n",
    "        self.next = None\n",
    "        \n",
    "class Deque:\n",
    "    def __init__(self):\n",
    "        self.front = None\n",
    "        self.rear = None\n",
    "        self.size = 0\n",
    "    \n",
    "    def insertFront(self, data):\n",
    "        temp = Node(data)\n",
    "        if self.front == None:\n",
    "            self.front = temp\n",
    "            self.rear = temp\n",
    "            self.size += 1\n",
    "        else:\n",
    "            temp.next = self.front\n",
    "            self.front.prev = temp\n",
    "            self.front = temp\n",
    "            self.size += 1\n",
    "    \n",
    "    def insertRear(self, data):\n",
    "        temp = Node(data)\n",
    "        if self.rear == None:\n",
    "            self.rear = temp\n",
    "            self.front = temp\n",
    "            self.size += 1\n",
    "        else:\n",
    "            self.rear.next = temp\n",
    "            temp.prev = self.rear\n",
    "            self.rear = temp\n",
    "            self.size += 1\n",
    "            \n",
    "    def deleteFront(self):\n",
    "        if self.front == None:\n",
    "            return\n",
    "        \n",
    "        if self.front.next == None:\n",
    "            delItem = self.front.data\n",
    "            self.front = None\n",
    "            self.rear = None\n",
    "            self.size -= 1\n",
    "            return delItem\n",
    "        \n",
    "        delItem = self.front.data\n",
    "        self.front.next.prev = None\n",
    "        self.front = self.front.next\n",
    "        self.size -= 1\n",
    "        return delItem \n",
    "        \n",
    "    \n",
    "    def deleteRear(self):\n",
    "        if self.rear == None:\n",
    "            return\n",
    "        if self.rear.prev == None:\n",
    "            delItem = self.rear.data\n",
    "            self.rear = None\n",
    "            self.front = None\n",
    "            self.size -= 1\n",
    "            return delItem\n",
    "        \n",
    "        delItem = self.rear.data\n",
    "        self.rear.prev.next = None\n",
    "        self.rear = self.rear.prev\n",
    "        self.size -= 1\n",
    "        return delItem\n",
    "    \n",
    "    def getFront(self):\n",
    "        if self.front == None:\n",
    "            return\n",
    "        else:\n",
    "            return self.front.data\n",
    "    \n",
    "    def getRear(self):\n",
    "        if self.rear == None:\n",
    "            return\n",
    "        else:\n",
    "            return self.rear.data\n",
    "    \n",
    "    def getSize(self):\n",
    "        return self.size\n",
    "    \n",
    "    def isEmpty(self):\n",
    "        return (self.size == 0)\n",
    "    \n",
    "d = Deque()\n",
    "d.insertFront(10)\n",
    "d.insertFront(20)\n",
    "d.insertFront(30)\n",
    "print(f\"Front: {d.getFront()}\")\n",
    "d.insertRear(40)\n",
    "print(f\"Rear: {d.getRear()}\")\n",
    "print(f\"Size: {d.getSize()}\")\n",
    "print(f\"Is Empty?: {d.isEmpty()}\")\n",
    "print(f\"Front Del: {d.deleteFront()}\")\n",
    "print(f\"Front: {d.getFront()}\")\n",
    "print(f\"Rear Del: {d.deleteRear()}\")\n",
    "print(f\"Rear: {d.getRear()}\")\n",
    "print(f\"Size: {d.getSize()}\")"
   ]
  },
  {
   "cell_type": "markdown",
   "id": "806b3012",
   "metadata": {},
   "source": [
    "Deque implementation using circular list (To make insert and delete front O(1))"
   ]
  },
  {
   "cell_type": "code",
   "execution_count": 31,
   "id": "75e8aa6e",
   "metadata": {},
   "outputs": [
    {
     "name": "stdout",
     "output_type": "stream",
     "text": [
      "Front: 3\n",
      "Rear: 4\n",
      "Size: 4\n",
      "Is Empty?: False\n",
      "Front Del: 3\n",
      "Front: 2\n",
      "Rear Del: 4\n",
      "Rear: 1\n",
      "Size: 2\n"
     ]
    }
   ],
   "source": [
    "class DequeList:\n",
    "    def __init__(self, capacity):\n",
    "        self.deque = [None]*capacity\n",
    "        self.front = 0\n",
    "        self.rear = 0\n",
    "        self.size = 0\n",
    "        self.cap = capacity\n",
    "    \n",
    "    def insertFront(self, data):\n",
    "        if self.size == self.cap:\n",
    "            print(\"Overflow\")\n",
    "            return\n",
    "        else:\n",
    "            self.front = (self.front - 1) % self.cap            #Note: Python correctly handles -ve modulo. If it were java or C do: (front - 1 + cap)%cap\n",
    "            self.deque[self.front] = data\n",
    "            self.size += 1\n",
    "        \n",
    "    \n",
    "    def insertRear(self, data):\n",
    "        if self.size == self.cap:\n",
    "            print(\"Overflow\")\n",
    "            return\n",
    "        else:\n",
    "            self.deque[self.rear] = data\n",
    "            self.rear = (self.rear + 1) % self.cap\n",
    "            self.size += 1\n",
    "    \n",
    "    def deleteFront(self):\n",
    "        if self.size == 0:\n",
    "            print(\"Underflow\")\n",
    "            return\n",
    "        else:\n",
    "            delItem = self.deque[self.front]\n",
    "            self.deque[self.front] = None\n",
    "            self.front = (self.front + 1) % self.cap\n",
    "            self.size -= 1\n",
    "            return delItem\n",
    "    \n",
    "    def deleteRear(self):\n",
    "        if self.size == 0:\n",
    "            print(\"Underflow\")\n",
    "            return\n",
    "        else:\n",
    "            self.rear = (self.rear - 1) % self.cap\n",
    "            delItem = self.deque[self.rear]\n",
    "            self.deque[self.rear] = None\n",
    "            self.size -= 1\n",
    "            return delItem\n",
    "    \n",
    "    def getFront(self):\n",
    "        return self.deque[self.front]\n",
    "    \n",
    "    def getRear(self):\n",
    "        return self.deque[(self.rear - 1) % self.cap]\n",
    "    \n",
    "    def getSize(self):\n",
    "        return self.size\n",
    "    \n",
    "    def isEmpty(self):\n",
    "        return (self.size == 0)\n",
    "\n",
    "d1 = DequeList(4)\n",
    "d1.insertFront(1)\n",
    "d1.insertFront(2)\n",
    "d1.insertFront(3)\n",
    "print(f\"Front: {d1.getFront()}\")\n",
    "d1.insertRear(4)\n",
    "print(f\"Rear: {d1.getRear()}\")\n",
    "print(f\"Size: {d1.getSize()}\")\n",
    "print(f\"Is Empty?: {d1.isEmpty()}\")\n",
    "print(f\"Front Del: {d1.deleteFront()}\")\n",
    "print(f\"Front: {d1.getFront()}\")\n",
    "print(f\"Rear Del: {d1.deleteRear()}\")\n",
    "print(f\"Rear: {d1.getRear()}\")\n",
    "print(f\"Size: {d1.getSize()}\")\n"
   ]
  }
 ],
 "metadata": {
  "kernelspec": {
   "display_name": "base",
   "language": "python",
   "name": "python3"
  },
  "language_info": {
   "codemirror_mode": {
    "name": "ipython",
    "version": 3
   },
   "file_extension": ".py",
   "mimetype": "text/x-python",
   "name": "python",
   "nbconvert_exporter": "python",
   "pygments_lexer": "ipython3",
   "version": "3.11.8"
  }
 },
 "nbformat": 4,
 "nbformat_minor": 5
}
